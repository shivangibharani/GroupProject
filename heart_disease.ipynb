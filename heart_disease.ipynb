{
 "cells": [
  {
   "cell_type": "markdown",
   "id": "e677b0aa-2f61-47fb-b550-d54330c3ef8e",
   "metadata": {},
   "source": [
    "# The Heart of the Matter: Analyzing Predictors of Heart Disease\n",
    "\n"
   ]
  },
  {
   "cell_type": "markdown",
   "id": "606c07b4-d5eb-4ab0-a1d1-b30365dc7361",
   "metadata": {
    "tags": []
   },
   "source": [
    "## Introduction"
   ]
  },
  {
   "cell_type": "markdown",
   "id": "c3e591fc-3bef-4c09-8979-40278b8681ef",
   "metadata": {},
   "source": [
    "Heart disease is the number 1 cause of deaths worldwide, with no 'cure' of any kind. We can, however, try to identify possible factors that lead to higher risk of heart disease. We obtained a set of data collected by Robert Detrano, (M.D., Ph.D.) from the Long Beach and Cleveland Clinic Foundation. This data set contains a total of 76 attributes, of which 14 are used as primary data. We will be using this data to craft a model that attempts to predict whether or not age, sex, total cholestoral levels, maximum heart rate and number of major vessels affected by flourosopy affect the diagnosis of heart disease. "
   ]
  },
  {
   "cell_type": "markdown",
   "id": "ad7b94a0-8bb0-4493-a86f-82115450afde",
   "metadata": {
    "tags": []
   },
   "source": [
    "## Preliminary exploratory data analysis"
   ]
  },
  {
   "cell_type": "code",
   "execution_count": 2,
   "id": "1a3260e5-7e71-46c1-a9c0-ce39ec95ca04",
   "metadata": {},
   "outputs": [
    {
     "name": "stderr",
     "output_type": "stream",
     "text": [
      "── \u001b[1mAttaching packages\u001b[22m ─────────────────────────────────────── tidyverse 1.3.1 ──\n",
      "\n",
      "\u001b[32m✔\u001b[39m \u001b[34mggplot2\u001b[39m 3.3.6     \u001b[32m✔\u001b[39m \u001b[34mpurrr  \u001b[39m 0.3.4\n",
      "\u001b[32m✔\u001b[39m \u001b[34mtibble \u001b[39m 3.1.7     \u001b[32m✔\u001b[39m \u001b[34mdplyr  \u001b[39m 1.0.9\n",
      "\u001b[32m✔\u001b[39m \u001b[34mtidyr  \u001b[39m 1.2.0     \u001b[32m✔\u001b[39m \u001b[34mstringr\u001b[39m 1.4.0\n",
      "\u001b[32m✔\u001b[39m \u001b[34mreadr  \u001b[39m 2.1.2     \u001b[32m✔\u001b[39m \u001b[34mforcats\u001b[39m 0.5.1\n",
      "\n",
      "── \u001b[1mConflicts\u001b[22m ────────────────────────────────────────── tidyverse_conflicts() ──\n",
      "\u001b[31m✖\u001b[39m \u001b[34mdplyr\u001b[39m::\u001b[32mfilter()\u001b[39m masks \u001b[34mstats\u001b[39m::filter()\n",
      "\u001b[31m✖\u001b[39m \u001b[34mdplyr\u001b[39m::\u001b[32mlag()\u001b[39m    masks \u001b[34mstats\u001b[39m::lag()\n",
      "\n",
      "── \u001b[1mAttaching packages\u001b[22m ────────────────────────────────────── tidymodels 1.0.0 ──\n",
      "\n",
      "\u001b[32m✔\u001b[39m \u001b[34mbroom       \u001b[39m 1.0.0     \u001b[32m✔\u001b[39m \u001b[34mrsample     \u001b[39m 1.0.0\n",
      "\u001b[32m✔\u001b[39m \u001b[34mdials       \u001b[39m 1.0.0     \u001b[32m✔\u001b[39m \u001b[34mtune        \u001b[39m 1.0.0\n",
      "\u001b[32m✔\u001b[39m \u001b[34minfer       \u001b[39m 1.0.2     \u001b[32m✔\u001b[39m \u001b[34mworkflows   \u001b[39m 1.0.0\n",
      "\u001b[32m✔\u001b[39m \u001b[34mmodeldata   \u001b[39m 1.0.0     \u001b[32m✔\u001b[39m \u001b[34mworkflowsets\u001b[39m 1.0.0\n",
      "\u001b[32m✔\u001b[39m \u001b[34mparsnip     \u001b[39m 1.0.0     \u001b[32m✔\u001b[39m \u001b[34myardstick   \u001b[39m 1.0.0\n",
      "\u001b[32m✔\u001b[39m \u001b[34mrecipes     \u001b[39m 1.0.1     \n",
      "\n",
      "── \u001b[1mConflicts\u001b[22m ───────────────────────────────────────── tidymodels_conflicts() ──\n",
      "\u001b[31m✖\u001b[39m \u001b[34mscales\u001b[39m::\u001b[32mdiscard()\u001b[39m masks \u001b[34mpurrr\u001b[39m::discard()\n",
      "\u001b[31m✖\u001b[39m \u001b[34mdplyr\u001b[39m::\u001b[32mfilter()\u001b[39m   masks \u001b[34mstats\u001b[39m::filter()\n",
      "\u001b[31m✖\u001b[39m \u001b[34mrecipes\u001b[39m::\u001b[32mfixed()\u001b[39m  masks \u001b[34mstringr\u001b[39m::fixed()\n",
      "\u001b[31m✖\u001b[39m \u001b[34mdplyr\u001b[39m::\u001b[32mlag()\u001b[39m      masks \u001b[34mstats\u001b[39m::lag()\n",
      "\u001b[31m✖\u001b[39m \u001b[34myardstick\u001b[39m::\u001b[32mspec()\u001b[39m masks \u001b[34mreadr\u001b[39m::spec()\n",
      "\u001b[31m✖\u001b[39m \u001b[34mrecipes\u001b[39m::\u001b[32mstep()\u001b[39m   masks \u001b[34mstats\u001b[39m::step()\n",
      "\u001b[34m•\u001b[39m Use \u001b[32mtidymodels_prefer()\u001b[39m to resolve common conflicts.\n",
      "\n",
      "\n",
      "Attaching package: ‘gridExtra’\n",
      "\n",
      "\n",
      "The following object is masked from ‘package:dplyr’:\n",
      "\n",
      "    combine\n",
      "\n",
      "\n"
     ]
    }
   ],
   "source": [
    "library(tidyverse)\n",
    "library(tidymodels)\n",
    "library(gridExtra)"
   ]
  },
  {
   "cell_type": "code",
   "execution_count": 3,
   "id": "5c3af150-4c24-42fe-a4cc-6b270866e929",
   "metadata": {},
   "outputs": [
    {
     "name": "stderr",
     "output_type": "stream",
     "text": [
      "\u001b[1mRows: \u001b[22m\u001b[34m303\u001b[39m \u001b[1mColumns: \u001b[22m\u001b[34m14\u001b[39m\n",
      "\u001b[36m──\u001b[39m \u001b[1mColumn specification\u001b[22m \u001b[36m────────────────────────────────────────────────────────\u001b[39m\n",
      "\u001b[1mDelimiter:\u001b[22m \",\"\n",
      "\u001b[31mchr\u001b[39m  (2): X12, X13\n",
      "\u001b[32mdbl\u001b[39m (12): X1, X2, X3, X4, X5, X6, X7, X8, X9, X10, X11, X14\n",
      "\n",
      "\u001b[36mℹ\u001b[39m Use `spec()` to retrieve the full column specification for this data.\n",
      "\u001b[36mℹ\u001b[39m Specify the column types or set `show_col_types = FALSE` to quiet this message.\n"
     ]
    },
    {
     "data": {
      "text/html": [
       "<table class=\"dataframe\">\n",
       "<caption>A tibble: 6 × 14</caption>\n",
       "<thead>\n",
       "\t<tr><th scope=col>age</th><th scope=col>sex</th><th scope=col>cp</th><th scope=col>trestbps</th><th scope=col>chol</th><th scope=col>fbs</th><th scope=col>restecg</th><th scope=col>thalach</th><th scope=col>exang</th><th scope=col>oldpeak</th><th scope=col>slope</th><th scope=col>ca</th><th scope=col>thal</th><th scope=col>num</th></tr>\n",
       "\t<tr><th scope=col>&lt;dbl&gt;</th><th scope=col>&lt;dbl&gt;</th><th scope=col>&lt;dbl&gt;</th><th scope=col>&lt;dbl&gt;</th><th scope=col>&lt;dbl&gt;</th><th scope=col>&lt;dbl&gt;</th><th scope=col>&lt;dbl&gt;</th><th scope=col>&lt;dbl&gt;</th><th scope=col>&lt;dbl&gt;</th><th scope=col>&lt;dbl&gt;</th><th scope=col>&lt;dbl&gt;</th><th scope=col>&lt;chr&gt;</th><th scope=col>&lt;chr&gt;</th><th scope=col>&lt;dbl&gt;</th></tr>\n",
       "</thead>\n",
       "<tbody>\n",
       "\t<tr><td>63</td><td>1</td><td>1</td><td>145</td><td>233</td><td>1</td><td>2</td><td>150</td><td>0</td><td>2.3</td><td>3</td><td>0.0</td><td>6.0</td><td>0</td></tr>\n",
       "\t<tr><td>67</td><td>1</td><td>4</td><td>160</td><td>286</td><td>0</td><td>2</td><td>108</td><td>1</td><td>1.5</td><td>2</td><td>3.0</td><td>3.0</td><td>2</td></tr>\n",
       "\t<tr><td>67</td><td>1</td><td>4</td><td>120</td><td>229</td><td>0</td><td>2</td><td>129</td><td>1</td><td>2.6</td><td>2</td><td>2.0</td><td>7.0</td><td>1</td></tr>\n",
       "\t<tr><td>37</td><td>1</td><td>3</td><td>130</td><td>250</td><td>0</td><td>0</td><td>187</td><td>0</td><td>3.5</td><td>3</td><td>0.0</td><td>3.0</td><td>0</td></tr>\n",
       "\t<tr><td>41</td><td>0</td><td>2</td><td>130</td><td>204</td><td>0</td><td>2</td><td>172</td><td>0</td><td>1.4</td><td>1</td><td>0.0</td><td>3.0</td><td>0</td></tr>\n",
       "\t<tr><td>56</td><td>1</td><td>2</td><td>120</td><td>236</td><td>0</td><td>0</td><td>178</td><td>0</td><td>0.8</td><td>1</td><td>0.0</td><td>3.0</td><td>0</td></tr>\n",
       "</tbody>\n",
       "</table>\n"
      ],
      "text/latex": [
       "A tibble: 6 × 14\n",
       "\\begin{tabular}{llllllllllllll}\n",
       " age & sex & cp & trestbps & chol & fbs & restecg & thalach & exang & oldpeak & slope & ca & thal & num\\\\\n",
       " <dbl> & <dbl> & <dbl> & <dbl> & <dbl> & <dbl> & <dbl> & <dbl> & <dbl> & <dbl> & <dbl> & <chr> & <chr> & <dbl>\\\\\n",
       "\\hline\n",
       "\t 63 & 1 & 1 & 145 & 233 & 1 & 2 & 150 & 0 & 2.3 & 3 & 0.0 & 6.0 & 0\\\\\n",
       "\t 67 & 1 & 4 & 160 & 286 & 0 & 2 & 108 & 1 & 1.5 & 2 & 3.0 & 3.0 & 2\\\\\n",
       "\t 67 & 1 & 4 & 120 & 229 & 0 & 2 & 129 & 1 & 2.6 & 2 & 2.0 & 7.0 & 1\\\\\n",
       "\t 37 & 1 & 3 & 130 & 250 & 0 & 0 & 187 & 0 & 3.5 & 3 & 0.0 & 3.0 & 0\\\\\n",
       "\t 41 & 0 & 2 & 130 & 204 & 0 & 2 & 172 & 0 & 1.4 & 1 & 0.0 & 3.0 & 0\\\\\n",
       "\t 56 & 1 & 2 & 120 & 236 & 0 & 0 & 178 & 0 & 0.8 & 1 & 0.0 & 3.0 & 0\\\\\n",
       "\\end{tabular}\n"
      ],
      "text/markdown": [
       "\n",
       "A tibble: 6 × 14\n",
       "\n",
       "| age &lt;dbl&gt; | sex &lt;dbl&gt; | cp &lt;dbl&gt; | trestbps &lt;dbl&gt; | chol &lt;dbl&gt; | fbs &lt;dbl&gt; | restecg &lt;dbl&gt; | thalach &lt;dbl&gt; | exang &lt;dbl&gt; | oldpeak &lt;dbl&gt; | slope &lt;dbl&gt; | ca &lt;chr&gt; | thal &lt;chr&gt; | num &lt;dbl&gt; |\n",
       "|---|---|---|---|---|---|---|---|---|---|---|---|---|---|\n",
       "| 63 | 1 | 1 | 145 | 233 | 1 | 2 | 150 | 0 | 2.3 | 3 | 0.0 | 6.0 | 0 |\n",
       "| 67 | 1 | 4 | 160 | 286 | 0 | 2 | 108 | 1 | 1.5 | 2 | 3.0 | 3.0 | 2 |\n",
       "| 67 | 1 | 4 | 120 | 229 | 0 | 2 | 129 | 1 | 2.6 | 2 | 2.0 | 7.0 | 1 |\n",
       "| 37 | 1 | 3 | 130 | 250 | 0 | 0 | 187 | 0 | 3.5 | 3 | 0.0 | 3.0 | 0 |\n",
       "| 41 | 0 | 2 | 130 | 204 | 0 | 2 | 172 | 0 | 1.4 | 1 | 0.0 | 3.0 | 0 |\n",
       "| 56 | 1 | 2 | 120 | 236 | 0 | 0 | 178 | 0 | 0.8 | 1 | 0.0 | 3.0 | 0 |\n",
       "\n"
      ],
      "text/plain": [
       "  age sex cp trestbps chol fbs restecg thalach exang oldpeak slope ca  thal num\n",
       "1 63  1   1  145      233  1   2       150     0     2.3     3     0.0 6.0  0  \n",
       "2 67  1   4  160      286  0   2       108     1     1.5     2     3.0 3.0  2  \n",
       "3 67  1   4  120      229  0   2       129     1     2.6     2     2.0 7.0  1  \n",
       "4 37  1   3  130      250  0   0       187     0     3.5     3     0.0 3.0  0  \n",
       "5 41  0   2  130      204  0   2       172     0     1.4     1     0.0 3.0  0  \n",
       "6 56  1   2  120      236  0   0       178     0     0.8     1     0.0 3.0  0  "
      ]
     },
     "metadata": {},
     "output_type": "display_data"
    }
   ],
   "source": [
    "url <- \"https://archive.ics.uci.edu/ml/machine-learning-databases/heart-disease/processed.cleveland.data\"\n",
    "download.file(url, destfile = \"data/processed.cleveland.data\")\n",
    "heart_df <- read_csv(\"data/processed.cleveland.data\", col_name = FALSE)\n",
    "col <- c(\"age\", \"sex\",\"cp\", \"trestbps\", \"chol\", \"fbs\", \"restecg\", \"thalach\", \"exang\", \"oldpeak\", \"slope\", \"ca\", \"thal\",\"num\")\n",
    "colnames(heart_df) <- col\n",
    "head(heart_df)"
   ]
  },
  {
   "cell_type": "markdown",
   "id": "dccf5d01-b7cc-4f07-aaff-c3b82dd5bfc6",
   "metadata": {},
   "source": [
    "We will extract the columns that we need and prepare them for analysis. Make the \"num\" variable binary by reducing the number of categories."
   ]
  },
  {
   "cell_type": "code",
   "execution_count": 4,
   "id": "404f5ebf-2679-4139-858b-6192769d07d0",
   "metadata": {},
   "outputs": [
    {
     "data": {
      "text/html": [
       "<table class=\"dataframe\">\n",
       "<caption>A tibble: 6 × 6</caption>\n",
       "<thead>\n",
       "\t<tr><th scope=col>age</th><th scope=col>sex</th><th scope=col>chol</th><th scope=col>thalach</th><th scope=col>ca</th><th scope=col>num</th></tr>\n",
       "\t<tr><th scope=col>&lt;dbl&gt;</th><th scope=col>&lt;dbl&gt;</th><th scope=col>&lt;dbl&gt;</th><th scope=col>&lt;dbl&gt;</th><th scope=col>&lt;chr&gt;</th><th scope=col>&lt;dbl&gt;</th></tr>\n",
       "</thead>\n",
       "<tbody>\n",
       "\t<tr><td>63</td><td>1</td><td>233</td><td>150</td><td>0.0</td><td>0</td></tr>\n",
       "\t<tr><td>67</td><td>1</td><td>286</td><td>108</td><td>3.0</td><td>2</td></tr>\n",
       "\t<tr><td>67</td><td>1</td><td>229</td><td>129</td><td>2.0</td><td>1</td></tr>\n",
       "\t<tr><td>37</td><td>1</td><td>250</td><td>187</td><td>0.0</td><td>0</td></tr>\n",
       "\t<tr><td>41</td><td>0</td><td>204</td><td>172</td><td>0.0</td><td>0</td></tr>\n",
       "\t<tr><td>56</td><td>1</td><td>236</td><td>178</td><td>0.0</td><td>0</td></tr>\n",
       "</tbody>\n",
       "</table>\n"
      ],
      "text/latex": [
       "A tibble: 6 × 6\n",
       "\\begin{tabular}{llllll}\n",
       " age & sex & chol & thalach & ca & num\\\\\n",
       " <dbl> & <dbl> & <dbl> & <dbl> & <chr> & <dbl>\\\\\n",
       "\\hline\n",
       "\t 63 & 1 & 233 & 150 & 0.0 & 0\\\\\n",
       "\t 67 & 1 & 286 & 108 & 3.0 & 2\\\\\n",
       "\t 67 & 1 & 229 & 129 & 2.0 & 1\\\\\n",
       "\t 37 & 1 & 250 & 187 & 0.0 & 0\\\\\n",
       "\t 41 & 0 & 204 & 172 & 0.0 & 0\\\\\n",
       "\t 56 & 1 & 236 & 178 & 0.0 & 0\\\\\n",
       "\\end{tabular}\n"
      ],
      "text/markdown": [
       "\n",
       "A tibble: 6 × 6\n",
       "\n",
       "| age &lt;dbl&gt; | sex &lt;dbl&gt; | chol &lt;dbl&gt; | thalach &lt;dbl&gt; | ca &lt;chr&gt; | num &lt;dbl&gt; |\n",
       "|---|---|---|---|---|---|\n",
       "| 63 | 1 | 233 | 150 | 0.0 | 0 |\n",
       "| 67 | 1 | 286 | 108 | 3.0 | 2 |\n",
       "| 67 | 1 | 229 | 129 | 2.0 | 1 |\n",
       "| 37 | 1 | 250 | 187 | 0.0 | 0 |\n",
       "| 41 | 0 | 204 | 172 | 0.0 | 0 |\n",
       "| 56 | 1 | 236 | 178 | 0.0 | 0 |\n",
       "\n"
      ],
      "text/plain": [
       "  age sex chol thalach ca  num\n",
       "1 63  1   233  150     0.0 0  \n",
       "2 67  1   286  108     3.0 2  \n",
       "3 67  1   229  129     2.0 1  \n",
       "4 37  1   250  187     0.0 0  \n",
       "5 41  0   204  172     0.0 0  \n",
       "6 56  1   236  178     0.0 0  "
      ]
     },
     "metadata": {},
     "output_type": "display_data"
    },
    {
     "name": "stderr",
     "output_type": "stream",
     "text": [
      "Warning message in mask$eval_all_mutate(quo):\n",
      "“NAs introduced by coercion”\n"
     ]
    },
    {
     "data": {
      "text/html": [
       "<table class=\"dataframe\">\n",
       "<caption>A tibble: 6 × 6</caption>\n",
       "<thead>\n",
       "\t<tr><th scope=col>age</th><th scope=col>sex</th><th scope=col>chol</th><th scope=col>thalach</th><th scope=col>ca</th><th scope=col>num</th></tr>\n",
       "\t<tr><th scope=col>&lt;dbl&gt;</th><th scope=col>&lt;fct&gt;</th><th scope=col>&lt;dbl&gt;</th><th scope=col>&lt;dbl&gt;</th><th scope=col>&lt;int&gt;</th><th scope=col>&lt;fct&gt;</th></tr>\n",
       "</thead>\n",
       "<tbody>\n",
       "\t<tr><td>63</td><td>1</td><td>233</td><td>150</td><td>0</td><td>0</td></tr>\n",
       "\t<tr><td>37</td><td>1</td><td>250</td><td>187</td><td>0</td><td>0</td></tr>\n",
       "\t<tr><td>41</td><td>0</td><td>204</td><td>172</td><td>0</td><td>0</td></tr>\n",
       "\t<tr><td>56</td><td>1</td><td>236</td><td>178</td><td>0</td><td>0</td></tr>\n",
       "\t<tr><td>57</td><td>0</td><td>354</td><td>163</td><td>0</td><td>0</td></tr>\n",
       "\t<tr><td>57</td><td>1</td><td>192</td><td>148</td><td>0</td><td>0</td></tr>\n",
       "</tbody>\n",
       "</table>\n"
      ],
      "text/latex": [
       "A tibble: 6 × 6\n",
       "\\begin{tabular}{llllll}\n",
       " age & sex & chol & thalach & ca & num\\\\\n",
       " <dbl> & <fct> & <dbl> & <dbl> & <int> & <fct>\\\\\n",
       "\\hline\n",
       "\t 63 & 1 & 233 & 150 & 0 & 0\\\\\n",
       "\t 37 & 1 & 250 & 187 & 0 & 0\\\\\n",
       "\t 41 & 0 & 204 & 172 & 0 & 0\\\\\n",
       "\t 56 & 1 & 236 & 178 & 0 & 0\\\\\n",
       "\t 57 & 0 & 354 & 163 & 0 & 0\\\\\n",
       "\t 57 & 1 & 192 & 148 & 0 & 0\\\\\n",
       "\\end{tabular}\n"
      ],
      "text/markdown": [
       "\n",
       "A tibble: 6 × 6\n",
       "\n",
       "| age &lt;dbl&gt; | sex &lt;fct&gt; | chol &lt;dbl&gt; | thalach &lt;dbl&gt; | ca &lt;int&gt; | num &lt;fct&gt; |\n",
       "|---|---|---|---|---|---|\n",
       "| 63 | 1 | 233 | 150 | 0 | 0 |\n",
       "| 37 | 1 | 250 | 187 | 0 | 0 |\n",
       "| 41 | 0 | 204 | 172 | 0 | 0 |\n",
       "| 56 | 1 | 236 | 178 | 0 | 0 |\n",
       "| 57 | 0 | 354 | 163 | 0 | 0 |\n",
       "| 57 | 1 | 192 | 148 | 0 | 0 |\n",
       "\n"
      ],
      "text/plain": [
       "  age sex chol thalach ca num\n",
       "1 63  1   233  150     0  0  \n",
       "2 37  1   250  187     0  0  \n",
       "3 41  0   204  172     0  0  \n",
       "4 56  1   236  178     0  0  \n",
       "5 57  0   354  163     0  0  \n",
       "6 57  1   192  148     0  0  "
      ]
     },
     "metadata": {},
     "output_type": "display_data"
    }
   ],
   "source": [
    "filheart_df <- select(heart_df, -cp, -trestbps, -fbs, -restecg, -exang, -oldpeak, -slope, -thal)\n",
    "head(filheart_df)\n",
    "\n",
    "heart_num0 <- filheart_df |>\n",
    "filter(num == 0)\n",
    "heart_num1 <- filheart_df |>\n",
    "filter(num > 0) |>\n",
    "mutate(num = 1)\n",
    "\n",
    "heart_clean <- rbind(heart_num0, heart_num1)\n",
    "heart_clean <- heart_clean |>\n",
    "mutate(num = as_factor(num), ca = as.integer(ca), sex = as_factor(sex))\n",
    "head(heart_clean)"
   ]
  },
  {
   "cell_type": "code",
   "execution_count": 5,
   "id": "c9cb9c8e-8251-42a1-b421-e2b4c186bcf3",
   "metadata": {},
   "outputs": [],
   "source": [
    "# Here we use prop = 0.7 but we may change as we build our model\n",
    "\n",
    "set.seed(100)\n",
    "\n",
    "split <- initial_split(heart_clean, prop = 0.7, strata = num)\n",
    "heart_train <- training(split)\n",
    "heart_test <- testing(split)\n",
    "# head(heart_train)\n",
    "# head(heart_test)"
   ]
  },
  {
   "cell_type": "markdown",
   "id": "d7b9c295-29e0-405a-a305-36863b8e1e4f",
   "metadata": {
    "tags": []
   },
   "source": [
    "### Summary of predictor variables\n",
    "We report counts for categorical variables and means for quantitative variables as well as the number of NA values for each variable."
   ]
  },
  {
   "cell_type": "code",
   "execution_count": 5,
   "id": "b069631a-55c5-4592-8fe0-131f14a2ce64",
   "metadata": {},
   "outputs": [
    {
     "name": "stdout",
     "output_type": "stream",
     "text": [
      "[1] \"Diagnosis Counts\"\n"
     ]
    },
    {
     "data": {
      "text/html": [
       "<table class=\"dataframe\">\n",
       "<caption>A tibble: 2 × 2</caption>\n",
       "<thead>\n",
       "\t<tr><th scope=col>num</th><th scope=col>count</th></tr>\n",
       "\t<tr><th scope=col>&lt;fct&gt;</th><th scope=col>&lt;int&gt;</th></tr>\n",
       "</thead>\n",
       "<tbody>\n",
       "\t<tr><td>0</td><td>114</td></tr>\n",
       "\t<tr><td>1</td><td> 97</td></tr>\n",
       "</tbody>\n",
       "</table>\n"
      ],
      "text/latex": [
       "A tibble: 2 × 2\n",
       "\\begin{tabular}{ll}\n",
       " num & count\\\\\n",
       " <fct> & <int>\\\\\n",
       "\\hline\n",
       "\t 0 & 114\\\\\n",
       "\t 1 &  97\\\\\n",
       "\\end{tabular}\n"
      ],
      "text/markdown": [
       "\n",
       "A tibble: 2 × 2\n",
       "\n",
       "| num &lt;fct&gt; | count &lt;int&gt; |\n",
       "|---|---|\n",
       "| 0 | 114 |\n",
       "| 1 |  97 |\n",
       "\n"
      ],
      "text/plain": [
       "  num count\n",
       "1 0   114  \n",
       "2 1    97  "
      ]
     },
     "metadata": {},
     "output_type": "display_data"
    },
    {
     "name": "stdout",
     "output_type": "stream",
     "text": [
      "[1] \"Flourosopy Counts\"\n"
     ]
    },
    {
     "data": {
      "text/html": [
       "<table class=\"dataframe\">\n",
       "<caption>A tibble: 5 × 2</caption>\n",
       "<thead>\n",
       "\t<tr><th scope=col>ca</th><th scope=col>count</th></tr>\n",
       "\t<tr><th scope=col>&lt;int&gt;</th><th scope=col>&lt;int&gt;</th></tr>\n",
       "</thead>\n",
       "<tbody>\n",
       "\t<tr><td> 0</td><td>117</td></tr>\n",
       "\t<tr><td> 1</td><td> 44</td></tr>\n",
       "\t<tr><td> 2</td><td> 30</td></tr>\n",
       "\t<tr><td> 3</td><td> 16</td></tr>\n",
       "\t<tr><td>NA</td><td>  4</td></tr>\n",
       "</tbody>\n",
       "</table>\n"
      ],
      "text/latex": [
       "A tibble: 5 × 2\n",
       "\\begin{tabular}{ll}\n",
       " ca & count\\\\\n",
       " <int> & <int>\\\\\n",
       "\\hline\n",
       "\t  0 & 117\\\\\n",
       "\t  1 &  44\\\\\n",
       "\t  2 &  30\\\\\n",
       "\t  3 &  16\\\\\n",
       "\t NA &   4\\\\\n",
       "\\end{tabular}\n"
      ],
      "text/markdown": [
       "\n",
       "A tibble: 5 × 2\n",
       "\n",
       "| ca &lt;int&gt; | count &lt;int&gt; |\n",
       "|---|---|\n",
       "|  0 | 117 |\n",
       "|  1 |  44 |\n",
       "|  2 |  30 |\n",
       "|  3 |  16 |\n",
       "| NA |   4 |\n",
       "\n"
      ],
      "text/plain": [
       "  ca count\n",
       "1  0 117  \n",
       "2  1  44  \n",
       "3  2  30  \n",
       "4  3  16  \n",
       "5 NA   4  "
      ]
     },
     "metadata": {},
     "output_type": "display_data"
    },
    {
     "name": "stdout",
     "output_type": "stream",
     "text": [
      "[1] \"Means of Quantitative Variables Based on Diagnosis\"\n"
     ]
    },
    {
     "data": {
      "text/html": [
       "<table class=\"dataframe\">\n",
       "<caption>A tibble: 2 × 4</caption>\n",
       "<thead>\n",
       "\t<tr><th scope=col>num</th><th scope=col>avg_age</th><th scope=col>avg_chol</th><th scope=col>avg_thal</th></tr>\n",
       "\t<tr><th scope=col>&lt;fct&gt;</th><th scope=col>&lt;dbl&gt;</th><th scope=col>&lt;dbl&gt;</th><th scope=col>&lt;dbl&gt;</th></tr>\n",
       "</thead>\n",
       "<tbody>\n",
       "\t<tr><td>0</td><td>52.35088</td><td>239.0000</td><td>158.5000</td></tr>\n",
       "\t<tr><td>1</td><td>56.54639</td><td>252.0928</td><td>137.7113</td></tr>\n",
       "</tbody>\n",
       "</table>\n"
      ],
      "text/latex": [
       "A tibble: 2 × 4\n",
       "\\begin{tabular}{llll}\n",
       " num & avg\\_age & avg\\_chol & avg\\_thal\\\\\n",
       " <fct> & <dbl> & <dbl> & <dbl>\\\\\n",
       "\\hline\n",
       "\t 0 & 52.35088 & 239.0000 & 158.5000\\\\\n",
       "\t 1 & 56.54639 & 252.0928 & 137.7113\\\\\n",
       "\\end{tabular}\n"
      ],
      "text/markdown": [
       "\n",
       "A tibble: 2 × 4\n",
       "\n",
       "| num &lt;fct&gt; | avg_age &lt;dbl&gt; | avg_chol &lt;dbl&gt; | avg_thal &lt;dbl&gt; |\n",
       "|---|---|---|---|\n",
       "| 0 | 52.35088 | 239.0000 | 158.5000 |\n",
       "| 1 | 56.54639 | 252.0928 | 137.7113 |\n",
       "\n"
      ],
      "text/plain": [
       "  num avg_age  avg_chol avg_thal\n",
       "1 0   52.35088 239.0000 158.5000\n",
       "2 1   56.54639 252.0928 137.7113"
      ]
     },
     "metadata": {},
     "output_type": "display_data"
    }
   ],
   "source": [
    "num_counts <- heart_train |>\n",
    "    group_by(num) |>\n",
    "    summarize(count = n())\n",
    "ca_counts <- heart_train |>\n",
    "    group_by(ca) |>\n",
    "    summarize(count = n())\n",
    "means_by_num  <- heart_train %>%\n",
    "        group_by(num) %>%\n",
    "        summarize(avg_age = mean(age), avg_chol = mean(chol), avg_thal = mean(thalach))\n",
    "print(\"Diagnosis Counts\")\n",
    "num_counts\n",
    "print(\"Flourosopy Counts\")\n",
    "ca_counts\n",
    "print(\"Means of Quantitative Variables Based on Diagnosis\")\n",
    "means_by_num"
   ]
  },
  {
   "cell_type": "markdown",
   "id": "afd7e3f6-bb2a-49bd-aaea-a05a62006bea",
   "metadata": {
    "jp-MarkdownHeadingCollapsed": true,
    "tags": []
   },
   "source": [
    "### Visualization\n",
    "We visualize the distribution of each column. Some rough trends can be observed just by colouring based on the presence of heart disease."
   ]
  },
  {
   "cell_type": "code",
   "execution_count": 6,
   "id": "57b3f33f-bbe4-40c8-bf69-62c2194a2442",
   "metadata": {},
   "outputs": [
    {
     "name": "stderr",
     "output_type": "stream",
     "text": [
      "`stat_bin()` using `bins = 30`. Pick better value with `binwidth`.\n",
      "\n",
      "`stat_bin()` using `bins = 30`. Pick better value with `binwidth`.\n",
      "\n",
      "`stat_bin()` using `bins = 30`. Pick better value with `binwidth`.\n",
      "\n",
      "Warning message:\n",
      "“Removed 4 rows containing non-finite values (stat_count).”\n"
     ]
    },
    {
     "data": {
      "image/png": "[encoded data removed]",
      "text/plain": [
       "plot without title"
      ]
     },
     "metadata": {
      "image/png": {
       "height": 960,
       "width": 840
      }
     },
     "output_type": "display_data"
    }
   ],
   "source": [
    "num_plot <- ggplot(heart_train, aes(x = num)) +\n",
    "    geom_bar() +\n",
    "    labs(x = \"Presence of heart disease\", title = \"Distribution of presence of heart disease\")+\n",
    "    scale_x_discrete(labels = c('No','Yes'))\n",
    "\n",
    "sex_plot <- ggplot(heart_train, aes(x= sex, fill = num)) +\n",
    "    geom_bar(position = \"stack\") + \n",
    "    labs(x = \"Sex\", title = \"Distribution of sex\", fill = \"Presence of heart disease\") +\n",
    "    scale_fill_hue(labels = c(\"No\", \"Yes\"))+\n",
    "    scale_x_discrete(labels = c('Female','Male'))\n",
    "\n",
    "\n",
    "age_plot <- ggplot(heart_train, aes(x= age, fill = num)) +\n",
    "    geom_histogram(position = \"stack\") +\n",
    "    labs(x = \"Age\", title = \"Distribution of age\", fill = \"Presence of heart disease\") +\n",
    "    scale_fill_hue(labels = c(\"No\", \"Yes\"))\n",
    "\n",
    "\n",
    "chol_plot <- ggplot(heart_train, aes(x= chol, fill = num)) +\n",
    "    geom_histogram(position = \"stack\") +\n",
    "    labs(x = \"Serum cholestoral (mg/dl)\", title = \"Distribution of serum cholestoral (mg/dl)\", fill = \"Presence of heart disease\") +\n",
    "    scale_fill_hue(labels = c(\"No\", \"Yes\"))\n",
    "\n",
    "\n",
    "thalach_plot <- ggplot(heart_train, aes(x= thalach, fill = num)) +\n",
    "    geom_histogram(position = \"stack\") +\n",
    "    labs(x = \"Maximum heart rate\", title = \"Distribution of maximum heart rate achieved\", fill = \"Presence of heart disease\") +\n",
    "    scale_fill_hue(labels = c(\"No\", \"Yes\"))\n",
    "\n",
    "\n",
    "ca_plot <- ggplot(heart_train, aes(x= ca, fill = num)) +\n",
    "    geom_bar(position = \"stack\")+\n",
    "    labs(x = \"Number of major vessels colored by flourosopy\", title = \"Distribution of number of major vessels colored by flourosopy\", fill = \"Presence of heart disease\") +\n",
    "    scale_fill_hue(labels = c(\"No\", \"Yes\"))\n",
    "\n",
    "options(repr.plot.width = 14, repr.plot.height = 16)\n",
    "grid.arrange(num_plot, sex_plot, age_plot,thalach_plot, chol_plot, ca_plot, ncol = 2)"
   ]
  },
  {
   "cell_type": "code",
   "execution_count": 7,
   "id": "13c9300b-63e8-43cc-b666-954aa1629fa7",
   "metadata": {},
   "outputs": [
    {
     "data": {
      "image/png": "[encoded data removed]",
      "text/plain": [
       "plot without title"
      ]
     },
     "metadata": {
      "image/png": {
       "height": 300,
       "width": 780
      }
     },
     "output_type": "display_data"
    }
   ],
   "source": [
    "chol_box <- ggplot(heart_train, aes(x= num, y=chol)) +\n",
    "    geom_boxplot() +\n",
    "    labs(title = 'Serum cholestoral (mg/dl) by presence of heart disease', y = \"Serum cholestoral (mg/dl)\", x = \"Presence of heart disease\") +\n",
    "    scale_x_discrete(labels = c('No','Yes'))\n",
    "\n",
    "thalach_box <- ggplot(heart_train, aes(x= num, y=thalach)) +\n",
    "    geom_boxplot() +\n",
    "    labs(title = 'Maximum heart rate by presence of heart disease', y = \"Maximum heart rate\", x = \"Presence of heart disease\") +\n",
    "    scale_x_discrete(labels = c('No','Yes'))\n",
    "options(repr.plot.width = 13, repr.plot.height = 5)\n",
    "grid.arrange(chol_box, thalach_box, ncol = 2)"
   ]
  },
  {
   "cell_type": "markdown",
   "id": "be1851de-bfbc-4ad0-91a9-2f65278ed5f1",
   "metadata": {},
   "source": [
    "If we take a closer look at these two variables with boxplots, we can visualize the difference in strength of association between a predictor and the target variable. This will help us determine which variable is more important than others."
   ]
  },
  {
   "cell_type": "markdown",
   "id": "1cd79934-ae21-4cdb-a857-4c57140c1273",
   "metadata": {},
   "source": [
    "## Data Analysis"
   ]
  },
  {
   "cell_type": "code",
   "execution_count": 66,
   "id": "5fe8ce23-dfa0-4fe1-b086-421c933d3c0f",
   "metadata": {},
   "outputs": [],
   "source": [
    "heart_train <- drop_na(heart_train)"
   ]
  },
  {
   "cell_type": "code",
   "execution_count": 67,
   "id": "02070000-0c0f-4271-9514-8408ba667026",
   "metadata": {},
   "outputs": [],
   "source": [
    "knn_spec <- nearest_neighbor(weight_func = \"rectangular\", neighbors = tune()) |>\n",
    "    set_engine(\"kknn\") |>\n",
    "    set_mode(\"classification\")\n",
    "\n",
    "heart_recipe <- recipe(num ~ age + sex + chol + thalach + ca, data = heart_train) |>\n",
    "    step_scale(age, chol, thalach, ca) |>\n",
    "    step_center(age, chol, thalach, ca)\n",
    "\n",
    "set.seed(100)\n",
    "heart_vfold <- vfold_cv(heart_train, v = 7, strata = num) "
   ]
  },
  {
   "cell_type": "code",
   "execution_count": 68,
   "id": "22951752-a459-4b6d-ab63-d426bf5b266e",
   "metadata": {},
   "outputs": [],
   "source": [
    "heart_workflow <- workflow() |>\n",
    "    add_recipe(heart_recipe) |>\n",
    "    add_model(knn_spec)"
   ]
  },
  {
   "cell_type": "code",
   "execution_count": null,
   "id": "4d6b3f73-21a6-4593-afe4-5dbcc74013c4",
   "metadata": {},
   "outputs": [],
   "source": []
  },
  {
   "cell_type": "code",
   "execution_count": 69,
   "id": "58682c75-7dce-4a2a-a177-872e6b1d1ff3",
   "metadata": {},
   "outputs": [
    {
     "name": "stderr",
     "output_type": "stream",
     "text": [
      "Warning message:\n",
      "“The `...` are not used in this function but one or more objects were passed: ''”\n"
     ]
    }
   ],
   "source": [
    "gridvals <- tibble(neighbors = seq(1, 200))\n",
    "heart_results <- heart_workflow |>\n",
    "    tune_grid(resamples = heart_vfold, gridvals) |>\n",
    "    collect_metrics()"
   ]
  },
  {
   "cell_type": "code",
   "execution_count": 70,
   "id": "d062395c-0d4a-4417-a81f-6164cf969e79",
   "metadata": {},
   "outputs": [
    {
     "name": "stdout",
     "output_type": "stream",
     "text": [
      "Great job! No notes to show.\n"
     ]
    }
   ],
   "source": [
    "show_notes(.Last.tune.result)"
   ]
  },
  {
   "cell_type": "code",
   "execution_count": 71,
   "id": "ec266f38-bf76-4a7c-b085-78b0cabf22bc",
   "metadata": {},
   "outputs": [
    {
     "data": {
      "text/html": [
       "<table class=\"dataframe\">\n",
       "<caption>A tibble: 10 × 7</caption>\n",
       "<thead>\n",
       "\t<tr><th scope=col>neighbors</th><th scope=col>.metric</th><th scope=col>.estimator</th><th scope=col>mean</th><th scope=col>n</th><th scope=col>std_err</th><th scope=col>.config</th></tr>\n",
       "\t<tr><th scope=col>&lt;int&gt;</th><th scope=col>&lt;chr&gt;</th><th scope=col>&lt;chr&gt;</th><th scope=col>&lt;dbl&gt;</th><th scope=col>&lt;int&gt;</th><th scope=col>&lt;dbl&gt;</th><th scope=col>&lt;chr&gt;</th></tr>\n",
       "</thead>\n",
       "<tbody>\n",
       "\t<tr><td>13</td><td>accuracy</td><td>binary</td><td>0.7832512</td><td>7</td><td>0.02684164</td><td>Preprocessor1_Model09</td></tr>\n",
       "\t<tr><td>11</td><td>accuracy</td><td>binary</td><td>0.7784893</td><td>7</td><td>0.03453628</td><td>Preprocessor1_Model07</td></tr>\n",
       "\t<tr><td>12</td><td>accuracy</td><td>binary</td><td>0.7784893</td><td>7</td><td>0.03453628</td><td>Preprocessor1_Model08</td></tr>\n",
       "\t<tr><td>15</td><td>accuracy</td><td>binary</td><td>0.7735632</td><td>7</td><td>0.02247651</td><td>Preprocessor1_Model10</td></tr>\n",
       "\t<tr><td> 5</td><td>accuracy</td><td>binary</td><td>0.7692939</td><td>7</td><td>0.01512190</td><td>Preprocessor1_Model03</td></tr>\n",
       "\t<tr><td> 6</td><td>accuracy</td><td>binary</td><td>0.7692939</td><td>7</td><td>0.01512190</td><td>Preprocessor1_Model04</td></tr>\n",
       "\t<tr><td> 7</td><td>accuracy</td><td>binary</td><td>0.7691297</td><td>7</td><td>0.01860073</td><td>Preprocessor1_Model05</td></tr>\n",
       "\t<tr><td> 8</td><td>accuracy</td><td>binary</td><td>0.7691297</td><td>7</td><td>0.01860073</td><td>Preprocessor1_Model06</td></tr>\n",
       "\t<tr><td> 3</td><td>accuracy</td><td>binary</td><td>0.7502463</td><td>7</td><td>0.02876158</td><td>Preprocessor1_Model02</td></tr>\n",
       "\t<tr><td> 1</td><td>accuracy</td><td>binary</td><td>0.7254516</td><td>7</td><td>0.01841888</td><td>Preprocessor1_Model01</td></tr>\n",
       "</tbody>\n",
       "</table>\n"
      ],
      "text/latex": [
       "A tibble: 10 × 7\n",
       "\\begin{tabular}{lllllll}\n",
       " neighbors & .metric & .estimator & mean & n & std\\_err & .config\\\\\n",
       " <int> & <chr> & <chr> & <dbl> & <int> & <dbl> & <chr>\\\\\n",
       "\\hline\n",
       "\t 13 & accuracy & binary & 0.7832512 & 7 & 0.02684164 & Preprocessor1\\_Model09\\\\\n",
       "\t 11 & accuracy & binary & 0.7784893 & 7 & 0.03453628 & Preprocessor1\\_Model07\\\\\n",
       "\t 12 & accuracy & binary & 0.7784893 & 7 & 0.03453628 & Preprocessor1\\_Model08\\\\\n",
       "\t 15 & accuracy & binary & 0.7735632 & 7 & 0.02247651 & Preprocessor1\\_Model10\\\\\n",
       "\t  5 & accuracy & binary & 0.7692939 & 7 & 0.01512190 & Preprocessor1\\_Model03\\\\\n",
       "\t  6 & accuracy & binary & 0.7692939 & 7 & 0.01512190 & Preprocessor1\\_Model04\\\\\n",
       "\t  7 & accuracy & binary & 0.7691297 & 7 & 0.01860073 & Preprocessor1\\_Model05\\\\\n",
       "\t  8 & accuracy & binary & 0.7691297 & 7 & 0.01860073 & Preprocessor1\\_Model06\\\\\n",
       "\t  3 & accuracy & binary & 0.7502463 & 7 & 0.02876158 & Preprocessor1\\_Model02\\\\\n",
       "\t  1 & accuracy & binary & 0.7254516 & 7 & 0.01841888 & Preprocessor1\\_Model01\\\\\n",
       "\\end{tabular}\n"
      ],
      "text/markdown": [
       "\n",
       "A tibble: 10 × 7\n",
       "\n",
       "| neighbors &lt;int&gt; | .metric &lt;chr&gt; | .estimator &lt;chr&gt; | mean &lt;dbl&gt; | n &lt;int&gt; | std_err &lt;dbl&gt; | .config &lt;chr&gt; |\n",
       "|---|---|---|---|---|---|---|\n",
       "| 13 | accuracy | binary | 0.7832512 | 7 | 0.02684164 | Preprocessor1_Model09 |\n",
       "| 11 | accuracy | binary | 0.7784893 | 7 | 0.03453628 | Preprocessor1_Model07 |\n",
       "| 12 | accuracy | binary | 0.7784893 | 7 | 0.03453628 | Preprocessor1_Model08 |\n",
       "| 15 | accuracy | binary | 0.7735632 | 7 | 0.02247651 | Preprocessor1_Model10 |\n",
       "|  5 | accuracy | binary | 0.7692939 | 7 | 0.01512190 | Preprocessor1_Model03 |\n",
       "|  6 | accuracy | binary | 0.7692939 | 7 | 0.01512190 | Preprocessor1_Model04 |\n",
       "|  7 | accuracy | binary | 0.7691297 | 7 | 0.01860073 | Preprocessor1_Model05 |\n",
       "|  8 | accuracy | binary | 0.7691297 | 7 | 0.01860073 | Preprocessor1_Model06 |\n",
       "|  3 | accuracy | binary | 0.7502463 | 7 | 0.02876158 | Preprocessor1_Model02 |\n",
       "|  1 | accuracy | binary | 0.7254516 | 7 | 0.01841888 | Preprocessor1_Model01 |\n",
       "\n"
      ],
      "text/plain": [
       "   neighbors .metric  .estimator mean      n std_err    .config              \n",
       "1  13        accuracy binary     0.7832512 7 0.02684164 Preprocessor1_Model09\n",
       "2  11        accuracy binary     0.7784893 7 0.03453628 Preprocessor1_Model07\n",
       "3  12        accuracy binary     0.7784893 7 0.03453628 Preprocessor1_Model08\n",
       "4  15        accuracy binary     0.7735632 7 0.02247651 Preprocessor1_Model10\n",
       "5   5        accuracy binary     0.7692939 7 0.01512190 Preprocessor1_Model03\n",
       "6   6        accuracy binary     0.7692939 7 0.01512190 Preprocessor1_Model04\n",
       "7   7        accuracy binary     0.7691297 7 0.01860073 Preprocessor1_Model05\n",
       "8   8        accuracy binary     0.7691297 7 0.01860073 Preprocessor1_Model06\n",
       "9   3        accuracy binary     0.7502463 7 0.02876158 Preprocessor1_Model02\n",
       "10  1        accuracy binary     0.7254516 7 0.01841888 Preprocessor1_Model01"
      ]
     },
     "metadata": {},
     "output_type": "display_data"
    }
   ],
   "source": [
    "heart_k_min <- heart_results |>\n",
    "filter(.metric == \"accuracy\") |>\n",
    "arrange(desc(mean))\n",
    "heart_k_min"
   ]
  },
  {
   "cell_type": "markdown",
   "id": "84c94c6d-081e-43b3-a81e-8fb877d8a4dc",
   "metadata": {
    "tags": []
   },
   "source": [
    "## Methods"
   ]
  },
  {
   "cell_type": "markdown",
   "id": "87f57ba3-526f-4212-986b-6a619db66222",
   "metadata": {},
   "source": [
    "We will use k-nearest neighbours classification algorithm to predict the instance of heart disease with our chosen factors. We will be using age (age), sex (sex), cholesterol level(in mg/dl) (chol), maximum heart rate achieved (thalach), and number of major vessels colored by flourosopy\n",
    " (ca) to predict the diagnosis of heart disease (num). For clarity, sex is a binary variable that is coded as male = 1 and female = 0. Number of major vessels is measured from 0-3 and converted to integers. The diagnosis is initially measured from 0-4: 0 indicating no presence and 1-4 indicating presence of heart disease. We mutated this into a binary variable so that 0 indicates no diagnosis and 1 indicates diagnosis. \n",
    "\n",
    "We will find the best k by using cross validation with some number of folds to achieve a better accuracy. Accuracy will be determined by how correctly our model can predict the presence of heart disease with unseen data (test set).\n",
    "\n",
    "One way to visualize our results is to create a scatterplot between two variables that were found to have a significant influence in prediction with the color function to indicate the instance of heart disease or not. This will help explain why our model works (or doesn’t work very well) because we can see the relationships between the predictors and the target variable."
   ]
  },
  {
   "cell_type": "markdown",
   "id": "2739cfe2-1b7b-414b-86f4-99ab2f0923c4",
   "metadata": {
    "tags": []
   },
   "source": [
    "## Expected outcomes and significance"
   ]
  },
  {
   "cell_type": "markdown",
   "id": "0c7b16d8-2411-4398-9ce9-ccbdcbb70e08",
   "metadata": {},
   "source": [
    "We expect to find relationship between our predictors (age, cholesterol level, maximum heart rate achieved, number of major vessels colored by flourosopy, and sex) and our target variable (presence of heart disease).\n",
    "\n",
    "Findings such as this could have an impact on how doctors communicate health risks to patients. It may also affect how patients change their daily life as certain factors, such as cholesterol level, may be found to be associated with higher chances of heart disease.\n",
    "\n",
    "This could lead to future questions about the compounding effect of these variables and all other variables that serve predictive purposes. Knowing how these chosen variables affect the instance of heart disease, questions about other predictive variables such as blood pressure, smoking, or obesity can also be tested individually and together. Interactions between these variables could be a very important question to the future of diagnostic research with regard to heart disease and other similar conditions.\n"
   ]
  }
 ],
 "metadata": {
  "kernelspec": {
   "display_name": "R",
   "language": "R",
   "name": "ir"
  },
  "language_info": {
   "codemirror_mode": "r",
   "file_extension": ".r",
   "mimetype": "text/x-r-source",
   "name": "R",
   "pygments_lexer": "r",
   "version": "4.1.3"
  }
 },
 "nbformat": 4,
 "nbformat_minor": 5
}
