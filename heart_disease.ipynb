{
 "cells": [
  {
   "cell_type": "markdown",
   "id": "e677b0aa-2f61-47fb-b550-d54330c3ef8e",
   "metadata": {},
   "source": [
    "## 1. Title: The Heart of the Matter: Analyzing Predictors of Heart Disease\n",
    "\n"
   ]
  },
  {
   "cell_type": "markdown",
   "id": "606c07b4-d5eb-4ab0-a1d1-b30365dc7361",
   "metadata": {},
   "source": [
    "## 2. Introduction"
   ]
  },
  {
   "cell_type": "markdown",
   "id": "c3e591fc-3bef-4c09-8979-40278b8681ef",
   "metadata": {},
   "source": [
    "Heart disease is the number 1 cause of deaths worldwide, with no 'cure' of any kind. We can, however, try to identify possible factors that lead to higher risk of heart disease. We obtained a set of data collected by Robert Detrano, (M.D., Ph.D.) from the Long Beach and Cleveland Clinic Foundation. This data set contains a total of 76 attributes, of which 14 are used as primary data. We will be using this data to craft a model that attempts to predict whether or not age, sex, total cholestoral levels, maximum heart rate and number of major vessels affected by flourosopy affect the diagnosis of heart disease. "
   ]
  },
  {
   "cell_type": "markdown",
   "id": "ad7b94a0-8bb0-4493-a86f-82115450afde",
   "metadata": {
    "tags": []
   },
   "source": [
    "## 3. Preliminary exploratory data analysis"
   ]
  },
  {
   "cell_type": "code",
   "execution_count": 2,
   "id": "1a3260e5-7e71-46c1-a9c0-ce39ec95ca04",
   "metadata": {},
   "outputs": [
    {
     "name": "stderr",
     "output_type": "stream",
     "text": [
      "── \u001b[1mAttaching packages\u001b[22m ─────────────────────────────────────── tidyverse 1.3.1 ──\n",
      "\n",
      "\u001b[32m✔\u001b[39m \u001b[34mggplot2\u001b[39m 3.3.6     \u001b[32m✔\u001b[39m \u001b[34mpurrr  \u001b[39m 0.3.4\n",
      "\u001b[32m✔\u001b[39m \u001b[34mtibble \u001b[39m 3.1.7     \u001b[32m✔\u001b[39m \u001b[34mdplyr  \u001b[39m 1.0.9\n",
      "\u001b[32m✔\u001b[39m \u001b[34mtidyr  \u001b[39m 1.2.0     \u001b[32m✔\u001b[39m \u001b[34mstringr\u001b[39m 1.4.0\n",
      "\u001b[32m✔\u001b[39m \u001b[34mreadr  \u001b[39m 2.1.2     \u001b[32m✔\u001b[39m \u001b[34mforcats\u001b[39m 0.5.1\n",
      "\n",
      "── \u001b[1mConflicts\u001b[22m ────────────────────────────────────────── tidyverse_conflicts() ──\n",
      "\u001b[31m✖\u001b[39m \u001b[34mdplyr\u001b[39m::\u001b[32mfilter()\u001b[39m masks \u001b[34mstats\u001b[39m::filter()\n",
      "\u001b[31m✖\u001b[39m \u001b[34mdplyr\u001b[39m::\u001b[32mlag()\u001b[39m    masks \u001b[34mstats\u001b[39m::lag()\n",
      "\n",
      "── \u001b[1mAttaching packages\u001b[22m ────────────────────────────────────── tidymodels 1.0.0 ──\n",
      "\n",
      "\u001b[32m✔\u001b[39m \u001b[34mbroom       \u001b[39m 1.0.0     \u001b[32m✔\u001b[39m \u001b[34mrsample     \u001b[39m 1.0.0\n",
      "\u001b[32m✔\u001b[39m \u001b[34mdials       \u001b[39m 1.0.0     \u001b[32m✔\u001b[39m \u001b[34mtune        \u001b[39m 1.0.0\n",
      "\u001b[32m✔\u001b[39m \u001b[34minfer       \u001b[39m 1.0.2     \u001b[32m✔\u001b[39m \u001b[34mworkflows   \u001b[39m 1.0.0\n",
      "\u001b[32m✔\u001b[39m \u001b[34mmodeldata   \u001b[39m 1.0.0     \u001b[32m✔\u001b[39m \u001b[34mworkflowsets\u001b[39m 1.0.0\n",
      "\u001b[32m✔\u001b[39m \u001b[34mparsnip     \u001b[39m 1.0.0     \u001b[32m✔\u001b[39m \u001b[34myardstick   \u001b[39m 1.0.0\n",
      "\u001b[32m✔\u001b[39m \u001b[34mrecipes     \u001b[39m 1.0.1     \n",
      "\n",
      "── \u001b[1mConflicts\u001b[22m ───────────────────────────────────────── tidymodels_conflicts() ──\n",
      "\u001b[31m✖\u001b[39m \u001b[34mscales\u001b[39m::\u001b[32mdiscard()\u001b[39m masks \u001b[34mpurrr\u001b[39m::discard()\n",
      "\u001b[31m✖\u001b[39m \u001b[34mdplyr\u001b[39m::\u001b[32mfilter()\u001b[39m   masks \u001b[34mstats\u001b[39m::filter()\n",
      "\u001b[31m✖\u001b[39m \u001b[34mrecipes\u001b[39m::\u001b[32mfixed()\u001b[39m  masks \u001b[34mstringr\u001b[39m::fixed()\n",
      "\u001b[31m✖\u001b[39m \u001b[34mdplyr\u001b[39m::\u001b[32mlag()\u001b[39m      masks \u001b[34mstats\u001b[39m::lag()\n",
      "\u001b[31m✖\u001b[39m \u001b[34myardstick\u001b[39m::\u001b[32mspec()\u001b[39m masks \u001b[34mreadr\u001b[39m::spec()\n",
      "\u001b[31m✖\u001b[39m \u001b[34mrecipes\u001b[39m::\u001b[32mstep()\u001b[39m   masks \u001b[34mstats\u001b[39m::step()\n",
      "\u001b[34m•\u001b[39m Learn how to get started at \u001b[32mhttps://www.tidymodels.org/start/\u001b[39m\n",
      "\n"
     ]
    }
   ],
   "source": [
    "library(tidyverse)\n",
    "library(tidymodels)"
   ]
  },
  {
   "cell_type": "code",
   "execution_count": 3,
   "id": "5c3af150-4c24-42fe-a4cc-6b270866e929",
   "metadata": {},
   "outputs": [],
   "source": [
    "url <- \"https://archive.ics.uci.edu/ml/machine-learning-databases/heart-disease/processed.cleveland.data\"\n",
    "download.file(url, destfile = \"data/processed.cleveland.data\")"
   ]
  },
  {
   "cell_type": "code",
   "execution_count": 4,
   "id": "c8cda9a6-204a-46c3-8eef-d667d3d83e52",
   "metadata": {},
   "outputs": [
    {
     "name": "stderr",
     "output_type": "stream",
     "text": [
      "\u001b[1mRows: \u001b[22m\u001b[34m303\u001b[39m \u001b[1mColumns: \u001b[22m\u001b[34m14\u001b[39m\n",
      "\u001b[36m──\u001b[39m \u001b[1mColumn specification\u001b[22m \u001b[36m────────────────────────────────────────────────────────\u001b[39m\n",
      "\u001b[1mDelimiter:\u001b[22m \",\"\n",
      "\u001b[31mchr\u001b[39m  (2): X12, X13\n",
      "\u001b[32mdbl\u001b[39m (12): X1, X2, X3, X4, X5, X6, X7, X8, X9, X10, X11, X14\n",
      "\n",
      "\u001b[36mℹ\u001b[39m Use `spec()` to retrieve the full column specification for this data.\n",
      "\u001b[36mℹ\u001b[39m Specify the column types or set `show_col_types = FALSE` to quiet this message.\n"
     ]
    }
   ],
   "source": [
    "heart_df <- read_csv(\"data/processed.cleveland.data\", col_name = FALSE)"
   ]
  },
  {
   "cell_type": "code",
   "execution_count": 5,
   "id": "a9d8d5df-2cd8-43b6-bbf6-95f5bbe4e9af",
   "metadata": {},
   "outputs": [],
   "source": [
    "col <- c(\"age\", \"sex\",\"cp\", \"trestbps\", \"chol\", \"fbs\", \"restecg\", \"thalach\", \"exang\", \"oldpeak\", \"slope\", \"ca\", \"thal\",\"num\")"
   ]
  },
  {
   "cell_type": "code",
   "execution_count": 6,
   "id": "f7f36389-ed9a-4115-b788-ed8bfe106189",
   "metadata": {},
   "outputs": [],
   "source": [
    "colnames(heart_df) <- col"
   ]
  },
  {
   "cell_type": "code",
   "execution_count": 7,
   "id": "542547f6-eac9-45df-b0e5-76530bb48e98",
   "metadata": {},
   "outputs": [
    {
     "data": {
      "text/html": [
       "<table class=\"dataframe\">\n",
       "<caption>A tibble: 6 × 14</caption>\n",
       "<thead>\n",
       "\t<tr><th scope=col>age</th><th scope=col>sex</th><th scope=col>cp</th><th scope=col>trestbps</th><th scope=col>chol</th><th scope=col>fbs</th><th scope=col>restecg</th><th scope=col>thalach</th><th scope=col>exang</th><th scope=col>oldpeak</th><th scope=col>slope</th><th scope=col>ca</th><th scope=col>thal</th><th scope=col>num</th></tr>\n",
       "\t<tr><th scope=col>&lt;dbl&gt;</th><th scope=col>&lt;dbl&gt;</th><th scope=col>&lt;dbl&gt;</th><th scope=col>&lt;dbl&gt;</th><th scope=col>&lt;dbl&gt;</th><th scope=col>&lt;dbl&gt;</th><th scope=col>&lt;dbl&gt;</th><th scope=col>&lt;dbl&gt;</th><th scope=col>&lt;dbl&gt;</th><th scope=col>&lt;dbl&gt;</th><th scope=col>&lt;dbl&gt;</th><th scope=col>&lt;chr&gt;</th><th scope=col>&lt;chr&gt;</th><th scope=col>&lt;dbl&gt;</th></tr>\n",
       "</thead>\n",
       "<tbody>\n",
       "\t<tr><td>63</td><td>1</td><td>1</td><td>145</td><td>233</td><td>1</td><td>2</td><td>150</td><td>0</td><td>2.3</td><td>3</td><td>0.0</td><td>6.0</td><td>0</td></tr>\n",
       "\t<tr><td>67</td><td>1</td><td>4</td><td>160</td><td>286</td><td>0</td><td>2</td><td>108</td><td>1</td><td>1.5</td><td>2</td><td>3.0</td><td>3.0</td><td>2</td></tr>\n",
       "\t<tr><td>67</td><td>1</td><td>4</td><td>120</td><td>229</td><td>0</td><td>2</td><td>129</td><td>1</td><td>2.6</td><td>2</td><td>2.0</td><td>7.0</td><td>1</td></tr>\n",
       "\t<tr><td>37</td><td>1</td><td>3</td><td>130</td><td>250</td><td>0</td><td>0</td><td>187</td><td>0</td><td>3.5</td><td>3</td><td>0.0</td><td>3.0</td><td>0</td></tr>\n",
       "\t<tr><td>41</td><td>0</td><td>2</td><td>130</td><td>204</td><td>0</td><td>2</td><td>172</td><td>0</td><td>1.4</td><td>1</td><td>0.0</td><td>3.0</td><td>0</td></tr>\n",
       "\t<tr><td>56</td><td>1</td><td>2</td><td>120</td><td>236</td><td>0</td><td>0</td><td>178</td><td>0</td><td>0.8</td><td>1</td><td>0.0</td><td>3.0</td><td>0</td></tr>\n",
       "</tbody>\n",
       "</table>\n"
      ],
      "text/latex": [
       "A tibble: 6 × 14\n",
       "\\begin{tabular}{llllllllllllll}\n",
       " age & sex & cp & trestbps & chol & fbs & restecg & thalach & exang & oldpeak & slope & ca & thal & num\\\\\n",
       " <dbl> & <dbl> & <dbl> & <dbl> & <dbl> & <dbl> & <dbl> & <dbl> & <dbl> & <dbl> & <dbl> & <chr> & <chr> & <dbl>\\\\\n",
       "\\hline\n",
       "\t 63 & 1 & 1 & 145 & 233 & 1 & 2 & 150 & 0 & 2.3 & 3 & 0.0 & 6.0 & 0\\\\\n",
       "\t 67 & 1 & 4 & 160 & 286 & 0 & 2 & 108 & 1 & 1.5 & 2 & 3.0 & 3.0 & 2\\\\\n",
       "\t 67 & 1 & 4 & 120 & 229 & 0 & 2 & 129 & 1 & 2.6 & 2 & 2.0 & 7.0 & 1\\\\\n",
       "\t 37 & 1 & 3 & 130 & 250 & 0 & 0 & 187 & 0 & 3.5 & 3 & 0.0 & 3.0 & 0\\\\\n",
       "\t 41 & 0 & 2 & 130 & 204 & 0 & 2 & 172 & 0 & 1.4 & 1 & 0.0 & 3.0 & 0\\\\\n",
       "\t 56 & 1 & 2 & 120 & 236 & 0 & 0 & 178 & 0 & 0.8 & 1 & 0.0 & 3.0 & 0\\\\\n",
       "\\end{tabular}\n"
      ],
      "text/markdown": [
       "\n",
       "A tibble: 6 × 14\n",
       "\n",
       "| age &lt;dbl&gt; | sex &lt;dbl&gt; | cp &lt;dbl&gt; | trestbps &lt;dbl&gt; | chol &lt;dbl&gt; | fbs &lt;dbl&gt; | restecg &lt;dbl&gt; | thalach &lt;dbl&gt; | exang &lt;dbl&gt; | oldpeak &lt;dbl&gt; | slope &lt;dbl&gt; | ca &lt;chr&gt; | thal &lt;chr&gt; | num &lt;dbl&gt; |\n",
       "|---|---|---|---|---|---|---|---|---|---|---|---|---|---|\n",
       "| 63 | 1 | 1 | 145 | 233 | 1 | 2 | 150 | 0 | 2.3 | 3 | 0.0 | 6.0 | 0 |\n",
       "| 67 | 1 | 4 | 160 | 286 | 0 | 2 | 108 | 1 | 1.5 | 2 | 3.0 | 3.0 | 2 |\n",
       "| 67 | 1 | 4 | 120 | 229 | 0 | 2 | 129 | 1 | 2.6 | 2 | 2.0 | 7.0 | 1 |\n",
       "| 37 | 1 | 3 | 130 | 250 | 0 | 0 | 187 | 0 | 3.5 | 3 | 0.0 | 3.0 | 0 |\n",
       "| 41 | 0 | 2 | 130 | 204 | 0 | 2 | 172 | 0 | 1.4 | 1 | 0.0 | 3.0 | 0 |\n",
       "| 56 | 1 | 2 | 120 | 236 | 0 | 0 | 178 | 0 | 0.8 | 1 | 0.0 | 3.0 | 0 |\n",
       "\n"
      ],
      "text/plain": [
       "  age sex cp trestbps chol fbs restecg thalach exang oldpeak slope ca  thal num\n",
       "1 63  1   1  145      233  1   2       150     0     2.3     3     0.0 6.0  0  \n",
       "2 67  1   4  160      286  0   2       108     1     1.5     2     3.0 3.0  2  \n",
       "3 67  1   4  120      229  0   2       129     1     2.6     2     2.0 7.0  1  \n",
       "4 37  1   3  130      250  0   0       187     0     3.5     3     0.0 3.0  0  \n",
       "5 41  0   2  130      204  0   2       172     0     1.4     1     0.0 3.0  0  \n",
       "6 56  1   2  120      236  0   0       178     0     0.8     1     0.0 3.0  0  "
      ]
     },
     "metadata": {},
     "output_type": "display_data"
    }
   ],
   "source": [
    "head(heart_df)"
   ]
  },
  {
   "cell_type": "code",
   "execution_count": 8,
   "id": "c2cdf6c2-a172-4652-b47e-b8e9fc6ebc51",
   "metadata": {},
   "outputs": [],
   "source": [
    "## me trying to figure stuff out here -> good for graph column names later\n",
    "#age - age in years\n",
    "#sex - sex (1 = male, 0 = female)\n",
    "#cp (del?) - chest pain type (1 = typical angina, 2 = atypical angina, 3 = non-anginal pain, 4 = asymptomatic)\n",
    "#trestbps (del?) - resting blood pressure (in mm Hg on admission to the hospital)\n",
    "#chol - serum cholestoral in mg/dl\n",
    "#fbs (del?) - fasting blood sugar > 120 mg/dl (1 = true; 0 = false)\n",
    "#restecg (del?) - resting electrocardiographic results (0 = normal, 1 = having ST-T wave abnormality (T wave inversions and/or ST elevation or depression of > 0.05 mV), 2 = showing probable or definite left ventricular hypertrophy by Estes' criteria\n",
    "#thalach - maximum heart rate achieved\n",
    "#exang (del?) - exercise induced angina (1 = yes; 0 = no)\n",
    "#oldpeak (del?) - ST depression induced by exercise relative to rest\n",
    "#slope (del?) - the slope of the peak exercise ST segment (1 = upsloping, 2 = flat, 3 = downsloping)\n",
    "#ca - number of major vessels (0-3) colored by flourosopy\n",
    "#thal (del?) - 3 = normal; 6 = fixed defect; 7 = reversable defect\n",
    "#num - diagnosis of heart disease (angiographic disease status) (0 = < 50% diameter narrowing, >0 (?) = > 50% diameter narrowing)\n"
   ]
  },
  {
   "cell_type": "code",
   "execution_count": 9,
   "id": "404f5ebf-2679-4139-858b-6192769d07d0",
   "metadata": {},
   "outputs": [
    {
     "data": {
      "text/html": [
       "<table class=\"dataframe\">\n",
       "<caption>A tibble: 6 × 6</caption>\n",
       "<thead>\n",
       "\t<tr><th scope=col>age</th><th scope=col>sex</th><th scope=col>chol</th><th scope=col>thalach</th><th scope=col>ca</th><th scope=col>num</th></tr>\n",
       "\t<tr><th scope=col>&lt;dbl&gt;</th><th scope=col>&lt;dbl&gt;</th><th scope=col>&lt;dbl&gt;</th><th scope=col>&lt;dbl&gt;</th><th scope=col>&lt;chr&gt;</th><th scope=col>&lt;dbl&gt;</th></tr>\n",
       "</thead>\n",
       "<tbody>\n",
       "\t<tr><td>63</td><td>1</td><td>233</td><td>150</td><td>0.0</td><td>0</td></tr>\n",
       "\t<tr><td>67</td><td>1</td><td>286</td><td>108</td><td>3.0</td><td>2</td></tr>\n",
       "\t<tr><td>67</td><td>1</td><td>229</td><td>129</td><td>2.0</td><td>1</td></tr>\n",
       "\t<tr><td>37</td><td>1</td><td>250</td><td>187</td><td>0.0</td><td>0</td></tr>\n",
       "\t<tr><td>41</td><td>0</td><td>204</td><td>172</td><td>0.0</td><td>0</td></tr>\n",
       "\t<tr><td>56</td><td>1</td><td>236</td><td>178</td><td>0.0</td><td>0</td></tr>\n",
       "</tbody>\n",
       "</table>\n"
      ],
      "text/latex": [
       "A tibble: 6 × 6\n",
       "\\begin{tabular}{llllll}\n",
       " age & sex & chol & thalach & ca & num\\\\\n",
       " <dbl> & <dbl> & <dbl> & <dbl> & <chr> & <dbl>\\\\\n",
       "\\hline\n",
       "\t 63 & 1 & 233 & 150 & 0.0 & 0\\\\\n",
       "\t 67 & 1 & 286 & 108 & 3.0 & 2\\\\\n",
       "\t 67 & 1 & 229 & 129 & 2.0 & 1\\\\\n",
       "\t 37 & 1 & 250 & 187 & 0.0 & 0\\\\\n",
       "\t 41 & 0 & 204 & 172 & 0.0 & 0\\\\\n",
       "\t 56 & 1 & 236 & 178 & 0.0 & 0\\\\\n",
       "\\end{tabular}\n"
      ],
      "text/markdown": [
       "\n",
       "A tibble: 6 × 6\n",
       "\n",
       "| age &lt;dbl&gt; | sex &lt;dbl&gt; | chol &lt;dbl&gt; | thalach &lt;dbl&gt; | ca &lt;chr&gt; | num &lt;dbl&gt; |\n",
       "|---|---|---|---|---|---|\n",
       "| 63 | 1 | 233 | 150 | 0.0 | 0 |\n",
       "| 67 | 1 | 286 | 108 | 3.0 | 2 |\n",
       "| 67 | 1 | 229 | 129 | 2.0 | 1 |\n",
       "| 37 | 1 | 250 | 187 | 0.0 | 0 |\n",
       "| 41 | 0 | 204 | 172 | 0.0 | 0 |\n",
       "| 56 | 1 | 236 | 178 | 0.0 | 0 |\n",
       "\n"
      ],
      "text/plain": [
       "  age sex chol thalach ca  num\n",
       "1 63  1   233  150     0.0 0  \n",
       "2 67  1   286  108     3.0 2  \n",
       "3 67  1   229  129     2.0 1  \n",
       "4 37  1   250  187     0.0 0  \n",
       "5 41  0   204  172     0.0 0  \n",
       "6 56  1   236  178     0.0 0  "
      ]
     },
     "metadata": {},
     "output_type": "display_data"
    }
   ],
   "source": [
    "filheart_df <- select(heart_df, -cp, -trestbps, -fbs, -restecg, -exang, -oldpeak, -slope, -thal)\n",
    "head(filheart_df)"
   ]
  },
  {
   "cell_type": "code",
   "execution_count": 10,
   "id": "c9cb9c8e-8251-42a1-b421-e2b4c186bcf3",
   "metadata": {},
   "outputs": [
    {
     "data": {
      "text/html": [
       "<table class=\"dataframe\">\n",
       "<caption>A tibble: 6 × 6</caption>\n",
       "<thead>\n",
       "\t<tr><th scope=col>age</th><th scope=col>sex</th><th scope=col>chol</th><th scope=col>thalach</th><th scope=col>ca</th><th scope=col>num</th></tr>\n",
       "\t<tr><th scope=col>&lt;dbl&gt;</th><th scope=col>&lt;dbl&gt;</th><th scope=col>&lt;dbl&gt;</th><th scope=col>&lt;dbl&gt;</th><th scope=col>&lt;chr&gt;</th><th scope=col>&lt;dbl&gt;</th></tr>\n",
       "</thead>\n",
       "<tbody>\n",
       "\t<tr><td>63</td><td>1</td><td>233</td><td>150</td><td>0.0</td><td>0</td></tr>\n",
       "\t<tr><td>37</td><td>1</td><td>250</td><td>187</td><td>0.0</td><td>0</td></tr>\n",
       "\t<tr><td>41</td><td>0</td><td>204</td><td>172</td><td>0.0</td><td>0</td></tr>\n",
       "\t<tr><td>57</td><td>0</td><td>354</td><td>163</td><td>0.0</td><td>0</td></tr>\n",
       "\t<tr><td>57</td><td>1</td><td>192</td><td>148</td><td>0.0</td><td>0</td></tr>\n",
       "\t<tr><td>56</td><td>0</td><td>294</td><td>153</td><td>0.0</td><td>0</td></tr>\n",
       "</tbody>\n",
       "</table>\n"
      ],
      "text/latex": [
       "A tibble: 6 × 6\n",
       "\\begin{tabular}{llllll}\n",
       " age & sex & chol & thalach & ca & num\\\\\n",
       " <dbl> & <dbl> & <dbl> & <dbl> & <chr> & <dbl>\\\\\n",
       "\\hline\n",
       "\t 63 & 1 & 233 & 150 & 0.0 & 0\\\\\n",
       "\t 37 & 1 & 250 & 187 & 0.0 & 0\\\\\n",
       "\t 41 & 0 & 204 & 172 & 0.0 & 0\\\\\n",
       "\t 57 & 0 & 354 & 163 & 0.0 & 0\\\\\n",
       "\t 57 & 1 & 192 & 148 & 0.0 & 0\\\\\n",
       "\t 56 & 0 & 294 & 153 & 0.0 & 0\\\\\n",
       "\\end{tabular}\n"
      ],
      "text/markdown": [
       "\n",
       "A tibble: 6 × 6\n",
       "\n",
       "| age &lt;dbl&gt; | sex &lt;dbl&gt; | chol &lt;dbl&gt; | thalach &lt;dbl&gt; | ca &lt;chr&gt; | num &lt;dbl&gt; |\n",
       "|---|---|---|---|---|---|\n",
       "| 63 | 1 | 233 | 150 | 0.0 | 0 |\n",
       "| 37 | 1 | 250 | 187 | 0.0 | 0 |\n",
       "| 41 | 0 | 204 | 172 | 0.0 | 0 |\n",
       "| 57 | 0 | 354 | 163 | 0.0 | 0 |\n",
       "| 57 | 1 | 192 | 148 | 0.0 | 0 |\n",
       "| 56 | 0 | 294 | 153 | 0.0 | 0 |\n",
       "\n"
      ],
      "text/plain": [
       "  age sex chol thalach ca  num\n",
       "1 63  1   233  150     0.0 0  \n",
       "2 37  1   250  187     0.0 0  \n",
       "3 41  0   204  172     0.0 0  \n",
       "4 57  0   354  163     0.0 0  \n",
       "5 57  1   192  148     0.0 0  \n",
       "6 56  0   294  153     0.0 0  "
      ]
     },
     "metadata": {},
     "output_type": "display_data"
    },
    {
     "data": {
      "text/html": [
       "<table class=\"dataframe\">\n",
       "<caption>A tibble: 6 × 6</caption>\n",
       "<thead>\n",
       "\t<tr><th scope=col>age</th><th scope=col>sex</th><th scope=col>chol</th><th scope=col>thalach</th><th scope=col>ca</th><th scope=col>num</th></tr>\n",
       "\t<tr><th scope=col>&lt;dbl&gt;</th><th scope=col>&lt;dbl&gt;</th><th scope=col>&lt;dbl&gt;</th><th scope=col>&lt;dbl&gt;</th><th scope=col>&lt;chr&gt;</th><th scope=col>&lt;dbl&gt;</th></tr>\n",
       "</thead>\n",
       "<tbody>\n",
       "\t<tr><td>67</td><td>1</td><td>229</td><td>129</td><td>2.0</td><td>1</td></tr>\n",
       "\t<tr><td>56</td><td>1</td><td>236</td><td>178</td><td>0.0</td><td>0</td></tr>\n",
       "\t<tr><td>53</td><td>1</td><td>203</td><td>155</td><td>0.0</td><td>1</td></tr>\n",
       "\t<tr><td>56</td><td>1</td><td>256</td><td>142</td><td>1.0</td><td>2</td></tr>\n",
       "\t<tr><td>44</td><td>1</td><td>263</td><td>173</td><td>0.0</td><td>0</td></tr>\n",
       "\t<tr><td>57</td><td>1</td><td>168</td><td>174</td><td>0.0</td><td>0</td></tr>\n",
       "</tbody>\n",
       "</table>\n"
      ],
      "text/latex": [
       "A tibble: 6 × 6\n",
       "\\begin{tabular}{llllll}\n",
       " age & sex & chol & thalach & ca & num\\\\\n",
       " <dbl> & <dbl> & <dbl> & <dbl> & <chr> & <dbl>\\\\\n",
       "\\hline\n",
       "\t 67 & 1 & 229 & 129 & 2.0 & 1\\\\\n",
       "\t 56 & 1 & 236 & 178 & 0.0 & 0\\\\\n",
       "\t 53 & 1 & 203 & 155 & 0.0 & 1\\\\\n",
       "\t 56 & 1 & 256 & 142 & 1.0 & 2\\\\\n",
       "\t 44 & 1 & 263 & 173 & 0.0 & 0\\\\\n",
       "\t 57 & 1 & 168 & 174 & 0.0 & 0\\\\\n",
       "\\end{tabular}\n"
      ],
      "text/markdown": [
       "\n",
       "A tibble: 6 × 6\n",
       "\n",
       "| age &lt;dbl&gt; | sex &lt;dbl&gt; | chol &lt;dbl&gt; | thalach &lt;dbl&gt; | ca &lt;chr&gt; | num &lt;dbl&gt; |\n",
       "|---|---|---|---|---|---|\n",
       "| 67 | 1 | 229 | 129 | 2.0 | 1 |\n",
       "| 56 | 1 | 236 | 178 | 0.0 | 0 |\n",
       "| 53 | 1 | 203 | 155 | 0.0 | 1 |\n",
       "| 56 | 1 | 256 | 142 | 1.0 | 2 |\n",
       "| 44 | 1 | 263 | 173 | 0.0 | 0 |\n",
       "| 57 | 1 | 168 | 174 | 0.0 | 0 |\n",
       "\n"
      ],
      "text/plain": [
       "  age sex chol thalach ca  num\n",
       "1 67  1   229  129     2.0 1  \n",
       "2 56  1   236  178     0.0 0  \n",
       "3 53  1   203  155     0.0 1  \n",
       "4 56  1   256  142     1.0 2  \n",
       "5 44  1   263  173     0.0 0  \n",
       "6 57  1   168  174     0.0 0  "
      ]
     },
     "metadata": {},
     "output_type": "display_data"
    }
   ],
   "source": [
    "split <- initial_split(filheart_df, prop = 0.7, strata = num)\n",
    "heart_train <- training(split)\n",
    "heart_test <- testing(split)\n",
    "head(heart_train)\n",
    "head(heart_test)"
   ]
  },
  {
   "cell_type": "code",
   "execution_count": null,
   "id": "0a5a2ba2-97b3-40fc-8c07-34efffaeb147",
   "metadata": {},
   "outputs": [
    {
     "name": "stderr",
     "output_type": "stream",
     "text": [
      "Warning message in mask$eval_all_mutate(quo):\n",
      "“NAs introduced by coercion”\n"
     ]
    },
    {
     "data": {
      "text/html": [
       "<table class=\"dataframe\">\n",
       "<caption>A tibble: 6 × 7</caption>\n",
       "<thead>\n",
       "\t<tr><th scope=col>age</th><th scope=col>sex</th><th scope=col>chol</th><th scope=col>thalach</th><th scope=col>ca</th><th scope=col>num</th><th scope=col>na.rm</th></tr>\n",
       "\t<tr><th scope=col>&lt;dbl&gt;</th><th scope=col>&lt;fct&gt;</th><th scope=col>&lt;dbl&gt;</th><th scope=col>&lt;dbl&gt;</th><th scope=col>&lt;int&gt;</th><th scope=col>&lt;dbl&gt;</th><th scope=col>&lt;lgl&gt;</th></tr>\n",
       "</thead>\n",
       "<tbody>\n",
       "\t<tr><td>63</td><td>1</td><td>233</td><td>150</td><td>0</td><td>0</td><td>TRUE</td></tr>\n",
       "\t<tr><td>37</td><td>1</td><td>250</td><td>187</td><td>0</td><td>0</td><td>TRUE</td></tr>\n",
       "\t<tr><td>41</td><td>0</td><td>204</td><td>172</td><td>0</td><td>0</td><td>TRUE</td></tr>\n",
       "\t<tr><td>57</td><td>0</td><td>354</td><td>163</td><td>0</td><td>0</td><td>TRUE</td></tr>\n",
       "\t<tr><td>57</td><td>1</td><td>192</td><td>148</td><td>0</td><td>0</td><td>TRUE</td></tr>\n",
       "\t<tr><td>56</td><td>0</td><td>294</td><td>153</td><td>0</td><td>0</td><td>TRUE</td></tr>\n",
       "</tbody>\n",
       "</table>\n"
      ],
      "text/latex": [
       "A tibble: 6 × 7\n",
       "\\begin{tabular}{lllllll}\n",
       " age & sex & chol & thalach & ca & num & na.rm\\\\\n",
       " <dbl> & <fct> & <dbl> & <dbl> & <int> & <dbl> & <lgl>\\\\\n",
       "\\hline\n",
       "\t 63 & 1 & 233 & 150 & 0 & 0 & TRUE\\\\\n",
       "\t 37 & 1 & 250 & 187 & 0 & 0 & TRUE\\\\\n",
       "\t 41 & 0 & 204 & 172 & 0 & 0 & TRUE\\\\\n",
       "\t 57 & 0 & 354 & 163 & 0 & 0 & TRUE\\\\\n",
       "\t 57 & 1 & 192 & 148 & 0 & 0 & TRUE\\\\\n",
       "\t 56 & 0 & 294 & 153 & 0 & 0 & TRUE\\\\\n",
       "\\end{tabular}\n"
      ],
      "text/markdown": [
       "\n",
       "A tibble: 6 × 7\n",
       "\n",
       "| age &lt;dbl&gt; | sex &lt;fct&gt; | chol &lt;dbl&gt; | thalach &lt;dbl&gt; | ca &lt;int&gt; | num &lt;dbl&gt; | na.rm &lt;lgl&gt; |\n",
       "|---|---|---|---|---|---|---|\n",
       "| 63 | 1 | 233 | 150 | 0 | 0 | TRUE |\n",
       "| 37 | 1 | 250 | 187 | 0 | 0 | TRUE |\n",
       "| 41 | 0 | 204 | 172 | 0 | 0 | TRUE |\n",
       "| 57 | 0 | 354 | 163 | 0 | 0 | TRUE |\n",
       "| 57 | 1 | 192 | 148 | 0 | 0 | TRUE |\n",
       "| 56 | 0 | 294 | 153 | 0 | 0 | TRUE |\n",
       "\n"
      ],
      "text/plain": [
       "  age sex chol thalach ca num na.rm\n",
       "1 63  1   233  150     0  0   TRUE \n",
       "2 37  1   250  187     0  0   TRUE \n",
       "3 41  0   204  172     0  0   TRUE \n",
       "4 57  0   354  163     0  0   TRUE \n",
       "5 57  1   192  148     0  0   TRUE \n",
       "6 56  0   294  153     0  0   TRUE "
      ]
     },
     "metadata": {},
     "output_type": "display_data"
    }
   ],
   "source": [
    "heart_zero <- heart_train %>%\n",
    "        filter(num ==0) %>%\n",
    "        mutate(sex = as.factor(sex)) %>%\n",
    "        mutate(ca = as.integer(ca))\n",
    "heart_nonzero <- heart_train %>%\n",
    "        filter(num >=1) %>%\n",
    "        mutate(num = 1) %>%\n",
    "        mutate(sex = as.factor(sex)) %>%\n",
    "        mutate(ca = as.integer(ca))\n",
    "merged_train <- rbind(heart_zero, heart_nonzero)\n",
    "head(merged_train)"
   ]
  },
  {
   "cell_type": "code",
   "execution_count": 107,
   "id": "2741e450-8e08-4271-a9b5-4c6c80a0ed73",
   "metadata": {},
   "outputs": [
    {
     "data": {
      "text/html": [
       "<table class=\"dataframe\">\n",
       "<caption>A tibble: 5 × 2</caption>\n",
       "<thead>\n",
       "\t<tr><th scope=col>ca</th><th scope=col>cacounts</th></tr>\n",
       "\t<tr><th scope=col>&lt;int&gt;</th><th scope=col>&lt;int&gt;</th></tr>\n",
       "</thead>\n",
       "<tbody>\n",
       "\t<tr><td> 0</td><td>116</td></tr>\n",
       "\t<tr><td> 1</td><td> 46</td></tr>\n",
       "\t<tr><td> 2</td><td> 30</td></tr>\n",
       "\t<tr><td> 3</td><td> 16</td></tr>\n",
       "\t<tr><td>NA</td><td>  3</td></tr>\n",
       "</tbody>\n",
       "</table>\n"
      ],
      "text/latex": [
       "A tibble: 5 × 2\n",
       "\\begin{tabular}{ll}\n",
       " ca & cacounts\\\\\n",
       " <int> & <int>\\\\\n",
       "\\hline\n",
       "\t  0 & 116\\\\\n",
       "\t  1 &  46\\\\\n",
       "\t  2 &  30\\\\\n",
       "\t  3 &  16\\\\\n",
       "\t NA &   3\\\\\n",
       "\\end{tabular}\n"
      ],
      "text/markdown": [
       "\n",
       "A tibble: 5 × 2\n",
       "\n",
       "| ca &lt;int&gt; | cacounts &lt;int&gt; |\n",
       "|---|---|\n",
       "|  0 | 116 |\n",
       "|  1 |  46 |\n",
       "|  2 |  30 |\n",
       "|  3 |  16 |\n",
       "| NA |   3 |\n",
       "\n"
      ],
      "text/plain": [
       "  ca cacounts\n",
       "1  0 116     \n",
       "2  1  46     \n",
       "3  2  30     \n",
       "4  3  16     \n",
       "5 NA   3     "
      ]
     },
     "metadata": {},
     "output_type": "display_data"
    },
    {
     "data": {
      "text/html": [
       "<table class=\"dataframe\">\n",
       "<caption>A tibble: 2 × 3</caption>\n",
       "<thead>\n",
       "\t<tr><th scope=col>avg_age</th><th scope=col>avg_chol</th><th scope=col>avg_thal</th></tr>\n",
       "\t<tr><th scope=col>&lt;dbl&gt;</th><th scope=col>&lt;dbl&gt;</th><th scope=col>&lt;dbl&gt;</th></tr>\n",
       "</thead>\n",
       "<tbody>\n",
       "\t<tr><td>53.05263</td><td>251.3333</td><td>158.3333</td></tr>\n",
       "\t<tr><td>57.04124</td><td>250.5361</td><td>140.2577</td></tr>\n",
       "</tbody>\n",
       "</table>\n"
      ],
      "text/latex": [
       "A tibble: 2 × 3\n",
       "\\begin{tabular}{lll}\n",
       " avg\\_age & avg\\_chol & avg\\_thal\\\\\n",
       " <dbl> & <dbl> & <dbl>\\\\\n",
       "\\hline\n",
       "\t 53.05263 & 251.3333 & 158.3333\\\\\n",
       "\t 57.04124 & 250.5361 & 140.2577\\\\\n",
       "\\end{tabular}\n"
      ],
      "text/markdown": [
       "\n",
       "A tibble: 2 × 3\n",
       "\n",
       "| avg_age &lt;dbl&gt; | avg_chol &lt;dbl&gt; | avg_thal &lt;dbl&gt; |\n",
       "|---|---|---|\n",
       "| 53.05263 | 251.3333 | 158.3333 |\n",
       "| 57.04124 | 250.5361 | 140.2577 |\n",
       "\n"
      ],
      "text/plain": [
       "  avg_age  avg_chol avg_thal\n",
       "1 53.05263 251.3333 158.3333\n",
       "2 57.04124 250.5361 140.2577"
      ]
     },
     "metadata": {},
     "output_type": "display_data"
    },
    {
     "ename": "ERROR",
     "evalue": "\u001b[1m\u001b[33mError\u001b[39m in \u001b[1m\u001b[1m`bind_cols()`:\u001b[22m\n\u001b[33m!\u001b[39m Can't recycle `..1` (size 5) to match `..2` (size 2).\n",
     "output_type": "error",
     "traceback": [
      "\u001b[1m\u001b[33mError\u001b[39m in \u001b[1m\u001b[1m`bind_cols()`:\u001b[22m\n\u001b[33m!\u001b[39m Can't recycle `..1` (size 5) to match `..2` (size 2).\nTraceback:\n",
      "1. bind_cols(num_counts_ca, num_counts_train)",
      "2. fix_call(vec_cbind(!!!dots, .name_repair = .name_repair))",
      "3. withCallingHandlers(expr, error = function(cnd) {\n .     cnd$call <- call\n .     cnd_signal(cnd)\n . })",
      "4. vec_cbind(!!!dots, .name_repair = .name_repair)",
      "5. stop_incompatible_size(x = .Primitive(\"quote\")(structure(list(\n .     ca = c(0L, 1L, 2L, 3L, NA), cacounts = c(116L, 46L, 30L, \n .     16L, 3L)), class = c(\"tbl_df\", \"tbl\", \"data.frame\"), row.names = c(NA, \n . -5L))), y = .Primitive(\"quote\")(structure(list(num = c(0, 1), \n .     numcounts = c(114L, 97L)), class = c(\"tbl_df\", \"tbl\", \"data.frame\"\n . ), row.names = c(NA, -2L))), x_size = 5L, y_size = 2L, x_arg = \"..1\", \n .     y_arg = \"..2\", call = <environment>)",
      "6. stop_incompatible(x, y, x_size = x_size, y_size = y_size, ..., \n .     x_arg = x_arg, y_arg = y_arg, details = details, message = message, \n .     class = c(class, \"vctrs_error_incompatible_size\"), call = call)",
      "7. stop_vctrs(message, class = c(class, \"vctrs_error_incompatible\"), \n .     x = x, y = y, details = details, ..., call = call)",
      "8. abort(message, class = c(class, \"vctrs_error\"), ..., call = vctrs_error_call(call))",
      "9. signal_abort(cnd, .file)",
      "10. signalCondition(cnd)",
      "11. (function (cnd) \n  . {\n  .     cnd$call <- call\n  .     cnd_signal(cnd)\n  . })(structure(list(message = \"\", trace = structure(list(call = list(\n  .     IRkernel::main(), kernel$run(), handle_shell(), executor$execute(msg), \n  .     tryCatch(evaluate(request$content$code, envir = .GlobalEnv, \n  .         output_handler = oh, stop_on_error = 1L), interrupt = function(cond) {\n  .         log_debug(\"Interrupt during execution\")\n  .         interrupted <<- TRUE\n  .     }, error = .self$handle_error), tryCatchList(expr, classes, \n  .         parentenv, handlers), tryCatchOne(tryCatchList(expr, \n  .         names[-nh], parentenv, handlers[-nh]), names[nh], parentenv, \n  .         handlers[[nh]]), doTryCatch(return(expr), name, parentenv, \n  .         handler), tryCatchList(expr, names[-nh], parentenv, handlers[-nh]), \n  .     tryCatchOne(expr, names, parentenv, handlers[[1L]]), doTryCatch(return(expr), \n  .         name, parentenv, handler), evaluate(request$content$code, \n  .         envir = .GlobalEnv, output_handler = oh, stop_on_error = 1L), \n  .     evaluate_call(expr, parsed$src[[i]], envir = envir, enclos = enclos, \n  .         debug = debug, last = i == length(out), use_try = stop_on_error != \n  .             2L, keep_warning = keep_warning, keep_message = keep_message, \n  .         output_handler = output_handler, include_timing = include_timing), \n  .     timing_fn(handle(ev <- withCallingHandlers(withVisible(eval_with_user_handlers(expr, \n  .         envir, enclos, user_handlers)), warning = wHandler, error = eHandler, \n  .         message = mHandler))), handle(ev <- withCallingHandlers(withVisible(eval_with_user_handlers(expr, \n  .         envir, enclos, user_handlers)), warning = wHandler, error = eHandler, \n  .         message = mHandler)), try(f, silent = TRUE), tryCatch(expr, \n  .         error = function(e) {\n  .             call <- conditionCall(e)\n  .             if (!is.null(call)) {\n  .                 if (identical(call[[1L]], quote(doTryCatch))) \n  .                   call <- sys.call(-4L)\n  .                 dcall <- deparse(call, nlines = 1L)\n  .                 prefix <- paste(\"Error in\", dcall, \": \")\n  .                 LONG <- 75L\n  .                 sm <- strsplit(conditionMessage(e), \"\\n\")[[1L]]\n  .                 w <- 14L + nchar(dcall, type = \"w\") + nchar(sm[1L], \n  .                   type = \"w\")\n  .                 if (is.na(w)) \n  .                   w <- 14L + nchar(dcall, type = \"b\") + nchar(sm[1L], \n  .                     type = \"b\")\n  .                 if (w > LONG) \n  .                   prefix <- paste0(prefix, \"\\n  \")\n  .             }\n  .             else prefix <- \"Error : \"\n  .             msg <- paste0(prefix, conditionMessage(e), \"\\n\")\n  .             .Internal(seterrmessage(msg[1L]))\n  .             if (!silent && isTRUE(getOption(\"show.error.messages\"))) {\n  .                 cat(msg, file = outFile)\n  .                 .Internal(printDeferredWarnings())\n  .             }\n  .             invisible(structure(msg, class = \"try-error\", condition = e))\n  .         }), tryCatchList(expr, classes, parentenv, handlers), \n  .     tryCatchOne(expr, names, parentenv, handlers[[1L]]), doTryCatch(return(expr), \n  .         name, parentenv, handler), withCallingHandlers(withVisible(eval_with_user_handlers(expr, \n  .         envir, enclos, user_handlers)), warning = wHandler, error = eHandler, \n  .         message = mHandler), withVisible(eval_with_user_handlers(expr, \n  .         envir, enclos, user_handlers)), eval_with_user_handlers(expr, \n  .         envir, enclos, user_handlers), eval(expr, envir, enclos), \n  .     eval(expr, envir, enclos), bind_cols(num_counts_ca, num_counts_train), \n  .     fix_call(vec_cbind(!!!dots, .name_repair = .name_repair)), \n  .     withCallingHandlers(expr, error = function(cnd) {\n  .         cnd$call <- call\n  .         cnd_signal(cnd)\n  .     }), vec_cbind(!!!dots, .name_repair = .name_repair), stop_incompatible_size(x = `<fn>`(`<tibble[,2]>`), \n  .         y = `<fn>`(`<tibble[,2]>`), x_size = 5L, y_size = 2L, \n  .         x_arg = \"..1\", y_arg = \"..2\", call = `<env>`), stop_incompatible(x, \n  .         y, x_size = x_size, y_size = y_size, ..., x_arg = x_arg, \n  .         y_arg = y_arg, details = details, message = message, \n  .         class = c(class, \"vctrs_error_incompatible_size\"), call = call), \n  .     stop_vctrs(message, class = c(class, \"vctrs_error_incompatible\"), \n  .         x = x, y = y, details = details, ..., call = call), abort(message, \n  .         class = c(class, \"vctrs_error\"), ..., call = vctrs_error_call(call))), \n  .     parent = c(0L, 1L, 2L, 3L, 4L, 5L, 6L, 7L, 6L, 9L, 10L, 4L, \n  .     12L, 13L, 13L, 15L, 16L, 17L, 18L, 19L, 13L, 13L, 13L, 23L, \n  .     24L, 0L, 26L, 27L, 26L, 0L, 30L, 31L, 32L), visible = c(TRUE, \n  .     TRUE, TRUE, TRUE, TRUE, TRUE, TRUE, TRUE, TRUE, TRUE, TRUE, \n  .     TRUE, TRUE, TRUE, TRUE, TRUE, TRUE, TRUE, TRUE, TRUE, TRUE, \n  .     TRUE, TRUE, TRUE, TRUE, TRUE, TRUE, TRUE, TRUE, FALSE, FALSE, \n  .     FALSE, FALSE), namespace = c(\"IRkernel\", NA, \"IRkernel\", \n  .     NA, \"base\", \"base\", \"base\", \"base\", \"base\", \"base\", \"base\", \n  .     \"evaluate\", \"evaluate\", \"evaluate\", \"evaluate\", \"base\", \"base\", \n  .     \"base\", \"base\", \"base\", \"base\", \"base\", \"evaluate\", \"base\", \n  .     \"base\", \"dplyr\", \"dplyr\", \"base\", \"vctrs\", \"vctrs\", \"vctrs\", \n  .     \"vctrs\", \"rlang\"), scope = c(\"::\", NA, \"local\", NA, \"::\", \n  .     \"local\", \"local\", \"local\", \"local\", \"local\", \"local\", \"::\", \n  .     \":::\", \"local\", \"local\", \"::\", \"::\", \"local\", \"local\", \"local\", \n  .     \"::\", \"::\", \":::\", \"::\", \"::\", \"::\", \":::\", \"::\", \"::\", \"::\", \n  .     \":::\", \":::\", \"::\"), error_frame = c(FALSE, FALSE, FALSE, \n  .     FALSE, FALSE, FALSE, FALSE, FALSE, FALSE, FALSE, FALSE, FALSE, \n  .     FALSE, FALSE, FALSE, FALSE, FALSE, FALSE, FALSE, FALSE, FALSE, \n  .     FALSE, FALSE, FALSE, FALSE, FALSE, FALSE, FALSE, TRUE, FALSE, \n  .     FALSE, FALSE, FALSE)), row.names = c(NA, -33L), version = 2L, class = c(\"rlang_trace\", \n  . \"rlib_trace\", \"tbl\", \"data.frame\")), parent = NULL, x = structure(list(\n  .     ca = c(0L, 1L, 2L, 3L, NA), cacounts = c(116L, 46L, 30L, \n  .     16L, 3L)), class = c(\"tbl_df\", \"tbl\", \"data.frame\"), row.names = c(NA, \n  . -5L)), y = structure(list(num = c(0, 1), numcounts = c(114L, \n  . 97L)), class = c(\"tbl_df\", \"tbl\", \"data.frame\"), row.names = c(NA, \n  . -2L)), details = NULL, x_size = 5L, y_size = 2L, x_arg = \"..1\", \n  .     y_arg = \"..2\", call = vec_cbind(!!!dots, .name_repair = .name_repair)), class = c(\"vctrs_error_incompatible_size\", \n  . \"vctrs_error_incompatible\", \"vctrs_error\", \"rlang_error\", \"error\", \n  . \"condition\")))",
      "12. cnd_signal(cnd)",
      "13. signal_abort(cnd)"
     ]
    }
   ],
   "source": [
    "num_counts_train <- merged_train %>%\n",
    "        group_by(num) %>%\n",
    "        summarize(numcounts = n())\n",
    "num_counts_ca <- merged_train %>%\n",
    "        group_by(ca) %>%\n",
    "        summarize(cacounts = n())\n",
    "num_counts_ca\n",
    "averaged <- merged_train %>%\n",
    "        group_by(num) %>%\n",
    "        summarize(avg_age = mean(age), avg_chol = mean(chol), avg_thal = mean(thalach)) %>%\n",
    "        select(-num)\n",
    "averaged\n",
    "binded <- bind_cols(num_counts_ca, num_counts_train)\n",
    "binded"
   ]
  },
  {
   "cell_type": "markdown",
   "id": "a2e8ed2e-4223-4109-b3e2-9858a868ee28",
   "metadata": {},
   "source": [
    "Details of variables can be found here\n",
    "https://archive.ics.uci.edu/ml/datasets/Heart+Disease"
   ]
  },
  {
   "cell_type": "markdown",
   "id": "84c94c6d-081e-43b3-a81e-8fb877d8a4dc",
   "metadata": {},
   "source": [
    "## 4. Methods"
   ]
  },
  {
   "cell_type": "markdown",
   "id": "87f57ba3-526f-4212-986b-6a619db66222",
   "metadata": {},
   "source": [
    "Using classification, we will use knn to predict the instance of heart disease with our chosen factors. The columns (variables) that we will be using are age (age), sex (sex), cholesterol level (chol), maximum heart rate achieved (thalach), number of major vessels colored by flourosopy (ca), and the diagnosis of heart disease (num). For clarity, sex is a binary variable that is coded as male = 1, woman = 0. Cholesterol is measured in mg/dl. Number of major vessels is measured from 0-3. The diagnosis is initially measured from 0-4: 0 indicating no presence and 1-4 indicated presence of heart disease. We mutated this into a binary variable so that 0 indicates no diagnosis and 1 indicates diagnosis. \n",
    "\n",
    "To visualize our results, we will be using scatterplots between two variables and use the color function to indicate the instance of heart disease or not. This will help to explain the combinatory power of the two variables in the prediction of heart disease. \n"
   ]
  },
  {
   "cell_type": "markdown",
   "id": "2739cfe2-1b7b-414b-86f4-99ab2f0923c4",
   "metadata": {},
   "source": [
    "## 5. Expected outcomes and significance"
   ]
  },
  {
   "cell_type": "markdown",
   "id": "0c7b16d8-2411-4398-9ce9-ccbdcbb70e08",
   "metadata": {},
   "source": [
    "We expect to find that these variables (age, cholesterol level, maximum heart rate achieved, number of major vessels colored by flourosopy, and sex) affect the likelihood of heart disease in patients. Therefore, we expect to see predictive value. \n",
    "                                \n",
    "Findings such as this could have an impact on how doctors communicate health risks to patients. It may also affect how patients change their daily life as certain risks may have increased predictive value of a variable, such as cholesterol level. \n",
    "\n",
    "This could lead to future questions about the compounding effect of these variables and all other variables that serve predictive purposes. Knowing how these chosen variables affect the instance of heart disease, questions about other predictive variables such as blood pressure, smoking, or obesity can also be tested individually and together. Interactions between these variables could be a very important question. \n"
   ]
  }
 ],
 "metadata": {
  "kernelspec": {
   "display_name": "R",
   "language": "R",
   "name": "ir"
  },
  "language_info": {
   "codemirror_mode": "r",
   "file_extension": ".r",
   "mimetype": "text/x-r-source",
   "name": "R",
   "pygments_lexer": "r",
   "version": "4.1.3"
  }
 },
 "nbformat": 4,
 "nbformat_minor": 5
}
