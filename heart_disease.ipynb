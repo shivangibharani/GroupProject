{
 "cells": [
  {
   "cell_type": "markdown",
   "id": "e677b0aa-2f61-47fb-b550-d54330c3ef8e",
   "metadata": {},
   "source": [
    "## 1. Title of this project: TODO\n",
    "\n"
   ]
  },
  {
   "cell_type": "markdown",
   "id": "606c07b4-d5eb-4ab0-a1d1-b30365dc7361",
   "metadata": {},
   "source": [
    "## 2. Introduction"
   ]
  },
  {
   "cell_type": "code",
   "execution_count": 18,
   "id": "661058b8-ffd6-4a1a-b01a-a84732fdc134",
   "metadata": {},
   "outputs": [],
   "source": [
    "## print(\"Heart disease is the number 1 cause of deaths worldwide, with no 'cure' of any kind. \n",
    "## Question: "
   ]
  },
  {
   "cell_type": "markdown",
   "id": "ad7b94a0-8bb0-4493-a86f-82115450afde",
   "metadata": {
    "tags": []
   },
   "source": [
    "## 3. Preliminary exploratory data analysis"
   ]
  },
  {
   "cell_type": "code",
   "execution_count": 19,
   "id": "1a3260e5-7e71-46c1-a9c0-ce39ec95ca04",
   "metadata": {},
   "outputs": [],
   "source": [
    "library(tidyverse)\n",
    "library(tidymodels)"
   ]
  },
  {
   "cell_type": "code",
   "execution_count": 20,
   "id": "5c3af150-4c24-42fe-a4cc-6b270866e929",
   "metadata": {},
   "outputs": [],
   "source": [
    "url <- \"https://archive.ics.uci.edu/ml/machine-learning-databases/heart-disease/processed.cleveland.data\"\n",
    "download.file(url, destfile = \"data/processed.cleveland.data\")"
   ]
  },
  {
   "cell_type": "code",
   "execution_count": 21,
   "id": "c8cda9a6-204a-46c3-8eef-d667d3d83e52",
   "metadata": {},
   "outputs": [
    {
     "name": "stderr",
     "output_type": "stream",
     "text": [
      "\u001b[1mRows: \u001b[22m\u001b[34m303\u001b[39m \u001b[1mColumns: \u001b[22m\u001b[34m14\u001b[39m\n",
      "\u001b[36m──\u001b[39m \u001b[1mColumn specification\u001b[22m \u001b[36m────────────────────────────────────────────────────────\u001b[39m\n",
      "\u001b[1mDelimiter:\u001b[22m \",\"\n",
      "\u001b[31mchr\u001b[39m  (2): X12, X13\n",
      "\u001b[32mdbl\u001b[39m (12): X1, X2, X3, X4, X5, X6, X7, X8, X9, X10, X11, X14\n",
      "\n",
      "\u001b[36mℹ\u001b[39m Use `spec()` to retrieve the full column specification for this data.\n",
      "\u001b[36mℹ\u001b[39m Specify the column types or set `show_col_types = FALSE` to quiet this message.\n"
     ]
    }
   ],
   "source": [
    "heart_df <- read_csv(\"data/processed.cleveland.data\", col_name = FALSE)"
   ]
  },
  {
   "cell_type": "code",
   "execution_count": 22,
   "id": "a9d8d5df-2cd8-43b6-bbf6-95f5bbe4e9af",
   "metadata": {},
   "outputs": [],
   "source": [
    "col <- c(\"age\", \"sex\",\"cp\", \"trestbps\", \"chol\", \"fbs\", \"restecg\", \"thalach\", \"exang\", \"oldpeak\", \"slope\", \"ca\", \"thal\",\"num\")"
   ]
  },
  {
   "cell_type": "code",
   "execution_count": 23,
   "id": "f7f36389-ed9a-4115-b788-ed8bfe106189",
   "metadata": {},
   "outputs": [],
   "source": [
    "colnames(heart_df) <- col"
   ]
  },
  {
   "cell_type": "code",
   "execution_count": 24,
   "id": "542547f6-eac9-45df-b0e5-76530bb48e98",
   "metadata": {},
   "outputs": [
    {
     "data": {
      "text/html": [
       "<table class=\"dataframe\">\n",
       "<caption>A tibble: 6 × 14</caption>\n",
       "<thead>\n",
       "\t<tr><th scope=col>age</th><th scope=col>sex</th><th scope=col>cp</th><th scope=col>trestbps</th><th scope=col>chol</th><th scope=col>fbs</th><th scope=col>restecg</th><th scope=col>thalach</th><th scope=col>exang</th><th scope=col>oldpeak</th><th scope=col>slope</th><th scope=col>ca</th><th scope=col>thal</th><th scope=col>num</th></tr>\n",
       "\t<tr><th scope=col>&lt;dbl&gt;</th><th scope=col>&lt;dbl&gt;</th><th scope=col>&lt;dbl&gt;</th><th scope=col>&lt;dbl&gt;</th><th scope=col>&lt;dbl&gt;</th><th scope=col>&lt;dbl&gt;</th><th scope=col>&lt;dbl&gt;</th><th scope=col>&lt;dbl&gt;</th><th scope=col>&lt;dbl&gt;</th><th scope=col>&lt;dbl&gt;</th><th scope=col>&lt;dbl&gt;</th><th scope=col>&lt;chr&gt;</th><th scope=col>&lt;chr&gt;</th><th scope=col>&lt;dbl&gt;</th></tr>\n",
       "</thead>\n",
       "<tbody>\n",
       "\t<tr><td>63</td><td>1</td><td>1</td><td>145</td><td>233</td><td>1</td><td>2</td><td>150</td><td>0</td><td>2.3</td><td>3</td><td>0.0</td><td>6.0</td><td>0</td></tr>\n",
       "\t<tr><td>67</td><td>1</td><td>4</td><td>160</td><td>286</td><td>0</td><td>2</td><td>108</td><td>1</td><td>1.5</td><td>2</td><td>3.0</td><td>3.0</td><td>2</td></tr>\n",
       "\t<tr><td>67</td><td>1</td><td>4</td><td>120</td><td>229</td><td>0</td><td>2</td><td>129</td><td>1</td><td>2.6</td><td>2</td><td>2.0</td><td>7.0</td><td>1</td></tr>\n",
       "\t<tr><td>37</td><td>1</td><td>3</td><td>130</td><td>250</td><td>0</td><td>0</td><td>187</td><td>0</td><td>3.5</td><td>3</td><td>0.0</td><td>3.0</td><td>0</td></tr>\n",
       "\t<tr><td>41</td><td>0</td><td>2</td><td>130</td><td>204</td><td>0</td><td>2</td><td>172</td><td>0</td><td>1.4</td><td>1</td><td>0.0</td><td>3.0</td><td>0</td></tr>\n",
       "\t<tr><td>56</td><td>1</td><td>2</td><td>120</td><td>236</td><td>0</td><td>0</td><td>178</td><td>0</td><td>0.8</td><td>1</td><td>0.0</td><td>3.0</td><td>0</td></tr>\n",
       "</tbody>\n",
       "</table>\n"
      ],
      "text/latex": [
       "A tibble: 6 × 14\n",
       "\\begin{tabular}{llllllllllllll}\n",
       " age & sex & cp & trestbps & chol & fbs & restecg & thalach & exang & oldpeak & slope & ca & thal & num\\\\\n",
       " <dbl> & <dbl> & <dbl> & <dbl> & <dbl> & <dbl> & <dbl> & <dbl> & <dbl> & <dbl> & <dbl> & <chr> & <chr> & <dbl>\\\\\n",
       "\\hline\n",
       "\t 63 & 1 & 1 & 145 & 233 & 1 & 2 & 150 & 0 & 2.3 & 3 & 0.0 & 6.0 & 0\\\\\n",
       "\t 67 & 1 & 4 & 160 & 286 & 0 & 2 & 108 & 1 & 1.5 & 2 & 3.0 & 3.0 & 2\\\\\n",
       "\t 67 & 1 & 4 & 120 & 229 & 0 & 2 & 129 & 1 & 2.6 & 2 & 2.0 & 7.0 & 1\\\\\n",
       "\t 37 & 1 & 3 & 130 & 250 & 0 & 0 & 187 & 0 & 3.5 & 3 & 0.0 & 3.0 & 0\\\\\n",
       "\t 41 & 0 & 2 & 130 & 204 & 0 & 2 & 172 & 0 & 1.4 & 1 & 0.0 & 3.0 & 0\\\\\n",
       "\t 56 & 1 & 2 & 120 & 236 & 0 & 0 & 178 & 0 & 0.8 & 1 & 0.0 & 3.0 & 0\\\\\n",
       "\\end{tabular}\n"
      ],
      "text/markdown": [
       "\n",
       "A tibble: 6 × 14\n",
       "\n",
       "| age &lt;dbl&gt; | sex &lt;dbl&gt; | cp &lt;dbl&gt; | trestbps &lt;dbl&gt; | chol &lt;dbl&gt; | fbs &lt;dbl&gt; | restecg &lt;dbl&gt; | thalach &lt;dbl&gt; | exang &lt;dbl&gt; | oldpeak &lt;dbl&gt; | slope &lt;dbl&gt; | ca &lt;chr&gt; | thal &lt;chr&gt; | num &lt;dbl&gt; |\n",
       "|---|---|---|---|---|---|---|---|---|---|---|---|---|---|\n",
       "| 63 | 1 | 1 | 145 | 233 | 1 | 2 | 150 | 0 | 2.3 | 3 | 0.0 | 6.0 | 0 |\n",
       "| 67 | 1 | 4 | 160 | 286 | 0 | 2 | 108 | 1 | 1.5 | 2 | 3.0 | 3.0 | 2 |\n",
       "| 67 | 1 | 4 | 120 | 229 | 0 | 2 | 129 | 1 | 2.6 | 2 | 2.0 | 7.0 | 1 |\n",
       "| 37 | 1 | 3 | 130 | 250 | 0 | 0 | 187 | 0 | 3.5 | 3 | 0.0 | 3.0 | 0 |\n",
       "| 41 | 0 | 2 | 130 | 204 | 0 | 2 | 172 | 0 | 1.4 | 1 | 0.0 | 3.0 | 0 |\n",
       "| 56 | 1 | 2 | 120 | 236 | 0 | 0 | 178 | 0 | 0.8 | 1 | 0.0 | 3.0 | 0 |\n",
       "\n"
      ],
      "text/plain": [
       "  age sex cp trestbps chol fbs restecg thalach exang oldpeak slope ca  thal num\n",
       "1 63  1   1  145      233  1   2       150     0     2.3     3     0.0 6.0  0  \n",
       "2 67  1   4  160      286  0   2       108     1     1.5     2     3.0 3.0  2  \n",
       "3 67  1   4  120      229  0   2       129     1     2.6     2     2.0 7.0  1  \n",
       "4 37  1   3  130      250  0   0       187     0     3.5     3     0.0 3.0  0  \n",
       "5 41  0   2  130      204  0   2       172     0     1.4     1     0.0 3.0  0  \n",
       "6 56  1   2  120      236  0   0       178     0     0.8     1     0.0 3.0  0  "
      ]
     },
     "metadata": {},
     "output_type": "display_data"
    }
   ],
   "source": [
    "head(heart_df)"
   ]
  },
  {
   "cell_type": "code",
   "execution_count": 25,
   "id": "c2cdf6c2-a172-4652-b47e-b8e9fc6ebc51",
   "metadata": {},
   "outputs": [],
   "source": [
    "## me trying to figure stuff out here -> good for graph column names later\n",
    "#age - age in years\n",
    "#sex - sex (1 = male, 0 = female)\n",
    "#cp - chest pain type (1 = typical angina, 2 = atypical angina, 3 = non-anginal pain, 4 = asymptomatic)\n",
    "#trestbps - resting blood pressure (in mm Hg on admission to the hospital)\n",
    "#chol - serum cholestoral in mg/dl\n",
    "#fbs - fasting blood sugar > 120 mg/dl (1 = true; 0 = false)\n",
    "#restecg (del?) - resting electrocardiographic results (0 = normal, 1 = having ST-T wave abnormality (T wave inversions and/or ST elevation or depression of > 0.05 mV), 2 = showing probable or definite left ventricular hypertrophy by Estes' criteria\n",
    "#thalach - maximum heart rate achieved\n",
    "#exang (del?) - exercise induced angina (1 = yes; 0 = no)\n",
    "#oldpeak (del?) - ST depression induced by exercise relative to rest\n",
    "#slope (del?) - the slope of the peak exercise ST segment (1 = upsloping, 2 = flat, 3 = downsloping)\n",
    "#ca - number of major vessels (0-3) colored by flourosopy\n",
    "#thal (del?) - 3 = normal; 6 = fixed defect; 7 = reversable defect\n",
    "#num - diagnosis of heart disease (angiographic disease status) (0 = < 50% diameter narrowing, >0 (?) = > 50% diameter narrowing)\n"
   ]
  },
  {
   "cell_type": "code",
   "execution_count": 26,
   "id": "404f5ebf-2679-4139-858b-6192769d07d0",
   "metadata": {},
   "outputs": [
    {
     "data": {
      "text/html": [
       "<table class=\"dataframe\">\n",
       "<caption>A tibble: 6 × 9</caption>\n",
       "<thead>\n",
       "\t<tr><th scope=col>age</th><th scope=col>sex</th><th scope=col>cp</th><th scope=col>trestbps</th><th scope=col>chol</th><th scope=col>fbs</th><th scope=col>thalach</th><th scope=col>ca</th><th scope=col>num</th></tr>\n",
       "\t<tr><th scope=col>&lt;dbl&gt;</th><th scope=col>&lt;dbl&gt;</th><th scope=col>&lt;dbl&gt;</th><th scope=col>&lt;dbl&gt;</th><th scope=col>&lt;dbl&gt;</th><th scope=col>&lt;dbl&gt;</th><th scope=col>&lt;dbl&gt;</th><th scope=col>&lt;chr&gt;</th><th scope=col>&lt;dbl&gt;</th></tr>\n",
       "</thead>\n",
       "<tbody>\n",
       "\t<tr><td>63</td><td>1</td><td>1</td><td>145</td><td>233</td><td>1</td><td>150</td><td>0.0</td><td>0</td></tr>\n",
       "\t<tr><td>67</td><td>1</td><td>4</td><td>160</td><td>286</td><td>0</td><td>108</td><td>3.0</td><td>2</td></tr>\n",
       "\t<tr><td>67</td><td>1</td><td>4</td><td>120</td><td>229</td><td>0</td><td>129</td><td>2.0</td><td>1</td></tr>\n",
       "\t<tr><td>37</td><td>1</td><td>3</td><td>130</td><td>250</td><td>0</td><td>187</td><td>0.0</td><td>0</td></tr>\n",
       "\t<tr><td>41</td><td>0</td><td>2</td><td>130</td><td>204</td><td>0</td><td>172</td><td>0.0</td><td>0</td></tr>\n",
       "\t<tr><td>56</td><td>1</td><td>2</td><td>120</td><td>236</td><td>0</td><td>178</td><td>0.0</td><td>0</td></tr>\n",
       "</tbody>\n",
       "</table>\n"
      ],
      "text/latex": [
       "A tibble: 6 × 9\n",
       "\\begin{tabular}{lllllllll}\n",
       " age & sex & cp & trestbps & chol & fbs & thalach & ca & num\\\\\n",
       " <dbl> & <dbl> & <dbl> & <dbl> & <dbl> & <dbl> & <dbl> & <chr> & <dbl>\\\\\n",
       "\\hline\n",
       "\t 63 & 1 & 1 & 145 & 233 & 1 & 150 & 0.0 & 0\\\\\n",
       "\t 67 & 1 & 4 & 160 & 286 & 0 & 108 & 3.0 & 2\\\\\n",
       "\t 67 & 1 & 4 & 120 & 229 & 0 & 129 & 2.0 & 1\\\\\n",
       "\t 37 & 1 & 3 & 130 & 250 & 0 & 187 & 0.0 & 0\\\\\n",
       "\t 41 & 0 & 2 & 130 & 204 & 0 & 172 & 0.0 & 0\\\\\n",
       "\t 56 & 1 & 2 & 120 & 236 & 0 & 178 & 0.0 & 0\\\\\n",
       "\\end{tabular}\n"
      ],
      "text/markdown": [
       "\n",
       "A tibble: 6 × 9\n",
       "\n",
       "| age &lt;dbl&gt; | sex &lt;dbl&gt; | cp &lt;dbl&gt; | trestbps &lt;dbl&gt; | chol &lt;dbl&gt; | fbs &lt;dbl&gt; | thalach &lt;dbl&gt; | ca &lt;chr&gt; | num &lt;dbl&gt; |\n",
       "|---|---|---|---|---|---|---|---|---|\n",
       "| 63 | 1 | 1 | 145 | 233 | 1 | 150 | 0.0 | 0 |\n",
       "| 67 | 1 | 4 | 160 | 286 | 0 | 108 | 3.0 | 2 |\n",
       "| 67 | 1 | 4 | 120 | 229 | 0 | 129 | 2.0 | 1 |\n",
       "| 37 | 1 | 3 | 130 | 250 | 0 | 187 | 0.0 | 0 |\n",
       "| 41 | 0 | 2 | 130 | 204 | 0 | 172 | 0.0 | 0 |\n",
       "| 56 | 1 | 2 | 120 | 236 | 0 | 178 | 0.0 | 0 |\n",
       "\n"
      ],
      "text/plain": [
       "  age sex cp trestbps chol fbs thalach ca  num\n",
       "1 63  1   1  145      233  1   150     0.0 0  \n",
       "2 67  1   4  160      286  0   108     3.0 2  \n",
       "3 67  1   4  120      229  0   129     2.0 1  \n",
       "4 37  1   3  130      250  0   187     0.0 0  \n",
       "5 41  0   2  130      204  0   172     0.0 0  \n",
       "6 56  1   2  120      236  0   178     0.0 0  "
      ]
     },
     "metadata": {},
     "output_type": "display_data"
    }
   ],
   "source": [
    "filheart_df <- select(heart_df, -restecg, -exang, -oldpeak, -slope, -thal)\n",
    "head(filheart_df)"
   ]
  },
  {
   "cell_type": "code",
   "execution_count": 28,
   "id": "c9cb9c8e-8251-42a1-b421-e2b4c186bcf3",
   "metadata": {},
   "outputs": [
    {
     "data": {
      "text/html": [
       "<table class=\"dataframe\">\n",
       "<caption>A tibble: 6 × 9</caption>\n",
       "<thead>\n",
       "\t<tr><th scope=col>age</th><th scope=col>sex</th><th scope=col>cp</th><th scope=col>trestbps</th><th scope=col>chol</th><th scope=col>fbs</th><th scope=col>thalach</th><th scope=col>ca</th><th scope=col>num</th></tr>\n",
       "\t<tr><th scope=col>&lt;dbl&gt;</th><th scope=col>&lt;dbl&gt;</th><th scope=col>&lt;dbl&gt;</th><th scope=col>&lt;dbl&gt;</th><th scope=col>&lt;dbl&gt;</th><th scope=col>&lt;dbl&gt;</th><th scope=col>&lt;dbl&gt;</th><th scope=col>&lt;chr&gt;</th><th scope=col>&lt;dbl&gt;</th></tr>\n",
       "</thead>\n",
       "<tbody>\n",
       "\t<tr><td>63</td><td>1</td><td>1</td><td>145</td><td>233</td><td>1</td><td>150</td><td>0.0</td><td>0</td></tr>\n",
       "\t<tr><td>37</td><td>1</td><td>3</td><td>130</td><td>250</td><td>0</td><td>187</td><td>0.0</td><td>0</td></tr>\n",
       "\t<tr><td>56</td><td>1</td><td>2</td><td>120</td><td>236</td><td>0</td><td>178</td><td>0.0</td><td>0</td></tr>\n",
       "\t<tr><td>57</td><td>0</td><td>4</td><td>120</td><td>354</td><td>0</td><td>163</td><td>0.0</td><td>0</td></tr>\n",
       "\t<tr><td>57</td><td>1</td><td>4</td><td>140</td><td>192</td><td>0</td><td>148</td><td>0.0</td><td>0</td></tr>\n",
       "\t<tr><td>56</td><td>0</td><td>2</td><td>140</td><td>294</td><td>0</td><td>153</td><td>0.0</td><td>0</td></tr>\n",
       "</tbody>\n",
       "</table>\n"
      ],
      "text/latex": [
       "A tibble: 6 × 9\n",
       "\\begin{tabular}{lllllllll}\n",
       " age & sex & cp & trestbps & chol & fbs & thalach & ca & num\\\\\n",
       " <dbl> & <dbl> & <dbl> & <dbl> & <dbl> & <dbl> & <dbl> & <chr> & <dbl>\\\\\n",
       "\\hline\n",
       "\t 63 & 1 & 1 & 145 & 233 & 1 & 150 & 0.0 & 0\\\\\n",
       "\t 37 & 1 & 3 & 130 & 250 & 0 & 187 & 0.0 & 0\\\\\n",
       "\t 56 & 1 & 2 & 120 & 236 & 0 & 178 & 0.0 & 0\\\\\n",
       "\t 57 & 0 & 4 & 120 & 354 & 0 & 163 & 0.0 & 0\\\\\n",
       "\t 57 & 1 & 4 & 140 & 192 & 0 & 148 & 0.0 & 0\\\\\n",
       "\t 56 & 0 & 2 & 140 & 294 & 0 & 153 & 0.0 & 0\\\\\n",
       "\\end{tabular}\n"
      ],
      "text/markdown": [
       "\n",
       "A tibble: 6 × 9\n",
       "\n",
       "| age &lt;dbl&gt; | sex &lt;dbl&gt; | cp &lt;dbl&gt; | trestbps &lt;dbl&gt; | chol &lt;dbl&gt; | fbs &lt;dbl&gt; | thalach &lt;dbl&gt; | ca &lt;chr&gt; | num &lt;dbl&gt; |\n",
       "|---|---|---|---|---|---|---|---|---|\n",
       "| 63 | 1 | 1 | 145 | 233 | 1 | 150 | 0.0 | 0 |\n",
       "| 37 | 1 | 3 | 130 | 250 | 0 | 187 | 0.0 | 0 |\n",
       "| 56 | 1 | 2 | 120 | 236 | 0 | 178 | 0.0 | 0 |\n",
       "| 57 | 0 | 4 | 120 | 354 | 0 | 163 | 0.0 | 0 |\n",
       "| 57 | 1 | 4 | 140 | 192 | 0 | 148 | 0.0 | 0 |\n",
       "| 56 | 0 | 2 | 140 | 294 | 0 | 153 | 0.0 | 0 |\n",
       "\n"
      ],
      "text/plain": [
       "  age sex cp trestbps chol fbs thalach ca  num\n",
       "1 63  1   1  145      233  1   150     0.0 0  \n",
       "2 37  1   3  130      250  0   187     0.0 0  \n",
       "3 56  1   2  120      236  0   178     0.0 0  \n",
       "4 57  0   4  120      354  0   163     0.0 0  \n",
       "5 57  1   4  140      192  0   148     0.0 0  \n",
       "6 56  0   2  140      294  0   153     0.0 0  "
      ]
     },
     "metadata": {},
     "output_type": "display_data"
    },
    {
     "data": {
      "text/html": [
       "<table class=\"dataframe\">\n",
       "<caption>A tibble: 6 × 9</caption>\n",
       "<thead>\n",
       "\t<tr><th scope=col>age</th><th scope=col>sex</th><th scope=col>cp</th><th scope=col>trestbps</th><th scope=col>chol</th><th scope=col>fbs</th><th scope=col>thalach</th><th scope=col>ca</th><th scope=col>num</th></tr>\n",
       "\t<tr><th scope=col>&lt;dbl&gt;</th><th scope=col>&lt;dbl&gt;</th><th scope=col>&lt;dbl&gt;</th><th scope=col>&lt;dbl&gt;</th><th scope=col>&lt;dbl&gt;</th><th scope=col>&lt;dbl&gt;</th><th scope=col>&lt;dbl&gt;</th><th scope=col>&lt;chr&gt;</th><th scope=col>&lt;dbl&gt;</th></tr>\n",
       "</thead>\n",
       "<tbody>\n",
       "\t<tr><td>67</td><td>1</td><td>4</td><td>120</td><td>229</td><td>0</td><td>129</td><td>2.0</td><td>1</td></tr>\n",
       "\t<tr><td>41</td><td>0</td><td>2</td><td>130</td><td>204</td><td>0</td><td>172</td><td>0.0</td><td>0</td></tr>\n",
       "\t<tr><td>52</td><td>1</td><td>3</td><td>172</td><td>199</td><td>1</td><td>162</td><td>0.0</td><td>0</td></tr>\n",
       "\t<tr><td>57</td><td>1</td><td>3</td><td>150</td><td>168</td><td>0</td><td>174</td><td>0.0</td><td>0</td></tr>\n",
       "\t<tr><td>54</td><td>1</td><td>4</td><td>140</td><td>239</td><td>0</td><td>160</td><td>0.0</td><td>0</td></tr>\n",
       "\t<tr><td>58</td><td>0</td><td>1</td><td>150</td><td>283</td><td>1</td><td>162</td><td>0.0</td><td>0</td></tr>\n",
       "</tbody>\n",
       "</table>\n"
      ],
      "text/latex": [
       "A tibble: 6 × 9\n",
       "\\begin{tabular}{lllllllll}\n",
       " age & sex & cp & trestbps & chol & fbs & thalach & ca & num\\\\\n",
       " <dbl> & <dbl> & <dbl> & <dbl> & <dbl> & <dbl> & <dbl> & <chr> & <dbl>\\\\\n",
       "\\hline\n",
       "\t 67 & 1 & 4 & 120 & 229 & 0 & 129 & 2.0 & 1\\\\\n",
       "\t 41 & 0 & 2 & 130 & 204 & 0 & 172 & 0.0 & 0\\\\\n",
       "\t 52 & 1 & 3 & 172 & 199 & 1 & 162 & 0.0 & 0\\\\\n",
       "\t 57 & 1 & 3 & 150 & 168 & 0 & 174 & 0.0 & 0\\\\\n",
       "\t 54 & 1 & 4 & 140 & 239 & 0 & 160 & 0.0 & 0\\\\\n",
       "\t 58 & 0 & 1 & 150 & 283 & 1 & 162 & 0.0 & 0\\\\\n",
       "\\end{tabular}\n"
      ],
      "text/markdown": [
       "\n",
       "A tibble: 6 × 9\n",
       "\n",
       "| age &lt;dbl&gt; | sex &lt;dbl&gt; | cp &lt;dbl&gt; | trestbps &lt;dbl&gt; | chol &lt;dbl&gt; | fbs &lt;dbl&gt; | thalach &lt;dbl&gt; | ca &lt;chr&gt; | num &lt;dbl&gt; |\n",
       "|---|---|---|---|---|---|---|---|---|\n",
       "| 67 | 1 | 4 | 120 | 229 | 0 | 129 | 2.0 | 1 |\n",
       "| 41 | 0 | 2 | 130 | 204 | 0 | 172 | 0.0 | 0 |\n",
       "| 52 | 1 | 3 | 172 | 199 | 1 | 162 | 0.0 | 0 |\n",
       "| 57 | 1 | 3 | 150 | 168 | 0 | 174 | 0.0 | 0 |\n",
       "| 54 | 1 | 4 | 140 | 239 | 0 | 160 | 0.0 | 0 |\n",
       "| 58 | 0 | 1 | 150 | 283 | 1 | 162 | 0.0 | 0 |\n",
       "\n"
      ],
      "text/plain": [
       "  age sex cp trestbps chol fbs thalach ca  num\n",
       "1 67  1   4  120      229  0   129     2.0 1  \n",
       "2 41  0   2  130      204  0   172     0.0 0  \n",
       "3 52  1   3  172      199  1   162     0.0 0  \n",
       "4 57  1   3  150      168  0   174     0.0 0  \n",
       "5 54  1   4  140      239  0   160     0.0 0  \n",
       "6 58  0   1  150      283  1   162     0.0 0  "
      ]
     },
     "metadata": {},
     "output_type": "display_data"
    }
   ],
   "source": [
    "split <- initial_split(filheart_df, prop = 0.7, strata = num)\n",
    "heart_train <- training(split)\n",
    "heart_test <- testing(split)\n",
    "head(heart_train)\n",
    "head(heart_test)"
   ]
  },
  {
   "cell_type": "code",
   "execution_count": 35,
   "id": "7ec6bfcd-cc21-4b19-9bea-ab343cb93c76",
   "metadata": {},
   "outputs": [
    {
     "data": {
      "text/html": [
       "<table class=\"dataframe\">\n",
       "<caption>A tibble: 96 × 9</caption>\n",
       "<thead>\n",
       "\t<tr><th scope=col>age</th><th scope=col>sex</th><th scope=col>cp</th><th scope=col>trestbps</th><th scope=col>chol</th><th scope=col>fbs</th><th scope=col>thalach</th><th scope=col>ca</th><th scope=col>num</th></tr>\n",
       "\t<tr><th scope=col>&lt;dbl&gt;</th><th scope=col>&lt;fct&gt;</th><th scope=col>&lt;fct&gt;</th><th scope=col>&lt;dbl&gt;</th><th scope=col>&lt;dbl&gt;</th><th scope=col>&lt;dbl&gt;</th><th scope=col>&lt;dbl&gt;</th><th scope=col>&lt;chr&gt;</th><th scope=col>&lt;fct&gt;</th></tr>\n",
       "</thead>\n",
       "<tbody>\n",
       "\t<tr><td>58</td><td>1</td><td>4</td><td>114</td><td>318</td><td>0</td><td>140</td><td>3.0</td><td>4</td></tr>\n",
       "\t<tr><td>60</td><td>1</td><td>4</td><td>130</td><td>206</td><td>0</td><td>132</td><td>2.0</td><td>4</td></tr>\n",
       "\t<tr><td>50</td><td>1</td><td>4</td><td>150</td><td>243</td><td>0</td><td>128</td><td>0.0</td><td>4</td></tr>\n",
       "\t<tr><td>63</td><td>0</td><td>4</td><td>150</td><td>407</td><td>0</td><td>154</td><td>3.0</td><td>4</td></tr>\n",
       "\t<tr><td>57</td><td>1</td><td>4</td><td>165</td><td>289</td><td>1</td><td>124</td><td>3.0</td><td>4</td></tr>\n",
       "\t<tr><td>77</td><td>1</td><td>4</td><td>125</td><td>304</td><td>0</td><td>162</td><td>3.0</td><td>4</td></tr>\n",
       "\t<tr><td>61</td><td>1</td><td>4</td><td>138</td><td>166</td><td>0</td><td>125</td><td>1.0</td><td>4</td></tr>\n",
       "\t<tr><td>70</td><td>1</td><td>4</td><td>145</td><td>174</td><td>0</td><td>125</td><td>0.0</td><td>4</td></tr>\n",
       "\t<tr><td>38</td><td>1</td><td>1</td><td>120</td><td>231</td><td>0</td><td>182</td><td>0.0</td><td>4</td></tr>\n",
       "\t<tr><td>62</td><td>0</td><td>4</td><td>140</td><td>268</td><td>0</td><td>160</td><td>2.0</td><td>3</td></tr>\n",
       "\t<tr><td>58</td><td>1</td><td>3</td><td>132</td><td>224</td><td>0</td><td>173</td><td>2.0</td><td>3</td></tr>\n",
       "\t<tr><td>40</td><td>1</td><td>4</td><td>110</td><td>167</td><td>0</td><td>114</td><td>0.0</td><td>3</td></tr>\n",
       "\t<tr><td>43</td><td>1</td><td>4</td><td>120</td><td>177</td><td>0</td><td>120</td><td>0.0</td><td>3</td></tr>\n",
       "\t<tr><td>55</td><td>1</td><td>4</td><td>132</td><td>353</td><td>0</td><td>132</td><td>1.0</td><td>3</td></tr>\n",
       "\t<tr><td>67</td><td>1</td><td>4</td><td>125</td><td>254</td><td>1</td><td>163</td><td>2.0</td><td>3</td></tr>\n",
       "\t<tr><td>58</td><td>1</td><td>4</td><td>150</td><td>270</td><td>0</td><td>111</td><td>0.0</td><td>3</td></tr>\n",
       "\t<tr><td>62</td><td>0</td><td>4</td><td>160</td><td>164</td><td>0</td><td>145</td><td>3.0</td><td>3</td></tr>\n",
       "\t<tr><td>49</td><td>1</td><td>3</td><td>120</td><td>188</td><td>0</td><td>139</td><td>3.0</td><td>3</td></tr>\n",
       "\t<tr><td>48</td><td>1</td><td>4</td><td>130</td><td>256</td><td>1</td><td>150</td><td>2.0</td><td>3</td></tr>\n",
       "\t<tr><td>55</td><td>1</td><td>4</td><td>140</td><td>217</td><td>0</td><td>111</td><td>0.0</td><td>3</td></tr>\n",
       "\t<tr><td>56</td><td>0</td><td>4</td><td>200</td><td>288</td><td>1</td><td>133</td><td>2.0</td><td>3</td></tr>\n",
       "\t<tr><td>54</td><td>1</td><td>4</td><td>110</td><td>239</td><td>0</td><td>126</td><td>1.0</td><td>3</td></tr>\n",
       "\t<tr><td>62</td><td>1</td><td>2</td><td>120</td><td>281</td><td>0</td><td>103</td><td>1.0</td><td>3</td></tr>\n",
       "\t<tr><td>64</td><td>1</td><td>4</td><td>120</td><td>246</td><td>0</td><td> 96</td><td>1.0</td><td>3</td></tr>\n",
       "\t<tr><td>48</td><td>1</td><td>4</td><td>124</td><td>274</td><td>0</td><td>166</td><td>0.0</td><td>3</td></tr>\n",
       "\t<tr><td>45</td><td>1</td><td>4</td><td>142</td><td>309</td><td>0</td><td>147</td><td>3.0</td><td>3</td></tr>\n",
       "\t<tr><td>58</td><td>1</td><td>4</td><td>128</td><td>259</td><td>0</td><td>130</td><td>2.0</td><td>3</td></tr>\n",
       "\t<tr><td>50</td><td>1</td><td>4</td><td>144</td><td>200</td><td>0</td><td>126</td><td>0.0</td><td>3</td></tr>\n",
       "\t<tr><td>53</td><td>1</td><td>4</td><td>123</td><td>282</td><td>0</td><td> 95</td><td>2.0</td><td>3</td></tr>\n",
       "\t<tr><td>54</td><td>1</td><td>4</td><td>110</td><td>206</td><td>0</td><td>108</td><td>1.0</td><td>3</td></tr>\n",
       "\t<tr><td>⋮</td><td>⋮</td><td>⋮</td><td>⋮</td><td>⋮</td><td>⋮</td><td>⋮</td><td>⋮</td><td>⋮</td></tr>\n",
       "\t<tr><td>58</td><td>1</td><td>4</td><td>128</td><td>216</td><td>0</td><td>131</td><td>3.0</td><td>1</td></tr>\n",
       "\t<tr><td>60</td><td>1</td><td>3</td><td>140</td><td>185</td><td>0</td><td>155</td><td>0.0</td><td>1</td></tr>\n",
       "\t<tr><td>46</td><td>1</td><td>3</td><td>150</td><td>231</td><td>0</td><td>147</td><td>0.0</td><td>1</td></tr>\n",
       "\t<tr><td>60</td><td>1</td><td>4</td><td>125</td><td>258</td><td>0</td><td>141</td><td>1.0</td><td>1</td></tr>\n",
       "\t<tr><td>52</td><td>1</td><td>4</td><td>128</td><td>255</td><td>0</td><td>161</td><td>1.0</td><td>1</td></tr>\n",
       "\t<tr><td>61</td><td>0</td><td>4</td><td>145</td><td>307</td><td>0</td><td>146</td><td>0.0</td><td>1</td></tr>\n",
       "\t<tr><td>56</td><td>1</td><td>4</td><td>125</td><td>249</td><td>1</td><td>144</td><td>1.0</td><td>1</td></tr>\n",
       "\t<tr><td>35</td><td>1</td><td>4</td><td>120</td><td>198</td><td>0</td><td>130</td><td>0.0</td><td>1</td></tr>\n",
       "\t<tr><td>64</td><td>1</td><td>3</td><td>125</td><td>309</td><td>0</td><td>131</td><td>0.0</td><td>1</td></tr>\n",
       "\t<tr><td>70</td><td>1</td><td>4</td><td>130</td><td>322</td><td>0</td><td>109</td><td>3.0</td><td>1</td></tr>\n",
       "\t<tr><td>58</td><td>1</td><td>4</td><td>125</td><td>300</td><td>0</td><td>171</td><td>2.0</td><td>1</td></tr>\n",
       "\t<tr><td>35</td><td>1</td><td>4</td><td>126</td><td>282</td><td>0</td><td>156</td><td>0.0</td><td>1</td></tr>\n",
       "\t<tr><td>59</td><td>0</td><td>4</td><td>174</td><td>249</td><td>0</td><td>143</td><td>0.0</td><td>1</td></tr>\n",
       "\t<tr><td>57</td><td>1</td><td>4</td><td>152</td><td>274</td><td>0</td><td> 88</td><td>1.0</td><td>1</td></tr>\n",
       "\t<tr><td>60</td><td>0</td><td>4</td><td>158</td><td>305</td><td>0</td><td>161</td><td>0.0</td><td>1</td></tr>\n",
       "\t<tr><td>54</td><td>1</td><td>2</td><td>192</td><td>283</td><td>0</td><td>195</td><td>1.0</td><td>1</td></tr>\n",
       "\t<tr><td>43</td><td>1</td><td>4</td><td>132</td><td>247</td><td>1</td><td>143</td><td>?  </td><td>1</td></tr>\n",
       "\t<tr><td>62</td><td>0</td><td>4</td><td>150</td><td>244</td><td>0</td><td>154</td><td>0.0</td><td>1</td></tr>\n",
       "\t<tr><td>52</td><td>1</td><td>4</td><td>112</td><td>230</td><td>0</td><td>160</td><td>1.0</td><td>1</td></tr>\n",
       "\t<tr><td>63</td><td>0</td><td>4</td><td>108</td><td>269</td><td>0</td><td>169</td><td>2.0</td><td>1</td></tr>\n",
       "\t<tr><td>49</td><td>1</td><td>3</td><td>118</td><td>149</td><td>0</td><td>126</td><td>3.0</td><td>1</td></tr>\n",
       "\t<tr><td>46</td><td>1</td><td>4</td><td>120</td><td>249</td><td>0</td><td>144</td><td>0.0</td><td>1</td></tr>\n",
       "\t<tr><td>57</td><td>1</td><td>2</td><td>124</td><td>261</td><td>0</td><td>141</td><td>0.0</td><td>1</td></tr>\n",
       "\t<tr><td>40</td><td>1</td><td>4</td><td>152</td><td>223</td><td>0</td><td>181</td><td>0.0</td><td>1</td></tr>\n",
       "\t<tr><td>61</td><td>1</td><td>4</td><td>140</td><td>207</td><td>0</td><td>138</td><td>1.0</td><td>1</td></tr>\n",
       "\t<tr><td>59</td><td>1</td><td>1</td><td>134</td><td>204</td><td>0</td><td>162</td><td>2.0</td><td>1</td></tr>\n",
       "\t<tr><td>57</td><td>1</td><td>2</td><td>154</td><td>232</td><td>0</td><td>164</td><td>1.0</td><td>1</td></tr>\n",
       "\t<tr><td>63</td><td>0</td><td>4</td><td>124</td><td>197</td><td>0</td><td>136</td><td>0.0</td><td>1</td></tr>\n",
       "\t<tr><td>57</td><td>0</td><td>4</td><td>140</td><td>241</td><td>0</td><td>123</td><td>0.0</td><td>1</td></tr>\n",
       "\t<tr><td>45</td><td>1</td><td>1</td><td>110</td><td>264</td><td>0</td><td>132</td><td>0.0</td><td>1</td></tr>\n",
       "</tbody>\n",
       "</table>\n"
      ],
      "text/latex": [
       "A tibble: 96 × 9\n",
       "\\begin{tabular}{lllllllll}\n",
       " age & sex & cp & trestbps & chol & fbs & thalach & ca & num\\\\\n",
       " <dbl> & <fct> & <fct> & <dbl> & <dbl> & <dbl> & <dbl> & <chr> & <fct>\\\\\n",
       "\\hline\n",
       "\t 58 & 1 & 4 & 114 & 318 & 0 & 140 & 3.0 & 4\\\\\n",
       "\t 60 & 1 & 4 & 130 & 206 & 0 & 132 & 2.0 & 4\\\\\n",
       "\t 50 & 1 & 4 & 150 & 243 & 0 & 128 & 0.0 & 4\\\\\n",
       "\t 63 & 0 & 4 & 150 & 407 & 0 & 154 & 3.0 & 4\\\\\n",
       "\t 57 & 1 & 4 & 165 & 289 & 1 & 124 & 3.0 & 4\\\\\n",
       "\t 77 & 1 & 4 & 125 & 304 & 0 & 162 & 3.0 & 4\\\\\n",
       "\t 61 & 1 & 4 & 138 & 166 & 0 & 125 & 1.0 & 4\\\\\n",
       "\t 70 & 1 & 4 & 145 & 174 & 0 & 125 & 0.0 & 4\\\\\n",
       "\t 38 & 1 & 1 & 120 & 231 & 0 & 182 & 0.0 & 4\\\\\n",
       "\t 62 & 0 & 4 & 140 & 268 & 0 & 160 & 2.0 & 3\\\\\n",
       "\t 58 & 1 & 3 & 132 & 224 & 0 & 173 & 2.0 & 3\\\\\n",
       "\t 40 & 1 & 4 & 110 & 167 & 0 & 114 & 0.0 & 3\\\\\n",
       "\t 43 & 1 & 4 & 120 & 177 & 0 & 120 & 0.0 & 3\\\\\n",
       "\t 55 & 1 & 4 & 132 & 353 & 0 & 132 & 1.0 & 3\\\\\n",
       "\t 67 & 1 & 4 & 125 & 254 & 1 & 163 & 2.0 & 3\\\\\n",
       "\t 58 & 1 & 4 & 150 & 270 & 0 & 111 & 0.0 & 3\\\\\n",
       "\t 62 & 0 & 4 & 160 & 164 & 0 & 145 & 3.0 & 3\\\\\n",
       "\t 49 & 1 & 3 & 120 & 188 & 0 & 139 & 3.0 & 3\\\\\n",
       "\t 48 & 1 & 4 & 130 & 256 & 1 & 150 & 2.0 & 3\\\\\n",
       "\t 55 & 1 & 4 & 140 & 217 & 0 & 111 & 0.0 & 3\\\\\n",
       "\t 56 & 0 & 4 & 200 & 288 & 1 & 133 & 2.0 & 3\\\\\n",
       "\t 54 & 1 & 4 & 110 & 239 & 0 & 126 & 1.0 & 3\\\\\n",
       "\t 62 & 1 & 2 & 120 & 281 & 0 & 103 & 1.0 & 3\\\\\n",
       "\t 64 & 1 & 4 & 120 & 246 & 0 &  96 & 1.0 & 3\\\\\n",
       "\t 48 & 1 & 4 & 124 & 274 & 0 & 166 & 0.0 & 3\\\\\n",
       "\t 45 & 1 & 4 & 142 & 309 & 0 & 147 & 3.0 & 3\\\\\n",
       "\t 58 & 1 & 4 & 128 & 259 & 0 & 130 & 2.0 & 3\\\\\n",
       "\t 50 & 1 & 4 & 144 & 200 & 0 & 126 & 0.0 & 3\\\\\n",
       "\t 53 & 1 & 4 & 123 & 282 & 0 &  95 & 2.0 & 3\\\\\n",
       "\t 54 & 1 & 4 & 110 & 206 & 0 & 108 & 1.0 & 3\\\\\n",
       "\t ⋮ & ⋮ & ⋮ & ⋮ & ⋮ & ⋮ & ⋮ & ⋮ & ⋮\\\\\n",
       "\t 58 & 1 & 4 & 128 & 216 & 0 & 131 & 3.0 & 1\\\\\n",
       "\t 60 & 1 & 3 & 140 & 185 & 0 & 155 & 0.0 & 1\\\\\n",
       "\t 46 & 1 & 3 & 150 & 231 & 0 & 147 & 0.0 & 1\\\\\n",
       "\t 60 & 1 & 4 & 125 & 258 & 0 & 141 & 1.0 & 1\\\\\n",
       "\t 52 & 1 & 4 & 128 & 255 & 0 & 161 & 1.0 & 1\\\\\n",
       "\t 61 & 0 & 4 & 145 & 307 & 0 & 146 & 0.0 & 1\\\\\n",
       "\t 56 & 1 & 4 & 125 & 249 & 1 & 144 & 1.0 & 1\\\\\n",
       "\t 35 & 1 & 4 & 120 & 198 & 0 & 130 & 0.0 & 1\\\\\n",
       "\t 64 & 1 & 3 & 125 & 309 & 0 & 131 & 0.0 & 1\\\\\n",
       "\t 70 & 1 & 4 & 130 & 322 & 0 & 109 & 3.0 & 1\\\\\n",
       "\t 58 & 1 & 4 & 125 & 300 & 0 & 171 & 2.0 & 1\\\\\n",
       "\t 35 & 1 & 4 & 126 & 282 & 0 & 156 & 0.0 & 1\\\\\n",
       "\t 59 & 0 & 4 & 174 & 249 & 0 & 143 & 0.0 & 1\\\\\n",
       "\t 57 & 1 & 4 & 152 & 274 & 0 &  88 & 1.0 & 1\\\\\n",
       "\t 60 & 0 & 4 & 158 & 305 & 0 & 161 & 0.0 & 1\\\\\n",
       "\t 54 & 1 & 2 & 192 & 283 & 0 & 195 & 1.0 & 1\\\\\n",
       "\t 43 & 1 & 4 & 132 & 247 & 1 & 143 & ?   & 1\\\\\n",
       "\t 62 & 0 & 4 & 150 & 244 & 0 & 154 & 0.0 & 1\\\\\n",
       "\t 52 & 1 & 4 & 112 & 230 & 0 & 160 & 1.0 & 1\\\\\n",
       "\t 63 & 0 & 4 & 108 & 269 & 0 & 169 & 2.0 & 1\\\\\n",
       "\t 49 & 1 & 3 & 118 & 149 & 0 & 126 & 3.0 & 1\\\\\n",
       "\t 46 & 1 & 4 & 120 & 249 & 0 & 144 & 0.0 & 1\\\\\n",
       "\t 57 & 1 & 2 & 124 & 261 & 0 & 141 & 0.0 & 1\\\\\n",
       "\t 40 & 1 & 4 & 152 & 223 & 0 & 181 & 0.0 & 1\\\\\n",
       "\t 61 & 1 & 4 & 140 & 207 & 0 & 138 & 1.0 & 1\\\\\n",
       "\t 59 & 1 & 1 & 134 & 204 & 0 & 162 & 2.0 & 1\\\\\n",
       "\t 57 & 1 & 2 & 154 & 232 & 0 & 164 & 1.0 & 1\\\\\n",
       "\t 63 & 0 & 4 & 124 & 197 & 0 & 136 & 0.0 & 1\\\\\n",
       "\t 57 & 0 & 4 & 140 & 241 & 0 & 123 & 0.0 & 1\\\\\n",
       "\t 45 & 1 & 1 & 110 & 264 & 0 & 132 & 0.0 & 1\\\\\n",
       "\\end{tabular}\n"
      ],
      "text/markdown": [
       "\n",
       "A tibble: 96 × 9\n",
       "\n",
       "| age &lt;dbl&gt; | sex &lt;fct&gt; | cp &lt;fct&gt; | trestbps &lt;dbl&gt; | chol &lt;dbl&gt; | fbs &lt;dbl&gt; | thalach &lt;dbl&gt; | ca &lt;chr&gt; | num &lt;fct&gt; |\n",
       "|---|---|---|---|---|---|---|---|---|\n",
       "| 58 | 1 | 4 | 114 | 318 | 0 | 140 | 3.0 | 4 |\n",
       "| 60 | 1 | 4 | 130 | 206 | 0 | 132 | 2.0 | 4 |\n",
       "| 50 | 1 | 4 | 150 | 243 | 0 | 128 | 0.0 | 4 |\n",
       "| 63 | 0 | 4 | 150 | 407 | 0 | 154 | 3.0 | 4 |\n",
       "| 57 | 1 | 4 | 165 | 289 | 1 | 124 | 3.0 | 4 |\n",
       "| 77 | 1 | 4 | 125 | 304 | 0 | 162 | 3.0 | 4 |\n",
       "| 61 | 1 | 4 | 138 | 166 | 0 | 125 | 1.0 | 4 |\n",
       "| 70 | 1 | 4 | 145 | 174 | 0 | 125 | 0.0 | 4 |\n",
       "| 38 | 1 | 1 | 120 | 231 | 0 | 182 | 0.0 | 4 |\n",
       "| 62 | 0 | 4 | 140 | 268 | 0 | 160 | 2.0 | 3 |\n",
       "| 58 | 1 | 3 | 132 | 224 | 0 | 173 | 2.0 | 3 |\n",
       "| 40 | 1 | 4 | 110 | 167 | 0 | 114 | 0.0 | 3 |\n",
       "| 43 | 1 | 4 | 120 | 177 | 0 | 120 | 0.0 | 3 |\n",
       "| 55 | 1 | 4 | 132 | 353 | 0 | 132 | 1.0 | 3 |\n",
       "| 67 | 1 | 4 | 125 | 254 | 1 | 163 | 2.0 | 3 |\n",
       "| 58 | 1 | 4 | 150 | 270 | 0 | 111 | 0.0 | 3 |\n",
       "| 62 | 0 | 4 | 160 | 164 | 0 | 145 | 3.0 | 3 |\n",
       "| 49 | 1 | 3 | 120 | 188 | 0 | 139 | 3.0 | 3 |\n",
       "| 48 | 1 | 4 | 130 | 256 | 1 | 150 | 2.0 | 3 |\n",
       "| 55 | 1 | 4 | 140 | 217 | 0 | 111 | 0.0 | 3 |\n",
       "| 56 | 0 | 4 | 200 | 288 | 1 | 133 | 2.0 | 3 |\n",
       "| 54 | 1 | 4 | 110 | 239 | 0 | 126 | 1.0 | 3 |\n",
       "| 62 | 1 | 2 | 120 | 281 | 0 | 103 | 1.0 | 3 |\n",
       "| 64 | 1 | 4 | 120 | 246 | 0 |  96 | 1.0 | 3 |\n",
       "| 48 | 1 | 4 | 124 | 274 | 0 | 166 | 0.0 | 3 |\n",
       "| 45 | 1 | 4 | 142 | 309 | 0 | 147 | 3.0 | 3 |\n",
       "| 58 | 1 | 4 | 128 | 259 | 0 | 130 | 2.0 | 3 |\n",
       "| 50 | 1 | 4 | 144 | 200 | 0 | 126 | 0.0 | 3 |\n",
       "| 53 | 1 | 4 | 123 | 282 | 0 |  95 | 2.0 | 3 |\n",
       "| 54 | 1 | 4 | 110 | 206 | 0 | 108 | 1.0 | 3 |\n",
       "| ⋮ | ⋮ | ⋮ | ⋮ | ⋮ | ⋮ | ⋮ | ⋮ | ⋮ |\n",
       "| 58 | 1 | 4 | 128 | 216 | 0 | 131 | 3.0 | 1 |\n",
       "| 60 | 1 | 3 | 140 | 185 | 0 | 155 | 0.0 | 1 |\n",
       "| 46 | 1 | 3 | 150 | 231 | 0 | 147 | 0.0 | 1 |\n",
       "| 60 | 1 | 4 | 125 | 258 | 0 | 141 | 1.0 | 1 |\n",
       "| 52 | 1 | 4 | 128 | 255 | 0 | 161 | 1.0 | 1 |\n",
       "| 61 | 0 | 4 | 145 | 307 | 0 | 146 | 0.0 | 1 |\n",
       "| 56 | 1 | 4 | 125 | 249 | 1 | 144 | 1.0 | 1 |\n",
       "| 35 | 1 | 4 | 120 | 198 | 0 | 130 | 0.0 | 1 |\n",
       "| 64 | 1 | 3 | 125 | 309 | 0 | 131 | 0.0 | 1 |\n",
       "| 70 | 1 | 4 | 130 | 322 | 0 | 109 | 3.0 | 1 |\n",
       "| 58 | 1 | 4 | 125 | 300 | 0 | 171 | 2.0 | 1 |\n",
       "| 35 | 1 | 4 | 126 | 282 | 0 | 156 | 0.0 | 1 |\n",
       "| 59 | 0 | 4 | 174 | 249 | 0 | 143 | 0.0 | 1 |\n",
       "| 57 | 1 | 4 | 152 | 274 | 0 |  88 | 1.0 | 1 |\n",
       "| 60 | 0 | 4 | 158 | 305 | 0 | 161 | 0.0 | 1 |\n",
       "| 54 | 1 | 2 | 192 | 283 | 0 | 195 | 1.0 | 1 |\n",
       "| 43 | 1 | 4 | 132 | 247 | 1 | 143 | ?   | 1 |\n",
       "| 62 | 0 | 4 | 150 | 244 | 0 | 154 | 0.0 | 1 |\n",
       "| 52 | 1 | 4 | 112 | 230 | 0 | 160 | 1.0 | 1 |\n",
       "| 63 | 0 | 4 | 108 | 269 | 0 | 169 | 2.0 | 1 |\n",
       "| 49 | 1 | 3 | 118 | 149 | 0 | 126 | 3.0 | 1 |\n",
       "| 46 | 1 | 4 | 120 | 249 | 0 | 144 | 0.0 | 1 |\n",
       "| 57 | 1 | 2 | 124 | 261 | 0 | 141 | 0.0 | 1 |\n",
       "| 40 | 1 | 4 | 152 | 223 | 0 | 181 | 0.0 | 1 |\n",
       "| 61 | 1 | 4 | 140 | 207 | 0 | 138 | 1.0 | 1 |\n",
       "| 59 | 1 | 1 | 134 | 204 | 0 | 162 | 2.0 | 1 |\n",
       "| 57 | 1 | 2 | 154 | 232 | 0 | 164 | 1.0 | 1 |\n",
       "| 63 | 0 | 4 | 124 | 197 | 0 | 136 | 0.0 | 1 |\n",
       "| 57 | 0 | 4 | 140 | 241 | 0 | 123 | 0.0 | 1 |\n",
       "| 45 | 1 | 1 | 110 | 264 | 0 | 132 | 0.0 | 1 |\n",
       "\n"
      ],
      "text/plain": [
       "   age sex cp trestbps chol fbs thalach ca  num\n",
       "1  58  1   4  114      318  0   140     3.0 4  \n",
       "2  60  1   4  130      206  0   132     2.0 4  \n",
       "3  50  1   4  150      243  0   128     0.0 4  \n",
       "4  63  0   4  150      407  0   154     3.0 4  \n",
       "5  57  1   4  165      289  1   124     3.0 4  \n",
       "6  77  1   4  125      304  0   162     3.0 4  \n",
       "7  61  1   4  138      166  0   125     1.0 4  \n",
       "8  70  1   4  145      174  0   125     0.0 4  \n",
       "9  38  1   1  120      231  0   182     0.0 4  \n",
       "10 62  0   4  140      268  0   160     2.0 3  \n",
       "11 58  1   3  132      224  0   173     2.0 3  \n",
       "12 40  1   4  110      167  0   114     0.0 3  \n",
       "13 43  1   4  120      177  0   120     0.0 3  \n",
       "14 55  1   4  132      353  0   132     1.0 3  \n",
       "15 67  1   4  125      254  1   163     2.0 3  \n",
       "16 58  1   4  150      270  0   111     0.0 3  \n",
       "17 62  0   4  160      164  0   145     3.0 3  \n",
       "18 49  1   3  120      188  0   139     3.0 3  \n",
       "19 48  1   4  130      256  1   150     2.0 3  \n",
       "20 55  1   4  140      217  0   111     0.0 3  \n",
       "21 56  0   4  200      288  1   133     2.0 3  \n",
       "22 54  1   4  110      239  0   126     1.0 3  \n",
       "23 62  1   2  120      281  0   103     1.0 3  \n",
       "24 64  1   4  120      246  0    96     1.0 3  \n",
       "25 48  1   4  124      274  0   166     0.0 3  \n",
       "26 45  1   4  142      309  0   147     3.0 3  \n",
       "27 58  1   4  128      259  0   130     2.0 3  \n",
       "28 50  1   4  144      200  0   126     0.0 3  \n",
       "29 53  1   4  123      282  0    95     2.0 3  \n",
       "30 54  1   4  110      206  0   108     1.0 3  \n",
       "⋮  ⋮   ⋮   ⋮  ⋮        ⋮    ⋮   ⋮       ⋮   ⋮  \n",
       "67 58  1   4  128      216  0   131     3.0 1  \n",
       "68 60  1   3  140      185  0   155     0.0 1  \n",
       "69 46  1   3  150      231  0   147     0.0 1  \n",
       "70 60  1   4  125      258  0   141     1.0 1  \n",
       "71 52  1   4  128      255  0   161     1.0 1  \n",
       "72 61  0   4  145      307  0   146     0.0 1  \n",
       "73 56  1   4  125      249  1   144     1.0 1  \n",
       "74 35  1   4  120      198  0   130     0.0 1  \n",
       "75 64  1   3  125      309  0   131     0.0 1  \n",
       "76 70  1   4  130      322  0   109     3.0 1  \n",
       "77 58  1   4  125      300  0   171     2.0 1  \n",
       "78 35  1   4  126      282  0   156     0.0 1  \n",
       "79 59  0   4  174      249  0   143     0.0 1  \n",
       "80 57  1   4  152      274  0    88     1.0 1  \n",
       "81 60  0   4  158      305  0   161     0.0 1  \n",
       "82 54  1   2  192      283  0   195     1.0 1  \n",
       "83 43  1   4  132      247  1   143     ?   1  \n",
       "84 62  0   4  150      244  0   154     0.0 1  \n",
       "85 52  1   4  112      230  0   160     1.0 1  \n",
       "86 63  0   4  108      269  0   169     2.0 1  \n",
       "87 49  1   3  118      149  0   126     3.0 1  \n",
       "88 46  1   4  120      249  0   144     0.0 1  \n",
       "89 57  1   2  124      261  0   141     0.0 1  \n",
       "90 40  1   4  152      223  0   181     0.0 1  \n",
       "91 61  1   4  140      207  0   138     1.0 1  \n",
       "92 59  1   1  134      204  0   162     2.0 1  \n",
       "93 57  1   2  154      232  0   164     1.0 1  \n",
       "94 63  0   4  124      197  0   136     0.0 1  \n",
       "95 57  0   4  140      241  0   123     0.0 1  \n",
       "96 45  1   1  110      264  0   132     0.0 1  "
      ]
     },
     "metadata": {},
     "output_type": "display_data"
    }
   ],
   "source": [
    "justforfun <- filter(heart_train, num !=0) %>%\n",
    "        mutate(num = as.factor(num)) %>%\n",
    "        mutate(sex = as.factor(sex)) %>%\n",
    "        mutate(cp = as.factor(cp)) %>%\n",
    "        arrange(desc(num))\n",
    "justforfun"
   ]
  },
  {
   "cell_type": "markdown",
   "id": "a2e8ed2e-4223-4109-b3e2-9858a868ee28",
   "metadata": {},
   "source": [
    "Details of variables can be found here\n",
    "https://archive.ics.uci.edu/ml/datasets/Heart+Disease"
   ]
  },
  {
   "cell_type": "markdown",
   "id": "84c94c6d-081e-43b3-a81e-8fb877d8a4dc",
   "metadata": {},
   "source": [
    "## 4. Methods"
   ]
  },
  {
   "cell_type": "markdown",
   "id": "2739cfe2-1b7b-414b-86f4-99ab2f0923c4",
   "metadata": {},
   "source": [
    "## 5. Expected outcomes and significance"
   ]
  }
 ],
 "metadata": {
  "kernelspec": {
   "display_name": "R",
   "language": "R",
   "name": "ir"
  },
  "language_info": {
   "codemirror_mode": "r",
   "file_extension": ".r",
   "mimetype": "text/x-r-source",
   "name": "R",
   "pygments_lexer": "r",
   "version": "4.1.3"
  }
 },
 "nbformat": 4,
 "nbformat_minor": 5
}
