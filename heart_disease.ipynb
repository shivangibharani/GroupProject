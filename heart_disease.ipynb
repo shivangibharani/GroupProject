{
 "cells": [
  {
   "cell_type": "markdown",
   "id": "e677b0aa-2f61-47fb-b550-d54330c3ef8e",
   "metadata": {},
   "source": [
    "# The Heart of the Matter: Analyzing Predictors of Heart Disease\n",
    "\n"
   ]
  },
  {
   "cell_type": "markdown",
   "id": "606c07b4-d5eb-4ab0-a1d1-b30365dc7361",
   "metadata": {
    "tags": []
   },
   "source": [
    "## Introduction"
   ]
  },
  {
   "cell_type": "markdown",
   "id": "c3e591fc-3bef-4c09-8979-40278b8681ef",
   "metadata": {},
   "source": [
    "Heart disease is the number 1 cause of deaths worldwide, with no 'cure' of any kind. We can, however, try to identify possible factors that lead to higher risk of heart disease. We obtained a set of data collected by Robert Detrano, (M.D., Ph.D.) from the Long Beach and Cleveland Clinic Foundation. This data set contains a total of 76 attributes, of which 14 are used as primary data. We will be using this data to craft a model that attempts to predict whether or not age, sex, total cholestoral levels, maximum heart rate and number of major vessels affected by flourosopy affect the diagnosis of heart disease. "
   ]
  },
  {
   "cell_type": "markdown",
   "id": "ad7b94a0-8bb0-4493-a86f-82115450afde",
   "metadata": {
    "tags": []
   },
   "source": [
    "## Preliminary exploratory data analysis"
   ]
  },
  {
   "cell_type": "code",
   "execution_count": 2,
   "id": "1a3260e5-7e71-46c1-a9c0-ce39ec95ca04",
   "metadata": {},
   "outputs": [
    {
     "name": "stderr",
     "output_type": "stream",
     "text": [
      "── \u001b[1mAttaching packages\u001b[22m ─────────────────────────────────────── tidyverse 1.3.1 ──\n",
      "\n",
      "\u001b[32m✔\u001b[39m \u001b[34mggplot2\u001b[39m 3.3.6     \u001b[32m✔\u001b[39m \u001b[34mpurrr  \u001b[39m 0.3.4\n",
      "\u001b[32m✔\u001b[39m \u001b[34mtibble \u001b[39m 3.1.7     \u001b[32m✔\u001b[39m \u001b[34mdplyr  \u001b[39m 1.0.9\n",
      "\u001b[32m✔\u001b[39m \u001b[34mtidyr  \u001b[39m 1.2.0     \u001b[32m✔\u001b[39m \u001b[34mstringr\u001b[39m 1.4.0\n",
      "\u001b[32m✔\u001b[39m \u001b[34mreadr  \u001b[39m 2.1.2     \u001b[32m✔\u001b[39m \u001b[34mforcats\u001b[39m 0.5.1\n",
      "\n",
      "── \u001b[1mConflicts\u001b[22m ────────────────────────────────────────── tidyverse_conflicts() ──\n",
      "\u001b[31m✖\u001b[39m \u001b[34mdplyr\u001b[39m::\u001b[32mfilter()\u001b[39m masks \u001b[34mstats\u001b[39m::filter()\n",
      "\u001b[31m✖\u001b[39m \u001b[34mdplyr\u001b[39m::\u001b[32mlag()\u001b[39m    masks \u001b[34mstats\u001b[39m::lag()\n",
      "\n",
      "── \u001b[1mAttaching packages\u001b[22m ────────────────────────────────────── tidymodels 1.0.0 ──\n",
      "\n",
      "\u001b[32m✔\u001b[39m \u001b[34mbroom       \u001b[39m 1.0.0     \u001b[32m✔\u001b[39m \u001b[34mrsample     \u001b[39m 1.0.0\n",
      "\u001b[32m✔\u001b[39m \u001b[34mdials       \u001b[39m 1.0.0     \u001b[32m✔\u001b[39m \u001b[34mtune        \u001b[39m 1.0.0\n",
      "\u001b[32m✔\u001b[39m \u001b[34minfer       \u001b[39m 1.0.2     \u001b[32m✔\u001b[39m \u001b[34mworkflows   \u001b[39m 1.0.0\n",
      "\u001b[32m✔\u001b[39m \u001b[34mmodeldata   \u001b[39m 1.0.0     \u001b[32m✔\u001b[39m \u001b[34mworkflowsets\u001b[39m 1.0.0\n",
      "\u001b[32m✔\u001b[39m \u001b[34mparsnip     \u001b[39m 1.0.0     \u001b[32m✔\u001b[39m \u001b[34myardstick   \u001b[39m 1.0.0\n",
      "\u001b[32m✔\u001b[39m \u001b[34mrecipes     \u001b[39m 1.0.1     \n",
      "\n",
      "── \u001b[1mConflicts\u001b[22m ───────────────────────────────────────── tidymodels_conflicts() ──\n",
      "\u001b[31m✖\u001b[39m \u001b[34mscales\u001b[39m::\u001b[32mdiscard()\u001b[39m masks \u001b[34mpurrr\u001b[39m::discard()\n",
      "\u001b[31m✖\u001b[39m \u001b[34mdplyr\u001b[39m::\u001b[32mfilter()\u001b[39m   masks \u001b[34mstats\u001b[39m::filter()\n",
      "\u001b[31m✖\u001b[39m \u001b[34mrecipes\u001b[39m::\u001b[32mfixed()\u001b[39m  masks \u001b[34mstringr\u001b[39m::fixed()\n",
      "\u001b[31m✖\u001b[39m \u001b[34mdplyr\u001b[39m::\u001b[32mlag()\u001b[39m      masks \u001b[34mstats\u001b[39m::lag()\n",
      "\u001b[31m✖\u001b[39m \u001b[34myardstick\u001b[39m::\u001b[32mspec()\u001b[39m masks \u001b[34mreadr\u001b[39m::spec()\n",
      "\u001b[31m✖\u001b[39m \u001b[34mrecipes\u001b[39m::\u001b[32mstep()\u001b[39m   masks \u001b[34mstats\u001b[39m::step()\n",
      "\u001b[34m•\u001b[39m Learn how to get started at \u001b[32mhttps://www.tidymodels.org/start/\u001b[39m\n",
      "\n"
     ]
    }
   ],
   "source": [
    "library(tidyverse)\n",
    "library(tidymodels)"
   ]
  },
  {
   "cell_type": "code",
   "execution_count": 3,
   "id": "5c3af150-4c24-42fe-a4cc-6b270866e929",
   "metadata": {},
   "outputs": [
    {
     "name": "stderr",
     "output_type": "stream",
     "text": [
      "\u001b[1mRows: \u001b[22m\u001b[34m303\u001b[39m \u001b[1mColumns: \u001b[22m\u001b[34m14\u001b[39m\n",
      "\u001b[36m──\u001b[39m \u001b[1mColumn specification\u001b[22m \u001b[36m────────────────────────────────────────────────────────\u001b[39m\n",
      "\u001b[1mDelimiter:\u001b[22m \",\"\n",
      "\u001b[31mchr\u001b[39m  (2): X12, X13\n",
      "\u001b[32mdbl\u001b[39m (12): X1, X2, X3, X4, X5, X6, X7, X8, X9, X10, X11, X14\n",
      "\n",
      "\u001b[36mℹ\u001b[39m Use `spec()` to retrieve the full column specification for this data.\n",
      "\u001b[36mℹ\u001b[39m Specify the column types or set `show_col_types = FALSE` to quiet this message.\n"
     ]
    },
    {
     "data": {
      "text/html": [
       "<table class=\"dataframe\">\n",
       "<caption>A tibble: 6 × 14</caption>\n",
       "<thead>\n",
       "\t<tr><th scope=col>age</th><th scope=col>sex</th><th scope=col>cp</th><th scope=col>trestbps</th><th scope=col>chol</th><th scope=col>fbs</th><th scope=col>restecg</th><th scope=col>thalach</th><th scope=col>exang</th><th scope=col>oldpeak</th><th scope=col>slope</th><th scope=col>ca</th><th scope=col>thal</th><th scope=col>num</th></tr>\n",
       "\t<tr><th scope=col>&lt;dbl&gt;</th><th scope=col>&lt;dbl&gt;</th><th scope=col>&lt;dbl&gt;</th><th scope=col>&lt;dbl&gt;</th><th scope=col>&lt;dbl&gt;</th><th scope=col>&lt;dbl&gt;</th><th scope=col>&lt;dbl&gt;</th><th scope=col>&lt;dbl&gt;</th><th scope=col>&lt;dbl&gt;</th><th scope=col>&lt;dbl&gt;</th><th scope=col>&lt;dbl&gt;</th><th scope=col>&lt;chr&gt;</th><th scope=col>&lt;chr&gt;</th><th scope=col>&lt;dbl&gt;</th></tr>\n",
       "</thead>\n",
       "<tbody>\n",
       "\t<tr><td>63</td><td>1</td><td>1</td><td>145</td><td>233</td><td>1</td><td>2</td><td>150</td><td>0</td><td>2.3</td><td>3</td><td>0.0</td><td>6.0</td><td>0</td></tr>\n",
       "\t<tr><td>67</td><td>1</td><td>4</td><td>160</td><td>286</td><td>0</td><td>2</td><td>108</td><td>1</td><td>1.5</td><td>2</td><td>3.0</td><td>3.0</td><td>2</td></tr>\n",
       "\t<tr><td>67</td><td>1</td><td>4</td><td>120</td><td>229</td><td>0</td><td>2</td><td>129</td><td>1</td><td>2.6</td><td>2</td><td>2.0</td><td>7.0</td><td>1</td></tr>\n",
       "\t<tr><td>37</td><td>1</td><td>3</td><td>130</td><td>250</td><td>0</td><td>0</td><td>187</td><td>0</td><td>3.5</td><td>3</td><td>0.0</td><td>3.0</td><td>0</td></tr>\n",
       "\t<tr><td>41</td><td>0</td><td>2</td><td>130</td><td>204</td><td>0</td><td>2</td><td>172</td><td>0</td><td>1.4</td><td>1</td><td>0.0</td><td>3.0</td><td>0</td></tr>\n",
       "\t<tr><td>56</td><td>1</td><td>2</td><td>120</td><td>236</td><td>0</td><td>0</td><td>178</td><td>0</td><td>0.8</td><td>1</td><td>0.0</td><td>3.0</td><td>0</td></tr>\n",
       "</tbody>\n",
       "</table>\n"
      ],
      "text/latex": [
       "A tibble: 6 × 14\n",
       "\\begin{tabular}{llllllllllllll}\n",
       " age & sex & cp & trestbps & chol & fbs & restecg & thalach & exang & oldpeak & slope & ca & thal & num\\\\\n",
       " <dbl> & <dbl> & <dbl> & <dbl> & <dbl> & <dbl> & <dbl> & <dbl> & <dbl> & <dbl> & <dbl> & <chr> & <chr> & <dbl>\\\\\n",
       "\\hline\n",
       "\t 63 & 1 & 1 & 145 & 233 & 1 & 2 & 150 & 0 & 2.3 & 3 & 0.0 & 6.0 & 0\\\\\n",
       "\t 67 & 1 & 4 & 160 & 286 & 0 & 2 & 108 & 1 & 1.5 & 2 & 3.0 & 3.0 & 2\\\\\n",
       "\t 67 & 1 & 4 & 120 & 229 & 0 & 2 & 129 & 1 & 2.6 & 2 & 2.0 & 7.0 & 1\\\\\n",
       "\t 37 & 1 & 3 & 130 & 250 & 0 & 0 & 187 & 0 & 3.5 & 3 & 0.0 & 3.0 & 0\\\\\n",
       "\t 41 & 0 & 2 & 130 & 204 & 0 & 2 & 172 & 0 & 1.4 & 1 & 0.0 & 3.0 & 0\\\\\n",
       "\t 56 & 1 & 2 & 120 & 236 & 0 & 0 & 178 & 0 & 0.8 & 1 & 0.0 & 3.0 & 0\\\\\n",
       "\\end{tabular}\n"
      ],
      "text/markdown": [
       "\n",
       "A tibble: 6 × 14\n",
       "\n",
       "| age &lt;dbl&gt; | sex &lt;dbl&gt; | cp &lt;dbl&gt; | trestbps &lt;dbl&gt; | chol &lt;dbl&gt; | fbs &lt;dbl&gt; | restecg &lt;dbl&gt; | thalach &lt;dbl&gt; | exang &lt;dbl&gt; | oldpeak &lt;dbl&gt; | slope &lt;dbl&gt; | ca &lt;chr&gt; | thal &lt;chr&gt; | num &lt;dbl&gt; |\n",
       "|---|---|---|---|---|---|---|---|---|---|---|---|---|---|\n",
       "| 63 | 1 | 1 | 145 | 233 | 1 | 2 | 150 | 0 | 2.3 | 3 | 0.0 | 6.0 | 0 |\n",
       "| 67 | 1 | 4 | 160 | 286 | 0 | 2 | 108 | 1 | 1.5 | 2 | 3.0 | 3.0 | 2 |\n",
       "| 67 | 1 | 4 | 120 | 229 | 0 | 2 | 129 | 1 | 2.6 | 2 | 2.0 | 7.0 | 1 |\n",
       "| 37 | 1 | 3 | 130 | 250 | 0 | 0 | 187 | 0 | 3.5 | 3 | 0.0 | 3.0 | 0 |\n",
       "| 41 | 0 | 2 | 130 | 204 | 0 | 2 | 172 | 0 | 1.4 | 1 | 0.0 | 3.0 | 0 |\n",
       "| 56 | 1 | 2 | 120 | 236 | 0 | 0 | 178 | 0 | 0.8 | 1 | 0.0 | 3.0 | 0 |\n",
       "\n"
      ],
      "text/plain": [
       "  age sex cp trestbps chol fbs restecg thalach exang oldpeak slope ca  thal num\n",
       "1 63  1   1  145      233  1   2       150     0     2.3     3     0.0 6.0  0  \n",
       "2 67  1   4  160      286  0   2       108     1     1.5     2     3.0 3.0  2  \n",
       "3 67  1   4  120      229  0   2       129     1     2.6     2     2.0 7.0  1  \n",
       "4 37  1   3  130      250  0   0       187     0     3.5     3     0.0 3.0  0  \n",
       "5 41  0   2  130      204  0   2       172     0     1.4     1     0.0 3.0  0  \n",
       "6 56  1   2  120      236  0   0       178     0     0.8     1     0.0 3.0  0  "
      ]
     },
     "metadata": {},
     "output_type": "display_data"
    }
   ],
   "source": [
    "url <- \"https://archive.ics.uci.edu/ml/machine-learning-databases/heart-disease/processed.cleveland.data\"\n",
    "download.file(url, destfile = \"data/processed.cleveland.data\")\n",
    "heart_df <- read_csv(\"data/processed.cleveland.data\", col_name = FALSE)\n",
    "col <- c(\"age\", \"sex\",\"cp\", \"trestbps\", \"chol\", \"fbs\", \"restecg\", \"thalach\", \"exang\", \"oldpeak\", \"slope\", \"ca\", \"thal\",\"num\")\n",
    "colnames(heart_df) <- col\n",
    "head(heart_df)"
   ]
  },
  {
   "cell_type": "markdown",
   "id": "dccf5d01-b7cc-4f07-aaff-c3b82dd5bfc6",
   "metadata": {},
   "source": [
    "We will extract the columns that we need and prepare them for analysis. Make the \"num\" variable binary by reducing the number of categories."
   ]
  },
  {
   "cell_type": "code",
   "execution_count": 4,
   "id": "404f5ebf-2679-4139-858b-6192769d07d0",
   "metadata": {},
   "outputs": [
    {
     "data": {
      "text/html": [
       "<table class=\"dataframe\">\n",
       "<caption>A tibble: 6 × 6</caption>\n",
       "<thead>\n",
       "\t<tr><th scope=col>age</th><th scope=col>sex</th><th scope=col>chol</th><th scope=col>thalach</th><th scope=col>ca</th><th scope=col>num</th></tr>\n",
       "\t<tr><th scope=col>&lt;dbl&gt;</th><th scope=col>&lt;dbl&gt;</th><th scope=col>&lt;dbl&gt;</th><th scope=col>&lt;dbl&gt;</th><th scope=col>&lt;chr&gt;</th><th scope=col>&lt;dbl&gt;</th></tr>\n",
       "</thead>\n",
       "<tbody>\n",
       "\t<tr><td>63</td><td>1</td><td>233</td><td>150</td><td>0.0</td><td>0</td></tr>\n",
       "\t<tr><td>67</td><td>1</td><td>286</td><td>108</td><td>3.0</td><td>2</td></tr>\n",
       "\t<tr><td>67</td><td>1</td><td>229</td><td>129</td><td>2.0</td><td>1</td></tr>\n",
       "\t<tr><td>37</td><td>1</td><td>250</td><td>187</td><td>0.0</td><td>0</td></tr>\n",
       "\t<tr><td>41</td><td>0</td><td>204</td><td>172</td><td>0.0</td><td>0</td></tr>\n",
       "\t<tr><td>56</td><td>1</td><td>236</td><td>178</td><td>0.0</td><td>0</td></tr>\n",
       "</tbody>\n",
       "</table>\n"
      ],
      "text/latex": [
       "A tibble: 6 × 6\n",
       "\\begin{tabular}{llllll}\n",
       " age & sex & chol & thalach & ca & num\\\\\n",
       " <dbl> & <dbl> & <dbl> & <dbl> & <chr> & <dbl>\\\\\n",
       "\\hline\n",
       "\t 63 & 1 & 233 & 150 & 0.0 & 0\\\\\n",
       "\t 67 & 1 & 286 & 108 & 3.0 & 2\\\\\n",
       "\t 67 & 1 & 229 & 129 & 2.0 & 1\\\\\n",
       "\t 37 & 1 & 250 & 187 & 0.0 & 0\\\\\n",
       "\t 41 & 0 & 204 & 172 & 0.0 & 0\\\\\n",
       "\t 56 & 1 & 236 & 178 & 0.0 & 0\\\\\n",
       "\\end{tabular}\n"
      ],
      "text/markdown": [
       "\n",
       "A tibble: 6 × 6\n",
       "\n",
       "| age &lt;dbl&gt; | sex &lt;dbl&gt; | chol &lt;dbl&gt; | thalach &lt;dbl&gt; | ca &lt;chr&gt; | num &lt;dbl&gt; |\n",
       "|---|---|---|---|---|---|\n",
       "| 63 | 1 | 233 | 150 | 0.0 | 0 |\n",
       "| 67 | 1 | 286 | 108 | 3.0 | 2 |\n",
       "| 67 | 1 | 229 | 129 | 2.0 | 1 |\n",
       "| 37 | 1 | 250 | 187 | 0.0 | 0 |\n",
       "| 41 | 0 | 204 | 172 | 0.0 | 0 |\n",
       "| 56 | 1 | 236 | 178 | 0.0 | 0 |\n",
       "\n"
      ],
      "text/plain": [
       "  age sex chol thalach ca  num\n",
       "1 63  1   233  150     0.0 0  \n",
       "2 67  1   286  108     3.0 2  \n",
       "3 67  1   229  129     2.0 1  \n",
       "4 37  1   250  187     0.0 0  \n",
       "5 41  0   204  172     0.0 0  \n",
       "6 56  1   236  178     0.0 0  "
      ]
     },
     "metadata": {},
     "output_type": "display_data"
    },
    {
     "name": "stderr",
     "output_type": "stream",
     "text": [
      "Warning message in mask$eval_all_mutate(quo):\n",
      "“NAs introduced by coercion”\n"
     ]
    },
    {
     "data": {
      "text/html": [
       "<table class=\"dataframe\">\n",
       "<caption>A tibble: 6 × 6</caption>\n",
       "<thead>\n",
       "\t<tr><th scope=col>age</th><th scope=col>sex</th><th scope=col>chol</th><th scope=col>thalach</th><th scope=col>ca</th><th scope=col>num</th></tr>\n",
       "\t<tr><th scope=col>&lt;dbl&gt;</th><th scope=col>&lt;fct&gt;</th><th scope=col>&lt;dbl&gt;</th><th scope=col>&lt;dbl&gt;</th><th scope=col>&lt;int&gt;</th><th scope=col>&lt;fct&gt;</th></tr>\n",
       "</thead>\n",
       "<tbody>\n",
       "\t<tr><td>63</td><td>1</td><td>233</td><td>150</td><td>0</td><td>0</td></tr>\n",
       "\t<tr><td>37</td><td>1</td><td>250</td><td>187</td><td>0</td><td>0</td></tr>\n",
       "\t<tr><td>41</td><td>0</td><td>204</td><td>172</td><td>0</td><td>0</td></tr>\n",
       "\t<tr><td>56</td><td>1</td><td>236</td><td>178</td><td>0</td><td>0</td></tr>\n",
       "\t<tr><td>57</td><td>0</td><td>354</td><td>163</td><td>0</td><td>0</td></tr>\n",
       "\t<tr><td>57</td><td>1</td><td>192</td><td>148</td><td>0</td><td>0</td></tr>\n",
       "</tbody>\n",
       "</table>\n"
      ],
      "text/latex": [
       "A tibble: 6 × 6\n",
       "\\begin{tabular}{llllll}\n",
       " age & sex & chol & thalach & ca & num\\\\\n",
       " <dbl> & <fct> & <dbl> & <dbl> & <int> & <fct>\\\\\n",
       "\\hline\n",
       "\t 63 & 1 & 233 & 150 & 0 & 0\\\\\n",
       "\t 37 & 1 & 250 & 187 & 0 & 0\\\\\n",
       "\t 41 & 0 & 204 & 172 & 0 & 0\\\\\n",
       "\t 56 & 1 & 236 & 178 & 0 & 0\\\\\n",
       "\t 57 & 0 & 354 & 163 & 0 & 0\\\\\n",
       "\t 57 & 1 & 192 & 148 & 0 & 0\\\\\n",
       "\\end{tabular}\n"
      ],
      "text/markdown": [
       "\n",
       "A tibble: 6 × 6\n",
       "\n",
       "| age &lt;dbl&gt; | sex &lt;fct&gt; | chol &lt;dbl&gt; | thalach &lt;dbl&gt; | ca &lt;int&gt; | num &lt;fct&gt; |\n",
       "|---|---|---|---|---|---|\n",
       "| 63 | 1 | 233 | 150 | 0 | 0 |\n",
       "| 37 | 1 | 250 | 187 | 0 | 0 |\n",
       "| 41 | 0 | 204 | 172 | 0 | 0 |\n",
       "| 56 | 1 | 236 | 178 | 0 | 0 |\n",
       "| 57 | 0 | 354 | 163 | 0 | 0 |\n",
       "| 57 | 1 | 192 | 148 | 0 | 0 |\n",
       "\n"
      ],
      "text/plain": [
       "  age sex chol thalach ca num\n",
       "1 63  1   233  150     0  0  \n",
       "2 37  1   250  187     0  0  \n",
       "3 41  0   204  172     0  0  \n",
       "4 56  1   236  178     0  0  \n",
       "5 57  0   354  163     0  0  \n",
       "6 57  1   192  148     0  0  "
      ]
     },
     "metadata": {},
     "output_type": "display_data"
    }
   ],
   "source": [
    "filheart_df <- select(heart_df, -cp, -trestbps, -fbs, -restecg, -exang, -oldpeak, -slope, -thal)\n",
    "head(filheart_df)\n",
    "\n",
    "heart_num0 <- filheart_df |>\n",
    "filter(num == 0)\n",
    "heart_num1 <- filheart_df |>\n",
    "filter(num > 0) |>\n",
    "mutate(num = 1)\n",
    "\n",
    "heart_clean <- rbind(heart_num0, heart_num1)\n",
    "heart_clean <- heart_clean |>\n",
    "mutate(num = as_factor(num), ca = as.integer(ca), sex = as_factor(sex))\n",
    "head(heart_clean)"
   ]
  },
  {
   "cell_type": "code",
   "execution_count": 5,
   "id": "c9cb9c8e-8251-42a1-b421-e2b4c186bcf3",
   "metadata": {},
   "outputs": [],
   "source": [
    "# Here we use prop = 0.7 but we may change as we build our model\n",
    "split <- initial_split(heart_clean, prop = 0.7, strata = num)\n",
    "heart_train <- training(split)\n",
    "heart_test <- testing(split)\n",
    "# head(heart_train)\n",
    "# head(heart_test)"
   ]
  },
  {
   "cell_type": "markdown",
   "id": "d7b9c295-29e0-405a-a305-36863b8e1e4f",
   "metadata": {},
   "source": [
    "### Summary of predictor variables\n",
    "We report counts for categorical variables and means for quantitative variables as well as the number of NA values for each variable."
   ]
  },
  {
   "cell_type": "code",
   "execution_count": 6,
   "id": "b069631a-55c5-4592-8fe0-131f14a2ce64",
   "metadata": {},
   "outputs": [
    {
     "name": "stdout",
     "output_type": "stream",
     "text": [
      "[1] \"Diagnosis Counts\"\n"
     ]
    },
    {
     "data": {
      "text/html": [
       "<table class=\"dataframe\">\n",
       "<caption>A tibble: 2 × 2</caption>\n",
       "<thead>\n",
       "\t<tr><th scope=col>num</th><th scope=col>count</th></tr>\n",
       "\t<tr><th scope=col>&lt;fct&gt;</th><th scope=col>&lt;int&gt;</th></tr>\n",
       "</thead>\n",
       "<tbody>\n",
       "\t<tr><td>0</td><td>114</td></tr>\n",
       "\t<tr><td>1</td><td> 97</td></tr>\n",
       "</tbody>\n",
       "</table>\n"
      ],
      "text/latex": [
       "A tibble: 2 × 2\n",
       "\\begin{tabular}{ll}\n",
       " num & count\\\\\n",
       " <fct> & <int>\\\\\n",
       "\\hline\n",
       "\t 0 & 114\\\\\n",
       "\t 1 &  97\\\\\n",
       "\\end{tabular}\n"
      ],
      "text/markdown": [
       "\n",
       "A tibble: 2 × 2\n",
       "\n",
       "| num &lt;fct&gt; | count &lt;int&gt; |\n",
       "|---|---|\n",
       "| 0 | 114 |\n",
       "| 1 |  97 |\n",
       "\n"
      ],
      "text/plain": [
       "  num count\n",
       "1 0   114  \n",
       "2 1    97  "
      ]
     },
     "metadata": {},
     "output_type": "display_data"
    },
    {
     "name": "stdout",
     "output_type": "stream",
     "text": [
      "[1] \"Flourosopy Counts\"\n"
     ]
    },
    {
     "data": {
      "text/html": [
       "<table class=\"dataframe\">\n",
       "<caption>A tibble: 5 × 2</caption>\n",
       "<thead>\n",
       "\t<tr><th scope=col>ca</th><th scope=col>count</th></tr>\n",
       "\t<tr><th scope=col>&lt;int&gt;</th><th scope=col>&lt;int&gt;</th></tr>\n",
       "</thead>\n",
       "<tbody>\n",
       "\t<tr><td> 0</td><td>117</td></tr>\n",
       "\t<tr><td> 1</td><td> 48</td></tr>\n",
       "\t<tr><td> 2</td><td> 27</td></tr>\n",
       "\t<tr><td> 3</td><td> 16</td></tr>\n",
       "\t<tr><td>NA</td><td>  3</td></tr>\n",
       "</tbody>\n",
       "</table>\n"
      ],
      "text/latex": [
       "A tibble: 5 × 2\n",
       "\\begin{tabular}{ll}\n",
       " ca & count\\\\\n",
       " <int> & <int>\\\\\n",
       "\\hline\n",
       "\t  0 & 117\\\\\n",
       "\t  1 &  48\\\\\n",
       "\t  2 &  27\\\\\n",
       "\t  3 &  16\\\\\n",
       "\t NA &   3\\\\\n",
       "\\end{tabular}\n"
      ],
      "text/markdown": [
       "\n",
       "A tibble: 5 × 2\n",
       "\n",
       "| ca &lt;int&gt; | count &lt;int&gt; |\n",
       "|---|---|\n",
       "|  0 | 117 |\n",
       "|  1 |  48 |\n",
       "|  2 |  27 |\n",
       "|  3 |  16 |\n",
       "| NA |   3 |\n",
       "\n"
      ],
      "text/plain": [
       "  ca count\n",
       "1  0 117  \n",
       "2  1  48  \n",
       "3  2  27  \n",
       "4  3  16  \n",
       "5 NA   3  "
      ]
     },
     "metadata": {},
     "output_type": "display_data"
    },
    {
     "name": "stdout",
     "output_type": "stream",
     "text": [
      "[1] \"Means of Quantitative Cariables Based on Diagnosis\"\n"
     ]
    },
    {
     "data": {
      "text/html": [
       "<table class=\"dataframe\">\n",
       "<caption>A tibble: 2 × 4</caption>\n",
       "<thead>\n",
       "\t<tr><th scope=col>num</th><th scope=col>avg_age</th><th scope=col>avg_chol</th><th scope=col>avg_thal</th></tr>\n",
       "\t<tr><th scope=col>&lt;fct&gt;</th><th scope=col>&lt;dbl&gt;</th><th scope=col>&lt;dbl&gt;</th><th scope=col>&lt;dbl&gt;</th></tr>\n",
       "</thead>\n",
       "<tbody>\n",
       "\t<tr><td>0</td><td>52.85088</td><td>245.7895</td><td>157.9649</td></tr>\n",
       "\t<tr><td>1</td><td>56.79381</td><td>250.0103</td><td>137.8351</td></tr>\n",
       "</tbody>\n",
       "</table>\n"
      ],
      "text/latex": [
       "A tibble: 2 × 4\n",
       "\\begin{tabular}{llll}\n",
       " num & avg\\_age & avg\\_chol & avg\\_thal\\\\\n",
       " <fct> & <dbl> & <dbl> & <dbl>\\\\\n",
       "\\hline\n",
       "\t 0 & 52.85088 & 245.7895 & 157.9649\\\\\n",
       "\t 1 & 56.79381 & 250.0103 & 137.8351\\\\\n",
       "\\end{tabular}\n"
      ],
      "text/markdown": [
       "\n",
       "A tibble: 2 × 4\n",
       "\n",
       "| num &lt;fct&gt; | avg_age &lt;dbl&gt; | avg_chol &lt;dbl&gt; | avg_thal &lt;dbl&gt; |\n",
       "|---|---|---|---|\n",
       "| 0 | 52.85088 | 245.7895 | 157.9649 |\n",
       "| 1 | 56.79381 | 250.0103 | 137.8351 |\n",
       "\n"
      ],
      "text/plain": [
       "  num avg_age  avg_chol avg_thal\n",
       "1 0   52.85088 245.7895 157.9649\n",
       "2 1   56.79381 250.0103 137.8351"
      ]
     },
     "metadata": {},
     "output_type": "display_data"
    }
   ],
   "source": [
    "num_counts <- heart_train |>\n",
    "    group_by(num) |>\n",
    "    summarize(count = n())\n",
    "ca_counts <- heart_train |>\n",
    "    group_by(ca) |>\n",
    "    summarize(count = n())\n",
    "means_by_num  <- heart_train %>%\n",
    "        group_by(num) %>%\n",
    "        summarize(avg_age = mean(age), avg_chol = mean(chol), avg_thal = mean(thalach))\n",
    "print(\"Diagnosis Counts\")\n",
    "num_counts\n",
    "print(\"Flourosopy Counts\")\n",
    "ca_counts\n",
    "print(\"Means of Quantitative Variables Based on Diagnosis\")\n",
    "means_by_num"
   ]
  },
  {
   "cell_type": "markdown",
   "id": "afd7e3f6-bb2a-49bd-aaea-a05a62006bea",
   "metadata": {
    "tags": []
   },
   "source": [
    "### Visualization\n",
    "We visualize the distribution of each column. Some rough trends can be observed just by colouring based on the presence of heart disease."
   ]
  },
  {
   "cell_type": "code",
   "execution_count": 7,
   "id": "57b3f33f-bbe4-40c8-bf69-62c2194a2442",
   "metadata": {},
   "outputs": [
    {
     "ename": "ERROR",
     "evalue": "Error in grid.arrange(num_plot, sex_plot, age_plot, thalach_plot, chol_plot, : could not find function \"grid.arrange\"\n",
     "output_type": "error",
     "traceback": [
      "Error in grid.arrange(num_plot, sex_plot, age_plot, thalach_plot, chol_plot, : could not find function \"grid.arrange\"\nTraceback:\n"
     ]
    }
   ],
   "source": [
    "num_plot <- ggplot(heart_train, aes(x = num)) +\n",
    "    geom_bar() +\n",
    "    labs(x = \"Presence of heart disease\", title = \"Distribution of presence of heart disease\")+\n",
    "    scale_x_discrete(labels = c('No','Yes'))\n",
    "\n",
    "sex_plot <- ggplot(heart_train, aes(x= sex, fill = num)) +\n",
    "    geom_bar(position = \"stack\") + \n",
    "    labs(x = \"Sex\", title = \"Distribution of sex\", fill = \"Presence of heart disease\") +\n",
    "    scale_fill_hue(labels = c(\"No\", \"Yes\"))+\n",
    "    scale_x_discrete(labels = c('Female','Male'))\n",
    "\n",
    "\n",
    "age_plot <- ggplot(heart_train, aes(x= age, fill = num)) +\n",
    "    geom_histogram(position = \"stack\") +\n",
    "    labs(x = \"Age\", title = \"Distribution of age\", fill = \"Presence of heart disease\") +\n",
    "    scale_fill_hue(labels = c(\"No\", \"Yes\"))\n",
    "\n",
    "\n",
    "chol_plot <- ggplot(heart_train, aes(x= chol, fill = num)) +\n",
    "    geom_histogram(position = \"stack\") +\n",
    "    labs(x = \"Serum cholestoral (mg/dl)\", title = \"Distribution of serum cholestoral (mg/dl)\", fill = \"Presence of heart disease\") +\n",
    "    scale_fill_hue(labels = c(\"No\", \"Yes\"))\n",
    "\n",
    "\n",
    "thalach_plot <- ggplot(heart_train, aes(x= thalach, fill = num)) +\n",
    "    geom_histogram(position = \"stack\") +\n",
    "    labs(x = \"Maximum heart rate\", title = \"Distribution of maximum heart rate achieved\", fill = \"Presence of heart disease\") +\n",
    "    scale_fill_hue(labels = c(\"No\", \"Yes\"))\n",
    "\n",
    "\n",
    "ca_plot <- ggplot(heart_train, aes(x= ca, fill = num)) +\n",
    "    geom_bar(position = \"stack\")+\n",
    "    labs(x = \"Number of major vessels colored by flourosopy\", title = \"Distribution of number of major vessels colored by flourosopy\", fill = \"Presence of heart disease\") +\n",
    "    scale_fill_hue(labels = c(\"No\", \"Yes\"))\n",
    "\n",
    "options(repr.plot.width = 14, repr.plot.height = 16)\n",
    "grid.arrange(num_plot, sex_plot, age_plot,thalach_plot, chol_plot, ca_plot, ncol = 2)"
   ]
  },
  {
   "cell_type": "markdown",
   "id": "84c94c6d-081e-43b3-a81e-8fb877d8a4dc",
   "metadata": {
    "tags": []
   },
   "source": [
    "## Methods"
   ]
  },
  {
   "cell_type": "markdown",
   "id": "87f57ba3-526f-4212-986b-6a619db66222",
   "metadata": {},
   "source": [
    "We will use k-nearest neighbours classification algorithm to predict the instance of heart disease with our chosen factors. We will be using age (age), sex (sex), cholesterol level(in mg/dl) (chol), maximum heart rate achieved (thalach), and number of major vessels colored by flourosopy\n",
    " (ca) to predict the diagnosis of heart disease (num). For clarity, sex is a binary variable that is coded as male = 1 and female = 0. Number of major vessels is measured from 0-3 and converted to integers. The diagnosis is initially measured from 0-4: 0 indicating no presence and 1-4 indicating presence of heart disease. We mutated this into a binary variable so that 0 indicates no diagnosis and 1 indicates diagnosis. \n",
    "\n",
    "We will find the best k by using cross validation with some number of folds to achieve a better accuracy. Accuracy will be determined by how correctly our model can predict the presence of heart disease with unseen data (test set).\n",
    "\n",
    "One way to visualize our results is to create a scatterplot between two variables that were found to have a significant influence in prediction with the color function to indicate the instance of heart disease or not. This will help explain why our model works (or doesn’t work very well) because we can see the relationships between the predictors and the target variable."
   ]
  },
  {
   "cell_type": "markdown",
   "id": "2739cfe2-1b7b-414b-86f4-99ab2f0923c4",
   "metadata": {
    "tags": []
   },
   "source": [
    "## Expected outcomes and significance"
   ]
  },
  {
   "cell_type": "markdown",
   "id": "0c7b16d8-2411-4398-9ce9-ccbdcbb70e08",
   "metadata": {},
   "source": [
    "We expect to find relationship between our predictors (age, cholesterol level, maximum heart rate achieved, number of major vessels colored by flourosopy, and sex) and our target variable (presence of heart disease).\n",
    "\n",
    "Findings such as this could have an impact on how doctors communicate health risks to patients. It may also affect how patients change their daily life as certain factors, such as cholesterol level, may be found to be associated with higher chances of heart disease.\n",
    "\n",
    "This could lead to future questions about the compounding effect of these variables and all other variables that serve predictive purposes. Knowing how these chosen variables affect the instance of heart disease, questions about other predictive variables such as blood pressure, smoking, or obesity can also be tested individually and together. Interactions between these variables could be a very important question to the future of diagnostic research with regard to heart disease and other similar conditions.\n"
   ]
  }
 ],
 "metadata": {
  "kernelspec": {
   "display_name": "R",
   "language": "R",
   "name": "ir"
  },
  "language_info": {
   "codemirror_mode": "r",
   "file_extension": ".r",
   "mimetype": "text/x-r-source",
   "name": "R",
   "pygments_lexer": "r",
   "version": "4.1.3"
  }
 },
 "nbformat": 4,
 "nbformat_minor": 5
}
