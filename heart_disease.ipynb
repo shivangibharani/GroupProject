{
 "cells": [
  {
   "cell_type": "markdown",
   "id": "e677b0aa-2f61-47fb-b550-d54330c3ef8e",
   "metadata": {},
   "source": [
    "# The Heart of the Matter: Analyzing Predictors of Heart Disease\n",
    "\n"
   ]
  },
  {
   "cell_type": "markdown",
   "id": "606c07b4-d5eb-4ab0-a1d1-b30365dc7361",
   "metadata": {
    "tags": []
   },
   "source": [
    "## Introduction"
   ]
  },
  {
   "cell_type": "markdown",
   "id": "c3e591fc-3bef-4c09-8979-40278b8681ef",
   "metadata": {},
   "source": [
    "Heart disease is the number 1 cause of deaths worldwide, with no 'cure' of any kind. We can, however, try to identify possible factors that lead to higher risk of heart disease. We obtained a set of data collected by Robert Detrano, (M.D., Ph.D.) from the Long Beach and Cleveland Clinic Foundation. This data set contains a total of 76 attributes, of which 14 are used as primary data. We will be using this data to craft a model that attempts to predict whether or not age, sex, total cholestoral levels, maximum heart rate and number of major vessels affected by flourosopy affect the diagnosis of heart disease. "
   ]
  },
  {
   "cell_type": "markdown",
   "id": "84c94c6d-081e-43b3-a81e-8fb877d8a4dc",
   "metadata": {
    "tags": []
   },
   "source": [
    "## Methods and Results"
   ]
  },
  {
   "cell_type": "markdown",
   "id": "8e7e697c-6c57-485c-a048-b9203998f2e0",
   "metadata": {},
   "source": [
    "We chose these variables age, sex,  total cholestoral levels, maximum heart rate and number of major vessels affected by flourosopy as we believe these will be the most important determining factors of the diagnosis of heart disease. This was decided upon using recommendations from the World Health Organization regarding cardiovascular diseases (WHO 2021). Another influence for choosing these variables dealt with replicability of this kind of data analysis. By using variables that use common measurable medical differences and characteristics, we are able to see if the instance of heart disease can be predicted accurately from easily available data. Also, these variables seem to have some correlations with the diagnosis of heart disease as our preliminary EDA shows. This suggests that these variables could be good predictor variables in our KNN-classification model, which gives us some confidence to use these variables in training our model.\n",
    "\n",
    "We used k-nearest neighbours classification algorithm to predict the instance of heart disease with our chosen factors. The columns (variables) that we will be using are age (age), sex (sex), cholesterol level (chol), maximum heart rate achieved (thalach), number of major vessels colored by flourosopy (ca), and the diagnosis of heart disease (num). For clarity, sex is a binary variable that is coded as male = 1, woman = 0. Cholesterol is measured in mg/dl. Number of major vessels is measured from 0-3. The diagnosis is initially measured from 0-4: 0 indicating no presence and 1-4 indicated presence of heart disease. To simplify our data analysis and make this project manageable, we decided to predict only the presence of heart disease instead of predicting four levels 0-4. We mutated the `num` variable to a binary categorical variable where 0 indicates no diagnosis and 1 indicates diagnosis. \n",
    " \n",
    "We found the best number of neighbours `k` using cross validation with seven folds to achieve a better accuracy. Accuracy was determined by how correctly our model can predict the presence of heart disease with unseen data (testing set).\n",
    "\n",
    "One way to visualize our results is to create a scatterplot between two variables that were found to have a significant influence in prediction with the color function to indicate the instance of heart disease or not. This will help explain why our model works (or doesn’t work very well) because we can see the relationships between the predictors and the target variable. Unfortunately, we were unable to execute this visualization because we did not have the means or knowledge to do so – our knowledge is limited to visualizations with 1 major variable involved. \n",
    " \n",
    "Another way to assess how well the model predicts the instance of heart disease is a confusion matrix. This confusion matrix will tell us the frequency of type I and type II error. This will be able to show us the accuracy of our model with our four chosen predictors. \n",
    " \n",
    "Our confusion matrix shows that 41 out of 49 observations were correctly predicted to not have heart disease, while 34 out of 42 observations were correctly predicted to have heart disease. This leaves 8 false positives (predicts to have heart disease but does not have heart disease, type I error) and 8 false negatives (predicts to not have heart disease but does have heart disease, type II error). From a macroscopic view, our model has a higher probability to predict a false negative (8/42) than a false positive (8/49). \n",
    " \n",
    "Since this data set contains 161 observations without heart disease and 138 observations with heart disease, the majority classifier will classify every observation as “no heart disease”. However, since we only have about 54% of healthy observations, our model performs much better than the majority classifier. "
   ]
  },
  {
   "cell_type": "markdown",
   "id": "ad7b94a0-8bb0-4493-a86f-82115450afde",
   "metadata": {
    "tags": []
   },
   "source": [
    "### Loading and cleaning data, and preliminary exploratory data analysis"
   ]
  },
  {
   "cell_type": "code",
   "execution_count": 1,
   "id": "1a3260e5-7e71-46c1-a9c0-ce39ec95ca04",
   "metadata": {},
   "outputs": [
    {
     "name": "stderr",
     "output_type": "stream",
     "text": [
      "── \u001b[1mAttaching packages\u001b[22m ─────────────────────────────────────── tidyverse 1.3.1 ──\n",
      "\n",
      "\u001b[32m✔\u001b[39m \u001b[34mggplot2\u001b[39m 3.3.6     \u001b[32m✔\u001b[39m \u001b[34mpurrr  \u001b[39m 0.3.4\n",
      "\u001b[32m✔\u001b[39m \u001b[34mtibble \u001b[39m 3.1.7     \u001b[32m✔\u001b[39m \u001b[34mdplyr  \u001b[39m 1.0.9\n",
      "\u001b[32m✔\u001b[39m \u001b[34mtidyr  \u001b[39m 1.2.0     \u001b[32m✔\u001b[39m \u001b[34mstringr\u001b[39m 1.4.0\n",
      "\u001b[32m✔\u001b[39m \u001b[34mreadr  \u001b[39m 2.1.2     \u001b[32m✔\u001b[39m \u001b[34mforcats\u001b[39m 0.5.1\n",
      "\n",
      "── \u001b[1mConflicts\u001b[22m ────────────────────────────────────────── tidyverse_conflicts() ──\n",
      "\u001b[31m✖\u001b[39m \u001b[34mdplyr\u001b[39m::\u001b[32mfilter()\u001b[39m masks \u001b[34mstats\u001b[39m::filter()\n",
      "\u001b[31m✖\u001b[39m \u001b[34mdplyr\u001b[39m::\u001b[32mlag()\u001b[39m    masks \u001b[34mstats\u001b[39m::lag()\n",
      "\n",
      "── \u001b[1mAttaching packages\u001b[22m ────────────────────────────────────── tidymodels 1.0.0 ──\n",
      "\n",
      "\u001b[32m✔\u001b[39m \u001b[34mbroom       \u001b[39m 1.0.0     \u001b[32m✔\u001b[39m \u001b[34mrsample     \u001b[39m 1.0.0\n",
      "\u001b[32m✔\u001b[39m \u001b[34mdials       \u001b[39m 1.0.0     \u001b[32m✔\u001b[39m \u001b[34mtune        \u001b[39m 1.0.0\n",
      "\u001b[32m✔\u001b[39m \u001b[34minfer       \u001b[39m 1.0.2     \u001b[32m✔\u001b[39m \u001b[34mworkflows   \u001b[39m 1.0.0\n",
      "\u001b[32m✔\u001b[39m \u001b[34mmodeldata   \u001b[39m 1.0.0     \u001b[32m✔\u001b[39m \u001b[34mworkflowsets\u001b[39m 1.0.0\n",
      "\u001b[32m✔\u001b[39m \u001b[34mparsnip     \u001b[39m 1.0.0     \u001b[32m✔\u001b[39m \u001b[34myardstick   \u001b[39m 1.0.0\n",
      "\u001b[32m✔\u001b[39m \u001b[34mrecipes     \u001b[39m 1.0.1     \n",
      "\n",
      "── \u001b[1mConflicts\u001b[22m ───────────────────────────────────────── tidymodels_conflicts() ──\n",
      "\u001b[31m✖\u001b[39m \u001b[34mscales\u001b[39m::\u001b[32mdiscard()\u001b[39m masks \u001b[34mpurrr\u001b[39m::discard()\n",
      "\u001b[31m✖\u001b[39m \u001b[34mdplyr\u001b[39m::\u001b[32mfilter()\u001b[39m   masks \u001b[34mstats\u001b[39m::filter()\n",
      "\u001b[31m✖\u001b[39m \u001b[34mrecipes\u001b[39m::\u001b[32mfixed()\u001b[39m  masks \u001b[34mstringr\u001b[39m::fixed()\n",
      "\u001b[31m✖\u001b[39m \u001b[34mdplyr\u001b[39m::\u001b[32mlag()\u001b[39m      masks \u001b[34mstats\u001b[39m::lag()\n",
      "\u001b[31m✖\u001b[39m \u001b[34myardstick\u001b[39m::\u001b[32mspec()\u001b[39m masks \u001b[34mreadr\u001b[39m::spec()\n",
      "\u001b[31m✖\u001b[39m \u001b[34mrecipes\u001b[39m::\u001b[32mstep()\u001b[39m   masks \u001b[34mstats\u001b[39m::step()\n",
      "\u001b[34m•\u001b[39m Use \u001b[32mtidymodels_prefer()\u001b[39m to resolve common conflicts.\n",
      "\n",
      "\n",
      "Attaching package: ‘gridExtra’\n",
      "\n",
      "\n",
      "The following object is masked from ‘package:dplyr’:\n",
      "\n",
      "    combine\n",
      "\n",
      "\n"
     ]
    }
   ],
   "source": [
    "library(tidyverse)\n",
    "library(tidymodels)\n",
    "library(gridExtra)"
   ]
  },
  {
   "cell_type": "code",
   "execution_count": 21,
   "id": "5c3af150-4c24-42fe-a4cc-6b270866e929",
   "metadata": {},
   "outputs": [
    {
     "name": "stderr",
     "output_type": "stream",
     "text": [
      "\u001b[1mRows: \u001b[22m\u001b[34m303\u001b[39m \u001b[1mColumns: \u001b[22m\u001b[34m14\u001b[39m\n",
      "\u001b[36m──\u001b[39m \u001b[1mColumn specification\u001b[22m \u001b[36m────────────────────────────────────────────────────────\u001b[39m\n",
      "\u001b[1mDelimiter:\u001b[22m \",\"\n",
      "\u001b[31mchr\u001b[39m  (2): X12, X13\n",
      "\u001b[32mdbl\u001b[39m (12): X1, X2, X3, X4, X5, X6, X7, X8, X9, X10, X11, X14\n",
      "\n",
      "\u001b[36mℹ\u001b[39m Use `spec()` to retrieve the full column specification for this data.\n",
      "\u001b[36mℹ\u001b[39m Specify the column types or set `show_col_types = FALSE` to quiet this message.\n"
     ]
    }
   ],
   "source": [
    "url <- \"https://archive.ics.uci.edu/ml/machine-learning-databases/heart-disease/processed.cleveland.data\"\n",
    "download.file(url, destfile = \"data/processed.cleveland.data\")\n",
    "heart_df <- read_csv(\"data/processed.cleveland.data\", col_name = FALSE)\n",
    "col <- c(\"age\", \"sex\",\"cp\", \"trestbps\", \"chol\", \"fbs\", \"restecg\", \"thalach\", \"exang\", \"oldpeak\", \"slope\", \"ca\", \"thal\",\"num\")\n",
    "colnames(heart_df) <- col"
   ]
  },
  {
   "cell_type": "markdown",
   "id": "dccf5d01-b7cc-4f07-aaff-c3b82dd5bfc6",
   "metadata": {},
   "source": [
    "We will extract the columns that we need and prepare them for analysis. Make the \"num\" variable binary by reducing the number of categories."
   ]
  },
  {
   "cell_type": "code",
   "execution_count": 4,
   "id": "404f5ebf-2679-4139-858b-6192769d07d0",
   "metadata": {},
   "outputs": [
    {
     "name": "stderr",
     "output_type": "stream",
     "text": [
      "Warning message in mask$eval_all_mutate(quo):\n",
      "“NAs introduced by coercion”\n"
     ]
    },
    {
     "data": {
      "text/html": [
       "<table class=\"dataframe\">\n",
       "<caption>A tibble: 4 × 6</caption>\n",
       "<thead>\n",
       "\t<tr><th scope=col>age</th><th scope=col>sex</th><th scope=col>chol</th><th scope=col>thalach</th><th scope=col>ca</th><th scope=col>num</th></tr>\n",
       "\t<tr><th scope=col>&lt;dbl&gt;</th><th scope=col>&lt;fct&gt;</th><th scope=col>&lt;dbl&gt;</th><th scope=col>&lt;dbl&gt;</th><th scope=col>&lt;int&gt;</th><th scope=col>&lt;fct&gt;</th></tr>\n",
       "</thead>\n",
       "<tbody>\n",
       "\t<tr><td>63</td><td>1</td><td>233</td><td>150</td><td>0</td><td>0</td></tr>\n",
       "\t<tr><td>37</td><td>1</td><td>250</td><td>187</td><td>0</td><td>0</td></tr>\n",
       "\t<tr><td>41</td><td>0</td><td>204</td><td>172</td><td>0</td><td>0</td></tr>\n",
       "\t<tr><td>56</td><td>1</td><td>236</td><td>178</td><td>0</td><td>0</td></tr>\n",
       "</tbody>\n",
       "</table>\n"
      ],
      "text/latex": [
       "A tibble: 4 × 6\n",
       "\\begin{tabular}{llllll}\n",
       " age & sex & chol & thalach & ca & num\\\\\n",
       " <dbl> & <fct> & <dbl> & <dbl> & <int> & <fct>\\\\\n",
       "\\hline\n",
       "\t 63 & 1 & 233 & 150 & 0 & 0\\\\\n",
       "\t 37 & 1 & 250 & 187 & 0 & 0\\\\\n",
       "\t 41 & 0 & 204 & 172 & 0 & 0\\\\\n",
       "\t 56 & 1 & 236 & 178 & 0 & 0\\\\\n",
       "\\end{tabular}\n"
      ],
      "text/markdown": [
       "\n",
       "A tibble: 4 × 6\n",
       "\n",
       "| age &lt;dbl&gt; | sex &lt;fct&gt; | chol &lt;dbl&gt; | thalach &lt;dbl&gt; | ca &lt;int&gt; | num &lt;fct&gt; |\n",
       "|---|---|---|---|---|---|\n",
       "| 63 | 1 | 233 | 150 | 0 | 0 |\n",
       "| 37 | 1 | 250 | 187 | 0 | 0 |\n",
       "| 41 | 0 | 204 | 172 | 0 | 0 |\n",
       "| 56 | 1 | 236 | 178 | 0 | 0 |\n",
       "\n"
      ],
      "text/plain": [
       "  age sex chol thalach ca num\n",
       "1 63  1   233  150     0  0  \n",
       "2 37  1   250  187     0  0  \n",
       "3 41  0   204  172     0  0  \n",
       "4 56  1   236  178     0  0  "
      ]
     },
     "metadata": {},
     "output_type": "display_data"
    }
   ],
   "source": [
    "filheart_df <- select(heart_df, -cp, -trestbps, -fbs, -restecg, -exang, -oldpeak, -slope, -thal)\n",
    "\n",
    "\n",
    "heart_num0 <- filheart_df |>\n",
    "filter(num == 0)\n",
    "heart_num1 <- filheart_df |>\n",
    "filter(num > 0) |>\n",
    "mutate(num = 1)\n",
    "\n",
    "heart_clean <- rbind(heart_num0, heart_num1)\n",
    "heart_clean <- heart_clean |>\n",
    "mutate(num = as_factor(num), ca = as.integer(ca), sex = as_factor(sex))\n",
    "head(heart_clean, 4)"
   ]
  },
  {
   "cell_type": "markdown",
   "id": "ffc7908d-7c25-49a0-8c1c-4798937417a4",
   "metadata": {},
   "source": [
    "Figure 1.1: Cleaned and filtered data set that is ready for data analysis."
   ]
  },
  {
   "cell_type": "code",
   "execution_count": 5,
   "id": "c9cb9c8e-8251-42a1-b421-e2b4c186bcf3",
   "metadata": {},
   "outputs": [],
   "source": [
    "# Here we use prop = 0.7\n",
    "\n",
    "set.seed(100)\n",
    "\n",
    "heart_clean <- drop_na(heart_clean)\n",
    "\n",
    "split <- initial_split(heart_clean, prop = 0.7, strata = num)\n",
    "heart_train <- training(split)\n",
    "heart_test <- testing(split)\n",
    "# head(heart_train)\n",
    "# head(heart_test)"
   ]
  },
  {
   "cell_type": "markdown",
   "id": "d7b9c295-29e0-405a-a305-36863b8e1e4f",
   "metadata": {
    "tags": []
   },
   "source": [
    "#### Summary of predictor variables\n",
    "We report counts for categorical variables and means for quantitative variables as well as the number of NA values for each variable."
   ]
  },
  {
   "cell_type": "code",
   "execution_count": 6,
   "id": "b069631a-55c5-4592-8fe0-131f14a2ce64",
   "metadata": {},
   "outputs": [],
   "source": [
    "set.seed(100)\n",
    "num_counts <- heart_train |>\n",
    "    group_by(num) |>\n",
    "    summarize(Count = n()) |>\n",
    "    rename(Diagnosis = num)\n",
    "ca_counts <- heart_train |>\n",
    "    group_by(ca) |>\n",
    "    summarize(Count = n()) |>\n",
    "    rename(`Number of major vessels` = ca)\n",
    "means_by_num  <- heart_train %>%\n",
    "    group_by(num) %>%\n",
    "    summarize(`Mean age` = mean(age), `Mean cholesterol level` = mean(chol), `Mean maximum heart rate` = mean(thalach)) |>\n",
    "    rename(Diagnosis = num)"
   ]
  },
  {
   "cell_type": "code",
   "execution_count": 7,
   "id": "31c7be2c-dc14-4204-855e-0e0237f35829",
   "metadata": {},
   "outputs": [
    {
     "data": {
      "text/html": [
       "<table class=\"dataframe\">\n",
       "<caption>A tibble: 2 × 2</caption>\n",
       "<thead>\n",
       "\t<tr><th scope=col>Diagnosis</th><th scope=col>Count</th></tr>\n",
       "\t<tr><th scope=col>&lt;fct&gt;</th><th scope=col>&lt;int&gt;</th></tr>\n",
       "</thead>\n",
       "<tbody>\n",
       "\t<tr><td>0</td><td>112</td></tr>\n",
       "\t<tr><td>1</td><td> 96</td></tr>\n",
       "</tbody>\n",
       "</table>\n"
      ],
      "text/latex": [
       "A tibble: 2 × 2\n",
       "\\begin{tabular}{ll}\n",
       " Diagnosis & Count\\\\\n",
       " <fct> & <int>\\\\\n",
       "\\hline\n",
       "\t 0 & 112\\\\\n",
       "\t 1 &  96\\\\\n",
       "\\end{tabular}\n"
      ],
      "text/markdown": [
       "\n",
       "A tibble: 2 × 2\n",
       "\n",
       "| Diagnosis &lt;fct&gt; | Count &lt;int&gt; |\n",
       "|---|---|\n",
       "| 0 | 112 |\n",
       "| 1 |  96 |\n",
       "\n"
      ],
      "text/plain": [
       "  Diagnosis Count\n",
       "1 0         112  \n",
       "2 1          96  "
      ]
     },
     "metadata": {},
     "output_type": "display_data"
    }
   ],
   "source": [
    "num_counts"
   ]
  },
  {
   "cell_type": "markdown",
   "id": "8bcddea6-ff46-4f07-8037-c89e63fabb6b",
   "metadata": {},
   "source": [
    "Figure 1.2: Diagnosis counts of the data set where 0 indicates no diagnosis of heart disease and 1 otherwise."
   ]
  },
  {
   "cell_type": "code",
   "execution_count": 8,
   "id": "ea137e6f-4ee9-48c2-9162-37ff036c6f3f",
   "metadata": {},
   "outputs": [
    {
     "data": {
      "text/html": [
       "<table class=\"dataframe\">\n",
       "<caption>A tibble: 4 × 2</caption>\n",
       "<thead>\n",
       "\t<tr><th scope=col>Number of major vessels</th><th scope=col>Count</th></tr>\n",
       "\t<tr><th scope=col>&lt;int&gt;</th><th scope=col>&lt;int&gt;</th></tr>\n",
       "</thead>\n",
       "<tbody>\n",
       "\t<tr><td>0</td><td>129</td></tr>\n",
       "\t<tr><td>1</td><td> 42</td></tr>\n",
       "\t<tr><td>2</td><td> 23</td></tr>\n",
       "\t<tr><td>3</td><td> 14</td></tr>\n",
       "</tbody>\n",
       "</table>\n"
      ],
      "text/latex": [
       "A tibble: 4 × 2\n",
       "\\begin{tabular}{ll}\n",
       " Number of major vessels & Count\\\\\n",
       " <int> & <int>\\\\\n",
       "\\hline\n",
       "\t 0 & 129\\\\\n",
       "\t 1 &  42\\\\\n",
       "\t 2 &  23\\\\\n",
       "\t 3 &  14\\\\\n",
       "\\end{tabular}\n"
      ],
      "text/markdown": [
       "\n",
       "A tibble: 4 × 2\n",
       "\n",
       "| Number of major vessels &lt;int&gt; | Count &lt;int&gt; |\n",
       "|---|---|\n",
       "| 0 | 129 |\n",
       "| 1 |  42 |\n",
       "| 2 |  23 |\n",
       "| 3 |  14 |\n",
       "\n"
      ],
      "text/plain": [
       "  Number of major vessels Count\n",
       "1 0                       129  \n",
       "2 1                        42  \n",
       "3 2                        23  \n",
       "4 3                        14  "
      ]
     },
     "metadata": {},
     "output_type": "display_data"
    }
   ],
   "source": [
    "ca_counts"
   ]
  },
  {
   "cell_type": "markdown",
   "id": "58c88fd0-267f-481c-845c-7cc463fd05f3",
   "metadata": {},
   "source": [
    "Figure 1.3: Flourosopy counts of the data set.\n"
   ]
  },
  {
   "cell_type": "code",
   "execution_count": 9,
   "id": "3595085f-8f77-4d75-b330-29283dd26274",
   "metadata": {},
   "outputs": [
    {
     "data": {
      "text/html": [
       "<table class=\"dataframe\">\n",
       "<caption>A tibble: 2 × 4</caption>\n",
       "<thead>\n",
       "\t<tr><th scope=col>Diagnosis</th><th scope=col>Mean age</th><th scope=col>Mean cholesterol level</th><th scope=col>Mean maximum heart rate</th></tr>\n",
       "\t<tr><th scope=col>&lt;fct&gt;</th><th scope=col>&lt;dbl&gt;</th><th scope=col>&lt;dbl&gt;</th><th scope=col>&lt;dbl&gt;</th></tr>\n",
       "</thead>\n",
       "<tbody>\n",
       "\t<tr><td>0</td><td>51.57143</td><td>238.8304</td><td>158.2143</td></tr>\n",
       "\t<tr><td>1</td><td>56.47917</td><td>254.1562</td><td>140.3854</td></tr>\n",
       "</tbody>\n",
       "</table>\n"
      ],
      "text/latex": [
       "A tibble: 2 × 4\n",
       "\\begin{tabular}{llll}\n",
       " Diagnosis & Mean age & Mean cholesterol level & Mean maximum heart rate\\\\\n",
       " <fct> & <dbl> & <dbl> & <dbl>\\\\\n",
       "\\hline\n",
       "\t 0 & 51.57143 & 238.8304 & 158.2143\\\\\n",
       "\t 1 & 56.47917 & 254.1562 & 140.3854\\\\\n",
       "\\end{tabular}\n"
      ],
      "text/markdown": [
       "\n",
       "A tibble: 2 × 4\n",
       "\n",
       "| Diagnosis &lt;fct&gt; | Mean age &lt;dbl&gt; | Mean cholesterol level &lt;dbl&gt; | Mean maximum heart rate &lt;dbl&gt; |\n",
       "|---|---|---|---|\n",
       "| 0 | 51.57143 | 238.8304 | 158.2143 |\n",
       "| 1 | 56.47917 | 254.1562 | 140.3854 |\n",
       "\n"
      ],
      "text/plain": [
       "  Diagnosis Mean age Mean cholesterol level Mean maximum heart rate\n",
       "1 0         51.57143 238.8304               158.2143               \n",
       "2 1         56.47917 254.1562               140.3854               "
      ]
     },
     "metadata": {},
     "output_type": "display_data"
    }
   ],
   "source": [
    "means_by_num"
   ]
  },
  {
   "cell_type": "markdown",
   "id": "72bfdad0-0af3-4773-a039-3d7ce924d964",
   "metadata": {},
   "source": [
    "Figure 1.4: Means of age,  cholesterol level and maximum heart rate given diagnosis of heart disease. "
   ]
  },
  {
   "cell_type": "markdown",
   "id": "afd7e3f6-bb2a-49bd-aaea-a05a62006bea",
   "metadata": {
    "tags": []
   },
   "source": [
    "#### Visualizing preliminary exploratory data analysis\n",
    "We visualize the distribution of each column. Some rough trends can be observed just by colouring based on the presence of heart disease."
   ]
  },
  {
   "cell_type": "code",
   "execution_count": 10,
   "id": "57b3f33f-bbe4-40c8-bf69-62c2194a2442",
   "metadata": {},
   "outputs": [
    {
     "name": "stderr",
     "output_type": "stream",
     "text": [
      "`stat_bin()` using `bins = 30`. Pick better value with `binwidth`.\n",
      "\n",
      "`stat_bin()` using `bins = 30`. Pick better value with `binwidth`.\n",
      "\n",
      "`stat_bin()` using `bins = 30`. Pick better value with `binwidth`.\n",
      "\n"
     ]
    },
    {
     "data": {
      "image/png": "[encoded data removed]",
      "text/plain": [
       "plot without title"
      ]
     },
     "metadata": {
      "image/png": {
       "height": 960,
       "width": 840
      }
     },
     "output_type": "display_data"
    }
   ],
   "source": [
    "set.seed(100)\n",
    "num_plot <- ggplot(heart_train, aes(x = num)) +\n",
    "    geom_bar() +\n",
    "    labs(x = \"Presence of heart disease\", title = \"Distribution of presence of heart disease\")+\n",
    "    scale_x_discrete(labels = c('No','Yes'))\n",
    "\n",
    "sex_plot <- ggplot(heart_train, aes(x= sex, fill = num)) +\n",
    "    geom_bar(position = \"stack\") + \n",
    "    labs(x = \"Sex\", title = \"Distribution of sex\", fill = \"Presence of heart disease\") +\n",
    "    scale_fill_hue(labels = c(\"No\", \"Yes\"))+\n",
    "    scale_x_discrete(labels = c('Female','Male'))\n",
    "\n",
    "\n",
    "age_plot <- ggplot(heart_train, aes(x= age, fill = num)) +\n",
    "    geom_histogram(position = \"stack\") +\n",
    "    labs(x = \"Age\", title = \"Distribution of age\", fill = \"Presence of heart disease\") +\n",
    "    scale_fill_hue(labels = c(\"No\", \"Yes\"))\n",
    "\n",
    "\n",
    "chol_plot <- ggplot(heart_train, aes(x= chol, fill = num)) +\n",
    "    geom_histogram(position = \"stack\") +\n",
    "    labs(x = \"Serum cholestoral (mg/dl)\", title = \"Distribution of serum cholestoral (mg/dl)\", fill = \"Presence of heart disease\") +\n",
    "    scale_fill_hue(labels = c(\"No\", \"Yes\"))\n",
    "\n",
    "\n",
    "thalach_plot <- ggplot(heart_train, aes(x= thalach, fill = num)) +\n",
    "    geom_histogram(position = \"stack\") +\n",
    "    labs(x = \"Maximum heart rate\", title = \"Distribution of maximum heart rate achieved\", fill = \"Presence of heart disease\") +\n",
    "    scale_fill_hue(labels = c(\"No\", \"Yes\"))\n",
    "\n",
    "\n",
    "ca_plot <- ggplot(heart_train, aes(x= ca, fill = num)) +\n",
    "    geom_bar(position = \"stack\")+\n",
    "    labs(x = \"Number of major vessels colored by flourosopy\", title = \"Distribution of number of major vessels colored by flourosopy\", fill = \"Presence of heart disease\") +\n",
    "    scale_fill_hue(labels = c(\"No\", \"Yes\"))\n",
    "\n",
    "options(repr.plot.width = 14, repr.plot.height = 16)\n",
    "grid.arrange(num_plot, sex_plot, age_plot,thalach_plot, chol_plot, ca_plot, ncol = 2)"
   ]
  },
  {
   "cell_type": "markdown",
   "id": "582466e6-d24b-443e-8bc0-ea44ea223b95",
   "metadata": {},
   "source": [
    "Figure 1.5: Distributions of each predictor variable given diagnosis of heart disease."
   ]
  },
  {
   "cell_type": "code",
   "execution_count": 11,
   "id": "13c9300b-63e8-43cc-b666-954aa1629fa7",
   "metadata": {},
   "outputs": [
    {
     "data": {
      "image/png": "[encoded data removed]",
      "text/plain": [
       "plot without title"
      ]
     },
     "metadata": {
      "image/png": {
       "height": 300,
       "width": 780
      }
     },
     "output_type": "display_data"
    }
   ],
   "source": [
    "set.seed(100)\n",
    "chol_box <- ggplot(heart_train, aes(x= num, y=chol)) +\n",
    "    geom_boxplot() +\n",
    "    labs(title = 'Serum cholesterol (mg/dl) by presence of heart disease', y = \"Serum cholestoral (mg/dl)\", x = \"Presence of heart disease\") +\n",
    "    scale_x_discrete(labels = c('No','Yes'))\n",
    "\n",
    "thalach_box <- ggplot(heart_train, aes(x= num, y=thalach)) +\n",
    "    geom_boxplot() +\n",
    "    labs(title = 'Maximum heart rate by presence of heart disease', y = \"Maximum heart rate\", x = \"Presence of heart disease\") +\n",
    "    scale_x_discrete(labels = c('No','Yes'))\n",
    "options(repr.plot.width = 13, repr.plot.height = 5)\n",
    "grid.arrange(chol_box, thalach_box, ncol = 2)"
   ]
  },
  {
   "cell_type": "markdown",
   "id": "6e405bc3-2fe2-46ca-8acd-6ac964273d77",
   "metadata": {},
   "source": [
    "Figure 1.6: Boxplots of cholesterol and maximum heart rate conditional on presence of heart disease."
   ]
  },
  {
   "cell_type": "markdown",
   "id": "be1851de-bfbc-4ad0-91a9-2f65278ed5f1",
   "metadata": {},
   "source": [
    "If we take a closer look at these two variables with boxplots, we can visualize the difference in strength of association between a predictor and the target variable. This will help us determine which variable is more important than others."
   ]
  },
  {
   "cell_type": "markdown",
   "id": "1cd79934-ae21-4cdb-a857-4c57140c1273",
   "metadata": {},
   "source": [
    "### Training our KNN-classification model"
   ]
  },
  {
   "cell_type": "markdown",
   "id": "5a285a61-ca43-47fb-851e-432670326ed7",
   "metadata": {},
   "source": [
    "We will determine the best value of neighbors by cross validation."
   ]
  },
  {
   "cell_type": "code",
   "execution_count": 14,
   "id": "02070000-0c0f-4271-9514-8408ba667026",
   "metadata": {},
   "outputs": [],
   "source": [
    "set.seed(100)\n",
    "knn_spec <- nearest_neighbor(weight_func = \"rectangular\", neighbors = tune()) |>\n",
    "    set_engine(\"kknn\") |>\n",
    "    set_mode(\"classification\")\n",
    "\n",
    "heart_recipe <- recipe(num ~ age + sex + chol + thalach + ca, data = heart_train) |>\n",
    "    step_scale(age, chol, thalach, ca) |>\n",
    "    step_center(age, chol, thalach, ca)\n",
    "\n",
    "set.seed(100)\n",
    "heart_vfold <- vfold_cv(heart_train, v = 6, strata = num) "
   ]
  },
  {
   "cell_type": "code",
   "execution_count": 17,
   "id": "22951752-a459-4b6d-ab63-d426bf5b266e",
   "metadata": {},
   "outputs": [],
   "source": [
    "set.seed(100)\n",
    "heart_workflow <- workflow() |>\n",
    "    add_recipe(heart_recipe) |>\n",
    "    add_model(knn_spec)"
   ]
  },
  {
   "cell_type": "code",
   "execution_count": 16,
   "id": "58682c75-7dce-4a2a-a177-872e6b1d1ff3",
   "metadata": {},
   "outputs": [
    {
     "name": "stderr",
     "output_type": "stream",
     "text": [
      "Warning message:\n",
      "“The `...` are not used in this function but one or more objects were passed: ''”\n"
     ]
    }
   ],
   "source": [
    "set.seed(100)\n",
    "gridvals <- tibble(neighbors = seq(1, 200))\n",
    "heart_results <- heart_workflow |>\n",
    "    tune_grid(resamples = heart_vfold, gridvals) |>\n",
    "    collect_metrics()"
   ]
  },
  {
   "cell_type": "code",
   "execution_count": 18,
   "id": "ec266f38-bf76-4a7c-b085-78b0cabf22bc",
   "metadata": {},
   "outputs": [
    {
     "data": {
      "text/html": [
       "<table class=\"dataframe\">\n",
       "<caption>A tibble: 1 × 7</caption>\n",
       "<thead>\n",
       "\t<tr><th scope=col>neighbors</th><th scope=col>.metric</th><th scope=col>.estimator</th><th scope=col>mean</th><th scope=col>n</th><th scope=col>std_err</th><th scope=col>.config</th></tr>\n",
       "\t<tr><th scope=col>&lt;int&gt;</th><th scope=col>&lt;chr&gt;</th><th scope=col>&lt;chr&gt;</th><th scope=col>&lt;dbl&gt;</th><th scope=col>&lt;int&gt;</th><th scope=col>&lt;dbl&gt;</th><th scope=col>&lt;chr&gt;</th></tr>\n",
       "</thead>\n",
       "<tbody>\n",
       "\t<tr><td>7</td><td>accuracy</td><td>binary</td><td>0.7642857</td><td>6</td><td>0.01751955</td><td>Preprocessor1_Model05</td></tr>\n",
       "</tbody>\n",
       "</table>\n"
      ],
      "text/latex": [
       "A tibble: 1 × 7\n",
       "\\begin{tabular}{lllllll}\n",
       " neighbors & .metric & .estimator & mean & n & std\\_err & .config\\\\\n",
       " <int> & <chr> & <chr> & <dbl> & <int> & <dbl> & <chr>\\\\\n",
       "\\hline\n",
       "\t 7 & accuracy & binary & 0.7642857 & 6 & 0.01751955 & Preprocessor1\\_Model05\\\\\n",
       "\\end{tabular}\n"
      ],
      "text/markdown": [
       "\n",
       "A tibble: 1 × 7\n",
       "\n",
       "| neighbors &lt;int&gt; | .metric &lt;chr&gt; | .estimator &lt;chr&gt; | mean &lt;dbl&gt; | n &lt;int&gt; | std_err &lt;dbl&gt; | .config &lt;chr&gt; |\n",
       "|---|---|---|---|---|---|---|\n",
       "| 7 | accuracy | binary | 0.7642857 | 6 | 0.01751955 | Preprocessor1_Model05 |\n",
       "\n"
      ],
      "text/plain": [
       "  neighbors .metric  .estimator mean      n std_err    .config              \n",
       "1 7         accuracy binary     0.7642857 6 0.01751955 Preprocessor1_Model05"
      ]
     },
     "metadata": {},
     "output_type": "display_data"
    }
   ],
   "source": [
    "set.seed(100)\n",
    "heart_k_min <- heart_results |>\n",
    "filter(.metric == \"accuracy\") |>\n",
    "arrange(desc(mean)) |>\n",
    "slice(1) \n",
    "#select(neighbors)\n",
    "heart_k_min"
   ]
  },
  {
   "cell_type": "markdown",
   "id": "bbf3aa1c-aae1-49bd-b01a-10a2cb91495c",
   "metadata": {},
   "source": [
    "Figure 2.1: The number of neighbors that has the highest accuracy in cross validation."
   ]
  },
  {
   "cell_type": "markdown",
   "id": "dd9d23bf-6ccb-4eb1-99c1-2932ed69bdf0",
   "metadata": {},
   "source": [
    "We will run k-nearest neighbors classification based on the best k we have computed."
   ]
  },
  {
   "cell_type": "code",
   "execution_count": 19,
   "id": "51201dc3-fe5c-42b2-8785-714112619635",
   "metadata": {},
   "outputs": [
    {
     "data": {
      "text/html": [
       "<table class=\"dataframe\">\n",
       "<caption>A tibble: 1 × 3</caption>\n",
       "<thead>\n",
       "\t<tr><th scope=col>.metric</th><th scope=col>.estimator</th><th scope=col>.estimate</th></tr>\n",
       "\t<tr><th scope=col>&lt;chr&gt;</th><th scope=col>&lt;chr&gt;</th><th scope=col>&lt;dbl&gt;</th></tr>\n",
       "</thead>\n",
       "<tbody>\n",
       "\t<tr><td>accuracy</td><td>binary</td><td>0.8241758</td></tr>\n",
       "</tbody>\n",
       "</table>\n"
      ],
      "text/latex": [
       "A tibble: 1 × 3\n",
       "\\begin{tabular}{lll}\n",
       " .metric & .estimator & .estimate\\\\\n",
       " <chr> & <chr> & <dbl>\\\\\n",
       "\\hline\n",
       "\t accuracy & binary & 0.8241758\\\\\n",
       "\\end{tabular}\n"
      ],
      "text/markdown": [
       "\n",
       "A tibble: 1 × 3\n",
       "\n",
       "| .metric &lt;chr&gt; | .estimator &lt;chr&gt; | .estimate &lt;dbl&gt; |\n",
       "|---|---|---|\n",
       "| accuracy | binary | 0.8241758 |\n",
       "\n"
      ],
      "text/plain": [
       "  .metric  .estimator .estimate\n",
       "1 accuracy binary     0.8241758"
      ]
     },
     "metadata": {},
     "output_type": "display_data"
    }
   ],
   "source": [
    "# use k = 7 here.\n",
    "set.seed(100)\n",
    "knn_spec_bestK <- nearest_neighbor(weight_func = \"rectangular\", neighbors = 7) |>\n",
    "    set_engine(\"kknn\") |>\n",
    "    set_mode(\"classification\")\n",
    "\n",
    "heart_best_fit <- workflow() |>\n",
    "    add_recipe(heart_recipe) |>\n",
    "    add_model(knn_spec_bestK) |>\n",
    "    fit(data = heart_train)\n",
    "\n",
    "heart_summary <- heart_best_fit |>\n",
    "predict(heart_test) |>\n",
    "bind_cols(heart_test) |>\n",
    "metrics(truth = num, estimate = .pred_class) |>\n",
    "filter(.metric == \"accuracy\")\n",
    "\n",
    "heart_summary"
   ]
  },
  {
   "cell_type": "markdown",
   "id": "986b272a-a58f-451b-9fc3-f92a84eac61a",
   "metadata": {},
   "source": [
    "Figure 2.2: The accuracy of our KNN-classification model on testing set."
   ]
  },
  {
   "cell_type": "code",
   "execution_count": 20,
   "id": "b0d1104a-8742-48cc-bfc0-4372ad3a3e00",
   "metadata": {},
   "outputs": [
    {
     "data": {
      "text/plain": [
       "          Truth\n",
       "Prediction  0  1\n",
       "         0 41  8\n",
       "         1  8 34"
      ]
     },
     "metadata": {},
     "output_type": "display_data"
    }
   ],
   "source": [
    "set.seed(100)\n",
    "## adding predictions\n",
    "predictions <- predict(heart_best_fit, heart_test) %>%\n",
    "    bind_cols(heart_test)\n",
    "## confusion matrix\n",
    "heart_confmat <- predictions %>%\n",
    "    conf_mat(truth = num, estimate = .pred_class)\n",
    "heart_confmat"
   ]
  },
  {
   "cell_type": "markdown",
   "id": "640670b2-b5f9-4b98-989d-959413493ced",
   "metadata": {},
   "source": [
    "Figure 2.3: The confusion matrix of our KNN-classification model. "
   ]
  },
  {
   "cell_type": "markdown",
   "id": "2739cfe2-1b7b-414b-86f4-99ab2f0923c4",
   "metadata": {
    "tags": []
   },
   "source": [
    "## Discussion"
   ]
  },
  {
   "cell_type": "markdown",
   "id": "0c7b16d8-2411-4398-9ce9-ccbdcbb70e08",
   "metadata": {},
   "source": [
    "We expected to find that these variables (age, cholesterol level, maximum heart rate achieved, number of major vessels colored by flourosopy, and sex) affect the likelihood of heart disease in patients. Therefore, we expected to see predictive value. \n",
    "\n",
    "From our results, we found that the interaction of these four predictors were indeed accurate 82% of the time in predicting the instance of heart disease. Therefore, our expectation about their predictive value was correct. While this average accuracy may seem unsatisfactory due to its serious consequences (especially of diagnosing negative when the true value is positive), it is very similar to other predictive measures currently being used in the medical field. Robert et al. have used a logistic regression classification algorithm for heart disease detection and obtained an accuracy of 77.1% (Muhammad et al.). Wankhade et al. have used a multi-layer perceptron (MLP) classifier for heart disease diagnosis and attained accuracy of 80% (Muhammad et al.). Allahverdi et al. have developed a classification system using artificial neural and real neural networks and attained an accuracy of 82.4% (Muhammad et al.). Therefore, this accuracy is not incompatible with current medical research and trends.\n",
    "\n",
    "Findings such as this could have an impact on how doctors communicate health risks to patients. It may also affect how patients change their daily life as certain risks may have increased predictive value of a variable, such as cholesterol level. This could be an important area of study, some of which we have found online, about the value of data analysis in heart disease diagnosis.\n",
    "\n",
    "An important limitation in our model regards the inherent interaction effect of our variables. There is no way to isolate the impact of each variable as we could in a regression context. With regression, we would be able to look at regression coefficients and examine the impact that each variable has on the instance. However, with the outcome of our variable being categorical, we were limited in our model specifications. While this may be a limitation, the implications of our findings are still great. One variable, such as age or sex, does not have much predictive value alone. Therefore, looking at the interaction of these variables inherently will be more explanatory to measure the likelihood of heart disease in the presence of different factors. \n",
    "\n",
    "This could lead to future questions about the compounding effect of these variables and all other variables that serve predictive purposes. Knowing how these chosen variables affect the instance of heart disease, questions about other predictive variables such as blood pressure, smoking, or obesity can also be tested individually and together. Interactions between these variables could be a very important part of this data analysis. "
   ]
  },
  {
   "cell_type": "markdown",
   "id": "f11402c1-9855-423c-add6-889af5f995ab",
   "metadata": {},
   "source": [
    "## References"
   ]
  },
  {
   "cell_type": "markdown",
   "id": "cc57472f-5e77-44ce-bc6c-c7b7ea30e634",
   "metadata": {},
   "source": [
    "Muhammad, Y., Tahir, M., Hayat, M., & Chong, K. T. (2020). Early and accurate detection and diagnosis of heart disease using intelligent computational model. Scientific reports, 10(1), 1-17.\n",
    "\n",
    "Cardiovascular diseases. World Health Organization. Retrieved December 4, 2022, from https://www.who.int/health-topics/cardiovascular-diseases#tab=tab_1 \n",
    "\n",
    "R, Detrano, M.D., Ph.D. UCI machine learning repository. https://archive.ics.uci.edu/ml/datasets/Heart+Disease "
   ]
  }
 ],
 "metadata": {
  "kernelspec": {
   "display_name": "R",
   "language": "R",
   "name": "ir"
  },
  "language_info": {
   "codemirror_mode": "r",
   "file_extension": ".r",
   "mimetype": "text/x-r-source",
   "name": "R",
   "pygments_lexer": "r",
   "version": "4.1.3"
  }
 },
 "nbformat": 4,
 "nbformat_minor": 5
}
