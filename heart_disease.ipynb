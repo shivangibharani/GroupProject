{
 "cells": [
  {
   "cell_type": "markdown",
   "id": "e677b0aa-2f61-47fb-b550-d54330c3ef8e",
   "metadata": {},
   "source": [
    "## 1. Title: The Heart of the Matter: Analyzing Predictors of Heart Disease\n",
    "\n"
   ]
  },
  {
   "cell_type": "markdown",
   "id": "606c07b4-d5eb-4ab0-a1d1-b30365dc7361",
   "metadata": {},
   "source": [
    "## 2. Introduction"
   ]
  },
  {
   "cell_type": "markdown",
   "id": "c3e591fc-3bef-4c09-8979-40278b8681ef",
   "metadata": {},
   "source": [
    "Heart disease is the number 1 cause of deaths worldwide, with no 'cure' of any kind. We can, however, try to identify possible factors that lead to higher risk of heart disease. We obtained a set of data collected by Robert Detrano, (M.D., Ph.D.) from the Long Beach and Cleveland Clinic Foundation. This data set contains a total of 76 attributes, of which 14 are used as primary data. We will be using this data to craft a model that attempts to predict whether or not age, sex, total cholestoral levels, maximum heart rate and number of major vessels affected by flourosopy affect the diagnosis of heart disease. "
   ]
  },
  {
   "cell_type": "markdown",
   "id": "ad7b94a0-8bb0-4493-a86f-82115450afde",
   "metadata": {
    "tags": []
   },
   "source": [
    "## 3. Preliminary exploratory data analysis"
   ]
  },
  {
   "cell_type": "code",
   "execution_count": 1,
   "id": "1a3260e5-7e71-46c1-a9c0-ce39ec95ca04",
   "metadata": {},
   "outputs": [
    {
     "name": "stderr",
     "output_type": "stream",
     "text": [
      "── \u001b[1mAttaching packages\u001b[22m ─────────────────────────────────────── tidyverse 1.3.1 ──\n",
      "\n",
      "\u001b[32m✔\u001b[39m \u001b[34mggplot2\u001b[39m 3.3.6     \u001b[32m✔\u001b[39m \u001b[34mpurrr  \u001b[39m 0.3.4\n",
      "\u001b[32m✔\u001b[39m \u001b[34mtibble \u001b[39m 3.1.7     \u001b[32m✔\u001b[39m \u001b[34mdplyr  \u001b[39m 1.0.9\n",
      "\u001b[32m✔\u001b[39m \u001b[34mtidyr  \u001b[39m 1.2.0     \u001b[32m✔\u001b[39m \u001b[34mstringr\u001b[39m 1.4.0\n",
      "\u001b[32m✔\u001b[39m \u001b[34mreadr  \u001b[39m 2.1.2     \u001b[32m✔\u001b[39m \u001b[34mforcats\u001b[39m 0.5.1\n",
      "\n",
      "── \u001b[1mConflicts\u001b[22m ────────────────────────────────────────── tidyverse_conflicts() ──\n",
      "\u001b[31m✖\u001b[39m \u001b[34mdplyr\u001b[39m::\u001b[32mfilter()\u001b[39m masks \u001b[34mstats\u001b[39m::filter()\n",
      "\u001b[31m✖\u001b[39m \u001b[34mdplyr\u001b[39m::\u001b[32mlag()\u001b[39m    masks \u001b[34mstats\u001b[39m::lag()\n",
      "\n",
      "── \u001b[1mAttaching packages\u001b[22m ────────────────────────────────────── tidymodels 1.0.0 ──\n",
      "\n",
      "\u001b[32m✔\u001b[39m \u001b[34mbroom       \u001b[39m 1.0.0     \u001b[32m✔\u001b[39m \u001b[34mrsample     \u001b[39m 1.0.0\n",
      "\u001b[32m✔\u001b[39m \u001b[34mdials       \u001b[39m 1.0.0     \u001b[32m✔\u001b[39m \u001b[34mtune        \u001b[39m 1.0.0\n",
      "\u001b[32m✔\u001b[39m \u001b[34minfer       \u001b[39m 1.0.2     \u001b[32m✔\u001b[39m \u001b[34mworkflows   \u001b[39m 1.0.0\n",
      "\u001b[32m✔\u001b[39m \u001b[34mmodeldata   \u001b[39m 1.0.0     \u001b[32m✔\u001b[39m \u001b[34mworkflowsets\u001b[39m 1.0.0\n",
      "\u001b[32m✔\u001b[39m \u001b[34mparsnip     \u001b[39m 1.0.0     \u001b[32m✔\u001b[39m \u001b[34myardstick   \u001b[39m 1.0.0\n",
      "\u001b[32m✔\u001b[39m \u001b[34mrecipes     \u001b[39m 1.0.1     \n",
      "\n",
      "── \u001b[1mConflicts\u001b[22m ───────────────────────────────────────── tidymodels_conflicts() ──\n",
      "\u001b[31m✖\u001b[39m \u001b[34mscales\u001b[39m::\u001b[32mdiscard()\u001b[39m masks \u001b[34mpurrr\u001b[39m::discard()\n",
      "\u001b[31m✖\u001b[39m \u001b[34mdplyr\u001b[39m::\u001b[32mfilter()\u001b[39m   masks \u001b[34mstats\u001b[39m::filter()\n",
      "\u001b[31m✖\u001b[39m \u001b[34mrecipes\u001b[39m::\u001b[32mfixed()\u001b[39m  masks \u001b[34mstringr\u001b[39m::fixed()\n",
      "\u001b[31m✖\u001b[39m \u001b[34mdplyr\u001b[39m::\u001b[32mlag()\u001b[39m      masks \u001b[34mstats\u001b[39m::lag()\n",
      "\u001b[31m✖\u001b[39m \u001b[34myardstick\u001b[39m::\u001b[32mspec()\u001b[39m masks \u001b[34mreadr\u001b[39m::spec()\n",
      "\u001b[31m✖\u001b[39m \u001b[34mrecipes\u001b[39m::\u001b[32mstep()\u001b[39m   masks \u001b[34mstats\u001b[39m::step()\n",
      "\u001b[34m•\u001b[39m Learn how to get started at \u001b[32mhttps://www.tidymodels.org/start/\u001b[39m\n",
      "\n"
     ]
    }
   ],
   "source": [
    "library(tidyverse)\n",
    "library(tidymodels)"
   ]
  },
  {
   "cell_type": "code",
   "execution_count": 51,
   "id": "5c3af150-4c24-42fe-a4cc-6b270866e929",
   "metadata": {},
   "outputs": [
    {
     "name": "stderr",
     "output_type": "stream",
     "text": [
      "\u001b[1mRows: \u001b[22m\u001b[34m303\u001b[39m \u001b[1mColumns: \u001b[22m\u001b[34m14\u001b[39m\n",
      "\u001b[36m──\u001b[39m \u001b[1mColumn specification\u001b[22m \u001b[36m────────────────────────────────────────────────────────\u001b[39m\n",
      "\u001b[1mDelimiter:\u001b[22m \",\"\n",
      "\u001b[31mchr\u001b[39m  (2): X12, X13\n",
      "\u001b[32mdbl\u001b[39m (12): X1, X2, X3, X4, X5, X6, X7, X8, X9, X10, X11, X14\n",
      "\n",
      "\u001b[36mℹ\u001b[39m Use `spec()` to retrieve the full column specification for this data.\n",
      "\u001b[36mℹ\u001b[39m Specify the column types or set `show_col_types = FALSE` to quiet this message.\n"
     ]
    },
    {
     "data": {
      "text/html": [
       "<table class=\"dataframe\">\n",
       "<caption>A tibble: 6 × 14</caption>\n",
       "<thead>\n",
       "\t<tr><th scope=col>age</th><th scope=col>sex</th><th scope=col>cp</th><th scope=col>trestbps</th><th scope=col>chol</th><th scope=col>fbs</th><th scope=col>restecg</th><th scope=col>thalach</th><th scope=col>exang</th><th scope=col>oldpeak</th><th scope=col>slope</th><th scope=col>ca</th><th scope=col>thal</th><th scope=col>num</th></tr>\n",
       "\t<tr><th scope=col>&lt;dbl&gt;</th><th scope=col>&lt;dbl&gt;</th><th scope=col>&lt;dbl&gt;</th><th scope=col>&lt;dbl&gt;</th><th scope=col>&lt;dbl&gt;</th><th scope=col>&lt;dbl&gt;</th><th scope=col>&lt;dbl&gt;</th><th scope=col>&lt;dbl&gt;</th><th scope=col>&lt;dbl&gt;</th><th scope=col>&lt;dbl&gt;</th><th scope=col>&lt;dbl&gt;</th><th scope=col>&lt;chr&gt;</th><th scope=col>&lt;chr&gt;</th><th scope=col>&lt;dbl&gt;</th></tr>\n",
       "</thead>\n",
       "<tbody>\n",
       "\t<tr><td>63</td><td>1</td><td>1</td><td>145</td><td>233</td><td>1</td><td>2</td><td>150</td><td>0</td><td>2.3</td><td>3</td><td>0.0</td><td>6.0</td><td>0</td></tr>\n",
       "\t<tr><td>67</td><td>1</td><td>4</td><td>160</td><td>286</td><td>0</td><td>2</td><td>108</td><td>1</td><td>1.5</td><td>2</td><td>3.0</td><td>3.0</td><td>2</td></tr>\n",
       "\t<tr><td>67</td><td>1</td><td>4</td><td>120</td><td>229</td><td>0</td><td>2</td><td>129</td><td>1</td><td>2.6</td><td>2</td><td>2.0</td><td>7.0</td><td>1</td></tr>\n",
       "\t<tr><td>37</td><td>1</td><td>3</td><td>130</td><td>250</td><td>0</td><td>0</td><td>187</td><td>0</td><td>3.5</td><td>3</td><td>0.0</td><td>3.0</td><td>0</td></tr>\n",
       "\t<tr><td>41</td><td>0</td><td>2</td><td>130</td><td>204</td><td>0</td><td>2</td><td>172</td><td>0</td><td>1.4</td><td>1</td><td>0.0</td><td>3.0</td><td>0</td></tr>\n",
       "\t<tr><td>56</td><td>1</td><td>2</td><td>120</td><td>236</td><td>0</td><td>0</td><td>178</td><td>0</td><td>0.8</td><td>1</td><td>0.0</td><td>3.0</td><td>0</td></tr>\n",
       "</tbody>\n",
       "</table>\n"
      ],
      "text/latex": [
       "A tibble: 6 × 14\n",
       "\\begin{tabular}{llllllllllllll}\n",
       " age & sex & cp & trestbps & chol & fbs & restecg & thalach & exang & oldpeak & slope & ca & thal & num\\\\\n",
       " <dbl> & <dbl> & <dbl> & <dbl> & <dbl> & <dbl> & <dbl> & <dbl> & <dbl> & <dbl> & <dbl> & <chr> & <chr> & <dbl>\\\\\n",
       "\\hline\n",
       "\t 63 & 1 & 1 & 145 & 233 & 1 & 2 & 150 & 0 & 2.3 & 3 & 0.0 & 6.0 & 0\\\\\n",
       "\t 67 & 1 & 4 & 160 & 286 & 0 & 2 & 108 & 1 & 1.5 & 2 & 3.0 & 3.0 & 2\\\\\n",
       "\t 67 & 1 & 4 & 120 & 229 & 0 & 2 & 129 & 1 & 2.6 & 2 & 2.0 & 7.0 & 1\\\\\n",
       "\t 37 & 1 & 3 & 130 & 250 & 0 & 0 & 187 & 0 & 3.5 & 3 & 0.0 & 3.0 & 0\\\\\n",
       "\t 41 & 0 & 2 & 130 & 204 & 0 & 2 & 172 & 0 & 1.4 & 1 & 0.0 & 3.0 & 0\\\\\n",
       "\t 56 & 1 & 2 & 120 & 236 & 0 & 0 & 178 & 0 & 0.8 & 1 & 0.0 & 3.0 & 0\\\\\n",
       "\\end{tabular}\n"
      ],
      "text/markdown": [
       "\n",
       "A tibble: 6 × 14\n",
       "\n",
       "| age &lt;dbl&gt; | sex &lt;dbl&gt; | cp &lt;dbl&gt; | trestbps &lt;dbl&gt; | chol &lt;dbl&gt; | fbs &lt;dbl&gt; | restecg &lt;dbl&gt; | thalach &lt;dbl&gt; | exang &lt;dbl&gt; | oldpeak &lt;dbl&gt; | slope &lt;dbl&gt; | ca &lt;chr&gt; | thal &lt;chr&gt; | num &lt;dbl&gt; |\n",
       "|---|---|---|---|---|---|---|---|---|---|---|---|---|---|\n",
       "| 63 | 1 | 1 | 145 | 233 | 1 | 2 | 150 | 0 | 2.3 | 3 | 0.0 | 6.0 | 0 |\n",
       "| 67 | 1 | 4 | 160 | 286 | 0 | 2 | 108 | 1 | 1.5 | 2 | 3.0 | 3.0 | 2 |\n",
       "| 67 | 1 | 4 | 120 | 229 | 0 | 2 | 129 | 1 | 2.6 | 2 | 2.0 | 7.0 | 1 |\n",
       "| 37 | 1 | 3 | 130 | 250 | 0 | 0 | 187 | 0 | 3.5 | 3 | 0.0 | 3.0 | 0 |\n",
       "| 41 | 0 | 2 | 130 | 204 | 0 | 2 | 172 | 0 | 1.4 | 1 | 0.0 | 3.0 | 0 |\n",
       "| 56 | 1 | 2 | 120 | 236 | 0 | 0 | 178 | 0 | 0.8 | 1 | 0.0 | 3.0 | 0 |\n",
       "\n"
      ],
      "text/plain": [
       "  age sex cp trestbps chol fbs restecg thalach exang oldpeak slope ca  thal num\n",
       "1 63  1   1  145      233  1   2       150     0     2.3     3     0.0 6.0  0  \n",
       "2 67  1   4  160      286  0   2       108     1     1.5     2     3.0 3.0  2  \n",
       "3 67  1   4  120      229  0   2       129     1     2.6     2     2.0 7.0  1  \n",
       "4 37  1   3  130      250  0   0       187     0     3.5     3     0.0 3.0  0  \n",
       "5 41  0   2  130      204  0   2       172     0     1.4     1     0.0 3.0  0  \n",
       "6 56  1   2  120      236  0   0       178     0     0.8     1     0.0 3.0  0  "
      ]
     },
     "metadata": {},
     "output_type": "display_data"
    }
   ],
   "source": [
    "url <- \"https://archive.ics.uci.edu/ml/machine-learning-databases/heart-disease/processed.cleveland.data\"\n",
    "download.file(url, destfile = \"data/processed.cleveland.data\")\n",
    "heart_df <- read_csv(\"data/processed.cleveland.data\", col_name = FALSE)\n",
    "col <- c(\"age\", \"sex\",\"cp\", \"trestbps\", \"chol\", \"fbs\", \"restecg\", \"thalach\", \"exang\", \"oldpeak\", \"slope\", \"ca\", \"thal\",\"num\")\n",
    "colnames(heart_df) <- col\n",
    "head(heart_df)"
   ]
  },
  {
   "cell_type": "code",
   "execution_count": 7,
   "id": "c2cdf6c2-a172-4652-b47e-b8e9fc6ebc51",
   "metadata": {},
   "outputs": [],
   "source": [
    "## me trying to figure stuff out here -> good for graph column names later\n",
    "#age - age in years\n",
    "#sex - sex (1 = male, 0 = female)\n",
    "#cp (del?) - chest pain type (1 = typical angina, 2 = atypical angina, 3 = non-anginal pain, 4 = asymptomatic)\n",
    "#trestbps (del?) - resting blood pressure (in mm Hg on admission to the hospital)\n",
    "#chol - serum cholestoral in mg/dl\n",
    "#fbs (del?) - fasting blood sugar > 120 mg/dl (1 = true; 0 = false)\n",
    "#restecg (del?) - resting electrocardiographic results (0 = normal, 1 = having ST-T wave abnormality (T wave inversions and/or ST elevation or depression of > 0.05 mV), 2 = showing probable or definite left ventricular hypertrophy by Estes' criteria\n",
    "#thalach - maximum heart rate achieved\n",
    "#exang (del?) - exercise induced angina (1 = yes; 0 = no)\n",
    "#oldpeak (del?) - ST depression induced by exercise relative to rest\n",
    "#slope (del?) - the slope of the peak exercise ST segment (1 = upsloping, 2 = flat, 3 = downsloping)\n",
    "#ca - number of major vessels (0-3) colored by flourosopy\n",
    "#thal (del?) - 3 = normal; 6 = fixed defect; 7 = reversable defect\n",
    "#num - diagnosis of heart disease (angiographic disease status) (0 = < 50% diameter narrowing, >0 (?) = > 50% diameter narrowing)\n"
   ]
  },
  {
   "cell_type": "code",
   "execution_count": 8,
   "id": "404f5ebf-2679-4139-858b-6192769d07d0",
   "metadata": {},
   "outputs": [
    {
     "data": {
      "text/html": [
       "<table class=\"dataframe\">\n",
       "<caption>A tibble: 6 × 6</caption>\n",
       "<thead>\n",
       "\t<tr><th scope=col>age</th><th scope=col>sex</th><th scope=col>chol</th><th scope=col>thalach</th><th scope=col>ca</th><th scope=col>num</th></tr>\n",
       "\t<tr><th scope=col>&lt;dbl&gt;</th><th scope=col>&lt;dbl&gt;</th><th scope=col>&lt;dbl&gt;</th><th scope=col>&lt;dbl&gt;</th><th scope=col>&lt;chr&gt;</th><th scope=col>&lt;dbl&gt;</th></tr>\n",
       "</thead>\n",
       "<tbody>\n",
       "\t<tr><td>63</td><td>1</td><td>233</td><td>150</td><td>0.0</td><td>0</td></tr>\n",
       "\t<tr><td>67</td><td>1</td><td>286</td><td>108</td><td>3.0</td><td>2</td></tr>\n",
       "\t<tr><td>67</td><td>1</td><td>229</td><td>129</td><td>2.0</td><td>1</td></tr>\n",
       "\t<tr><td>37</td><td>1</td><td>250</td><td>187</td><td>0.0</td><td>0</td></tr>\n",
       "\t<tr><td>41</td><td>0</td><td>204</td><td>172</td><td>0.0</td><td>0</td></tr>\n",
       "\t<tr><td>56</td><td>1</td><td>236</td><td>178</td><td>0.0</td><td>0</td></tr>\n",
       "</tbody>\n",
       "</table>\n"
      ],
      "text/latex": [
       "A tibble: 6 × 6\n",
       "\\begin{tabular}{llllll}\n",
       " age & sex & chol & thalach & ca & num\\\\\n",
       " <dbl> & <dbl> & <dbl> & <dbl> & <chr> & <dbl>\\\\\n",
       "\\hline\n",
       "\t 63 & 1 & 233 & 150 & 0.0 & 0\\\\\n",
       "\t 67 & 1 & 286 & 108 & 3.0 & 2\\\\\n",
       "\t 67 & 1 & 229 & 129 & 2.0 & 1\\\\\n",
       "\t 37 & 1 & 250 & 187 & 0.0 & 0\\\\\n",
       "\t 41 & 0 & 204 & 172 & 0.0 & 0\\\\\n",
       "\t 56 & 1 & 236 & 178 & 0.0 & 0\\\\\n",
       "\\end{tabular}\n"
      ],
      "text/markdown": [
       "\n",
       "A tibble: 6 × 6\n",
       "\n",
       "| age &lt;dbl&gt; | sex &lt;dbl&gt; | chol &lt;dbl&gt; | thalach &lt;dbl&gt; | ca &lt;chr&gt; | num &lt;dbl&gt; |\n",
       "|---|---|---|---|---|---|\n",
       "| 63 | 1 | 233 | 150 | 0.0 | 0 |\n",
       "| 67 | 1 | 286 | 108 | 3.0 | 2 |\n",
       "| 67 | 1 | 229 | 129 | 2.0 | 1 |\n",
       "| 37 | 1 | 250 | 187 | 0.0 | 0 |\n",
       "| 41 | 0 | 204 | 172 | 0.0 | 0 |\n",
       "| 56 | 1 | 236 | 178 | 0.0 | 0 |\n",
       "\n"
      ],
      "text/plain": [
       "  age sex chol thalach ca  num\n",
       "1 63  1   233  150     0.0 0  \n",
       "2 67  1   286  108     3.0 2  \n",
       "3 67  1   229  129     2.0 1  \n",
       "4 37  1   250  187     0.0 0  \n",
       "5 41  0   204  172     0.0 0  \n",
       "6 56  1   236  178     0.0 0  "
      ]
     },
     "metadata": {},
     "output_type": "display_data"
    }
   ],
   "source": [
    "filheart_df <- select(heart_df, -cp, -trestbps, -fbs, -restecg, -exang, -oldpeak, -slope, -thal)\n",
    "head(filheart_df)"
   ]
  },
  {
   "cell_type": "code",
   "execution_count": 39,
   "id": "1c9b994f-b349-48a7-ba17-c5a9fccedfc4",
   "metadata": {},
   "outputs": [
    {
     "name": "stderr",
     "output_type": "stream",
     "text": [
      "Warning message in mask$eval_all_mutate(quo):\n",
      "“NAs introduced by coercion”\n"
     ]
    },
    {
     "data": {
      "text/html": [
       "<table class=\"dataframe\">\n",
       "<caption>A tibble: 6 × 6</caption>\n",
       "<thead>\n",
       "\t<tr><th scope=col>age</th><th scope=col>sex</th><th scope=col>chol</th><th scope=col>thalach</th><th scope=col>ca</th><th scope=col>num</th></tr>\n",
       "\t<tr><th scope=col>&lt;dbl&gt;</th><th scope=col>&lt;fct&gt;</th><th scope=col>&lt;dbl&gt;</th><th scope=col>&lt;dbl&gt;</th><th scope=col>&lt;int&gt;</th><th scope=col>&lt;fct&gt;</th></tr>\n",
       "</thead>\n",
       "<tbody>\n",
       "\t<tr><td>63</td><td>1</td><td>233</td><td>150</td><td>0</td><td>0</td></tr>\n",
       "\t<tr><td>37</td><td>1</td><td>250</td><td>187</td><td>0</td><td>0</td></tr>\n",
       "\t<tr><td>41</td><td>0</td><td>204</td><td>172</td><td>0</td><td>0</td></tr>\n",
       "\t<tr><td>56</td><td>1</td><td>236</td><td>178</td><td>0</td><td>0</td></tr>\n",
       "\t<tr><td>57</td><td>0</td><td>354</td><td>163</td><td>0</td><td>0</td></tr>\n",
       "\t<tr><td>57</td><td>1</td><td>192</td><td>148</td><td>0</td><td>0</td></tr>\n",
       "</tbody>\n",
       "</table>\n"
      ],
      "text/latex": [
       "A tibble: 6 × 6\n",
       "\\begin{tabular}{llllll}\n",
       " age & sex & chol & thalach & ca & num\\\\\n",
       " <dbl> & <fct> & <dbl> & <dbl> & <int> & <fct>\\\\\n",
       "\\hline\n",
       "\t 63 & 1 & 233 & 150 & 0 & 0\\\\\n",
       "\t 37 & 1 & 250 & 187 & 0 & 0\\\\\n",
       "\t 41 & 0 & 204 & 172 & 0 & 0\\\\\n",
       "\t 56 & 1 & 236 & 178 & 0 & 0\\\\\n",
       "\t 57 & 0 & 354 & 163 & 0 & 0\\\\\n",
       "\t 57 & 1 & 192 & 148 & 0 & 0\\\\\n",
       "\\end{tabular}\n"
      ],
      "text/markdown": [
       "\n",
       "A tibble: 6 × 6\n",
       "\n",
       "| age &lt;dbl&gt; | sex &lt;fct&gt; | chol &lt;dbl&gt; | thalach &lt;dbl&gt; | ca &lt;int&gt; | num &lt;fct&gt; |\n",
       "|---|---|---|---|---|---|\n",
       "| 63 | 1 | 233 | 150 | 0 | 0 |\n",
       "| 37 | 1 | 250 | 187 | 0 | 0 |\n",
       "| 41 | 0 | 204 | 172 | 0 | 0 |\n",
       "| 56 | 1 | 236 | 178 | 0 | 0 |\n",
       "| 57 | 0 | 354 | 163 | 0 | 0 |\n",
       "| 57 | 1 | 192 | 148 | 0 | 0 |\n",
       "\n"
      ],
      "text/plain": [
       "  age sex chol thalach ca num\n",
       "1 63  1   233  150     0  0  \n",
       "2 37  1   250  187     0  0  \n",
       "3 41  0   204  172     0  0  \n",
       "4 56  1   236  178     0  0  \n",
       "5 57  0   354  163     0  0  \n",
       "6 57  1   192  148     0  0  "
      ]
     },
     "metadata": {},
     "output_type": "display_data"
    }
   ],
   "source": [
    "heart_num0 <- filheart_df |>\n",
    "filter(num == 0)\n",
    "heart_num1 <- filheart_df |>\n",
    "filter(num > 0) |>\n",
    "mutate(num = 1)\n",
    "\n",
    "heart_clean <- rbind(heart_num0, heart_num1)\n",
    "heart_clean <- heart_clean |>\n",
    "mutate(num = as_factor(num), ca = as.integer(ca), sex = as_factor(sex))\n",
    "head(heart_clean)"
   ]
  },
  {
   "cell_type": "code",
   "execution_count": 40,
   "id": "c9cb9c8e-8251-42a1-b421-e2b4c186bcf3",
   "metadata": {},
   "outputs": [
    {
     "data": {
      "text/html": [
       "<table class=\"dataframe\">\n",
       "<caption>A tibble: 6 × 6</caption>\n",
       "<thead>\n",
       "\t<tr><th scope=col>age</th><th scope=col>sex</th><th scope=col>chol</th><th scope=col>thalach</th><th scope=col>ca</th><th scope=col>num</th></tr>\n",
       "\t<tr><th scope=col>&lt;dbl&gt;</th><th scope=col>&lt;fct&gt;</th><th scope=col>&lt;dbl&gt;</th><th scope=col>&lt;dbl&gt;</th><th scope=col>&lt;int&gt;</th><th scope=col>&lt;fct&gt;</th></tr>\n",
       "</thead>\n",
       "<tbody>\n",
       "\t<tr><td>63</td><td>1</td><td>233</td><td>150</td><td>0</td><td>0</td></tr>\n",
       "\t<tr><td>37</td><td>1</td><td>250</td><td>187</td><td>0</td><td>0</td></tr>\n",
       "\t<tr><td>41</td><td>0</td><td>204</td><td>172</td><td>0</td><td>0</td></tr>\n",
       "\t<tr><td>56</td><td>1</td><td>236</td><td>178</td><td>0</td><td>0</td></tr>\n",
       "\t<tr><td>56</td><td>0</td><td>294</td><td>153</td><td>0</td><td>0</td></tr>\n",
       "\t<tr><td>44</td><td>1</td><td>263</td><td>173</td><td>0</td><td>0</td></tr>\n",
       "</tbody>\n",
       "</table>\n"
      ],
      "text/latex": [
       "A tibble: 6 × 6\n",
       "\\begin{tabular}{llllll}\n",
       " age & sex & chol & thalach & ca & num\\\\\n",
       " <dbl> & <fct> & <dbl> & <dbl> & <int> & <fct>\\\\\n",
       "\\hline\n",
       "\t 63 & 1 & 233 & 150 & 0 & 0\\\\\n",
       "\t 37 & 1 & 250 & 187 & 0 & 0\\\\\n",
       "\t 41 & 0 & 204 & 172 & 0 & 0\\\\\n",
       "\t 56 & 1 & 236 & 178 & 0 & 0\\\\\n",
       "\t 56 & 0 & 294 & 153 & 0 & 0\\\\\n",
       "\t 44 & 1 & 263 & 173 & 0 & 0\\\\\n",
       "\\end{tabular}\n"
      ],
      "text/markdown": [
       "\n",
       "A tibble: 6 × 6\n",
       "\n",
       "| age &lt;dbl&gt; | sex &lt;fct&gt; | chol &lt;dbl&gt; | thalach &lt;dbl&gt; | ca &lt;int&gt; | num &lt;fct&gt; |\n",
       "|---|---|---|---|---|---|\n",
       "| 63 | 1 | 233 | 150 | 0 | 0 |\n",
       "| 37 | 1 | 250 | 187 | 0 | 0 |\n",
       "| 41 | 0 | 204 | 172 | 0 | 0 |\n",
       "| 56 | 1 | 236 | 178 | 0 | 0 |\n",
       "| 56 | 0 | 294 | 153 | 0 | 0 |\n",
       "| 44 | 1 | 263 | 173 | 0 | 0 |\n",
       "\n"
      ],
      "text/plain": [
       "  age sex chol thalach ca num\n",
       "1 63  1   233  150     0  0  \n",
       "2 37  1   250  187     0  0  \n",
       "3 41  0   204  172     0  0  \n",
       "4 56  1   236  178     0  0  \n",
       "5 56  0   294  153     0  0  \n",
       "6 44  1   263  173     0  0  "
      ]
     },
     "metadata": {},
     "output_type": "display_data"
    },
    {
     "data": {
      "text/html": [
       "<table class=\"dataframe\">\n",
       "<caption>A tibble: 6 × 6</caption>\n",
       "<thead>\n",
       "\t<tr><th scope=col>age</th><th scope=col>sex</th><th scope=col>chol</th><th scope=col>thalach</th><th scope=col>ca</th><th scope=col>num</th></tr>\n",
       "\t<tr><th scope=col>&lt;dbl&gt;</th><th scope=col>&lt;fct&gt;</th><th scope=col>&lt;dbl&gt;</th><th scope=col>&lt;dbl&gt;</th><th scope=col>&lt;int&gt;</th><th scope=col>&lt;fct&gt;</th></tr>\n",
       "</thead>\n",
       "<tbody>\n",
       "\t<tr><td>57</td><td>0</td><td>354</td><td>163</td><td>0</td><td>0</td></tr>\n",
       "\t<tr><td>57</td><td>1</td><td>192</td><td>148</td><td>0</td><td>0</td></tr>\n",
       "\t<tr><td>54</td><td>1</td><td>239</td><td>160</td><td>0</td><td>0</td></tr>\n",
       "\t<tr><td>64</td><td>1</td><td>211</td><td>144</td><td>0</td><td>0</td></tr>\n",
       "\t<tr><td>58</td><td>0</td><td>340</td><td>172</td><td>0</td><td>0</td></tr>\n",
       "\t<tr><td>69</td><td>0</td><td>239</td><td>151</td><td>2</td><td>0</td></tr>\n",
       "</tbody>\n",
       "</table>\n"
      ],
      "text/latex": [
       "A tibble: 6 × 6\n",
       "\\begin{tabular}{llllll}\n",
       " age & sex & chol & thalach & ca & num\\\\\n",
       " <dbl> & <fct> & <dbl> & <dbl> & <int> & <fct>\\\\\n",
       "\\hline\n",
       "\t 57 & 0 & 354 & 163 & 0 & 0\\\\\n",
       "\t 57 & 1 & 192 & 148 & 0 & 0\\\\\n",
       "\t 54 & 1 & 239 & 160 & 0 & 0\\\\\n",
       "\t 64 & 1 & 211 & 144 & 0 & 0\\\\\n",
       "\t 58 & 0 & 340 & 172 & 0 & 0\\\\\n",
       "\t 69 & 0 & 239 & 151 & 2 & 0\\\\\n",
       "\\end{tabular}\n"
      ],
      "text/markdown": [
       "\n",
       "A tibble: 6 × 6\n",
       "\n",
       "| age &lt;dbl&gt; | sex &lt;fct&gt; | chol &lt;dbl&gt; | thalach &lt;dbl&gt; | ca &lt;int&gt; | num &lt;fct&gt; |\n",
       "|---|---|---|---|---|---|\n",
       "| 57 | 0 | 354 | 163 | 0 | 0 |\n",
       "| 57 | 1 | 192 | 148 | 0 | 0 |\n",
       "| 54 | 1 | 239 | 160 | 0 | 0 |\n",
       "| 64 | 1 | 211 | 144 | 0 | 0 |\n",
       "| 58 | 0 | 340 | 172 | 0 | 0 |\n",
       "| 69 | 0 | 239 | 151 | 2 | 0 |\n",
       "\n"
      ],
      "text/plain": [
       "  age sex chol thalach ca num\n",
       "1 57  0   354  163     0  0  \n",
       "2 57  1   192  148     0  0  \n",
       "3 54  1   239  160     0  0  \n",
       "4 64  1   211  144     0  0  \n",
       "5 58  0   340  172     0  0  \n",
       "6 69  0   239  151     2  0  "
      ]
     },
     "metadata": {},
     "output_type": "display_data"
    }
   ],
   "source": [
    "split <- initial_split(heart_clean, prop = 0.7, strata = num)\n",
    "heart_train <- training(split)\n",
    "heart_test <- testing(split)\n",
    "head(heart_train)\n",
    "head(heart_test)"
   ]
  },
  {
   "cell_type": "code",
   "execution_count": 10,
   "id": "0a5a2ba2-97b3-40fc-8c07-34efffaeb147",
   "metadata": {},
   "outputs": [
    {
     "name": "stderr",
     "output_type": "stream",
     "text": [
      "Warning message in mask$eval_all_mutate(quo):\n",
      "“NAs introduced by coercion”\n"
     ]
    },
    {
     "data": {
      "text/html": [
       "<table class=\"dataframe\">\n",
       "<caption>A tibble: 6 × 6</caption>\n",
       "<thead>\n",
       "\t<tr><th scope=col>age</th><th scope=col>sex</th><th scope=col>chol</th><th scope=col>thalach</th><th scope=col>ca</th><th scope=col>num</th></tr>\n",
       "\t<tr><th scope=col>&lt;dbl&gt;</th><th scope=col>&lt;fct&gt;</th><th scope=col>&lt;dbl&gt;</th><th scope=col>&lt;dbl&gt;</th><th scope=col>&lt;int&gt;</th><th scope=col>&lt;dbl&gt;</th></tr>\n",
       "</thead>\n",
       "<tbody>\n",
       "\t<tr><td>63</td><td>1</td><td>233</td><td>150</td><td>0</td><td>0</td></tr>\n",
       "\t<tr><td>37</td><td>1</td><td>250</td><td>187</td><td>0</td><td>0</td></tr>\n",
       "\t<tr><td>41</td><td>0</td><td>204</td><td>172</td><td>0</td><td>0</td></tr>\n",
       "\t<tr><td>57</td><td>0</td><td>354</td><td>163</td><td>0</td><td>0</td></tr>\n",
       "\t<tr><td>57</td><td>1</td><td>192</td><td>148</td><td>0</td><td>0</td></tr>\n",
       "\t<tr><td>56</td><td>0</td><td>294</td><td>153</td><td>0</td><td>0</td></tr>\n",
       "</tbody>\n",
       "</table>\n"
      ],
      "text/latex": [
       "A tibble: 6 × 6\n",
       "\\begin{tabular}{llllll}\n",
       " age & sex & chol & thalach & ca & num\\\\\n",
       " <dbl> & <fct> & <dbl> & <dbl> & <int> & <dbl>\\\\\n",
       "\\hline\n",
       "\t 63 & 1 & 233 & 150 & 0 & 0\\\\\n",
       "\t 37 & 1 & 250 & 187 & 0 & 0\\\\\n",
       "\t 41 & 0 & 204 & 172 & 0 & 0\\\\\n",
       "\t 57 & 0 & 354 & 163 & 0 & 0\\\\\n",
       "\t 57 & 1 & 192 & 148 & 0 & 0\\\\\n",
       "\t 56 & 0 & 294 & 153 & 0 & 0\\\\\n",
       "\\end{tabular}\n"
      ],
      "text/markdown": [
       "\n",
       "A tibble: 6 × 6\n",
       "\n",
       "| age &lt;dbl&gt; | sex &lt;fct&gt; | chol &lt;dbl&gt; | thalach &lt;dbl&gt; | ca &lt;int&gt; | num &lt;dbl&gt; |\n",
       "|---|---|---|---|---|---|\n",
       "| 63 | 1 | 233 | 150 | 0 | 0 |\n",
       "| 37 | 1 | 250 | 187 | 0 | 0 |\n",
       "| 41 | 0 | 204 | 172 | 0 | 0 |\n",
       "| 57 | 0 | 354 | 163 | 0 | 0 |\n",
       "| 57 | 1 | 192 | 148 | 0 | 0 |\n",
       "| 56 | 0 | 294 | 153 | 0 | 0 |\n",
       "\n"
      ],
      "text/plain": [
       "  age sex chol thalach ca num\n",
       "1 63  1   233  150     0  0  \n",
       "2 37  1   250  187     0  0  \n",
       "3 41  0   204  172     0  0  \n",
       "4 57  0   354  163     0  0  \n",
       "5 57  1   192  148     0  0  \n",
       "6 56  0   294  153     0  0  "
      ]
     },
     "metadata": {},
     "output_type": "display_data"
    }
   ],
   "source": [
    "heart_zero <- heart_train %>%\n",
    "        filter(num ==0) %>%\n",
    "        mutate(sex = as.factor(sex)) %>%\n",
    "        mutate(ca = as.integer(ca))\n",
    "heart_nonzero <- heart_train %>%\n",
    "        filter(num >=1) %>%\n",
    "        mutate(num = 1) %>%\n",
    "        mutate(sex = as.factor(sex)) %>%\n",
    "        mutate(ca = as.integer(ca))\n",
    "merged_train <- rbind(heart_zero, heart_nonzero)\n",
    "head(merged_train)"
   ]
  },
  {
   "cell_type": "code",
   "execution_count": 59,
   "id": "b069631a-55c5-4592-8fe0-131f14a2ce64",
   "metadata": {},
   "outputs": [
    {
     "name": "stdout",
     "output_type": "stream",
     "text": [
      "[1] \"Counts of num\"\n"
     ]
    },
    {
     "data": {
      "text/html": [
       "<table class=\"dataframe\">\n",
       "<caption>A tibble: 2 × 2</caption>\n",
       "<thead>\n",
       "\t<tr><th scope=col>num</th><th scope=col>count</th></tr>\n",
       "\t<tr><th scope=col>&lt;fct&gt;</th><th scope=col>&lt;int&gt;</th></tr>\n",
       "</thead>\n",
       "<tbody>\n",
       "\t<tr><td>0</td><td>114</td></tr>\n",
       "\t<tr><td>1</td><td> 97</td></tr>\n",
       "</tbody>\n",
       "</table>\n"
      ],
      "text/latex": [
       "A tibble: 2 × 2\n",
       "\\begin{tabular}{ll}\n",
       " num & count\\\\\n",
       " <fct> & <int>\\\\\n",
       "\\hline\n",
       "\t 0 & 114\\\\\n",
       "\t 1 &  97\\\\\n",
       "\\end{tabular}\n"
      ],
      "text/markdown": [
       "\n",
       "A tibble: 2 × 2\n",
       "\n",
       "| num &lt;fct&gt; | count &lt;int&gt; |\n",
       "|---|---|\n",
       "| 0 | 114 |\n",
       "| 1 |  97 |\n",
       "\n"
      ],
      "text/plain": [
       "  num count\n",
       "1 0   114  \n",
       "2 1    97  "
      ]
     },
     "metadata": {},
     "output_type": "display_data"
    },
    {
     "name": "stdout",
     "output_type": "stream",
     "text": [
      "[1] \"Counts of ca\"\n"
     ]
    },
    {
     "data": {
      "text/html": [
       "<table class=\"dataframe\">\n",
       "<caption>A tibble: 5 × 2</caption>\n",
       "<thead>\n",
       "\t<tr><th scope=col>ca</th><th scope=col>count</th></tr>\n",
       "\t<tr><th scope=col>&lt;int&gt;</th><th scope=col>&lt;int&gt;</th></tr>\n",
       "</thead>\n",
       "<tbody>\n",
       "\t<tr><td> 0</td><td>119</td></tr>\n",
       "\t<tr><td> 1</td><td> 47</td></tr>\n",
       "\t<tr><td> 2</td><td> 26</td></tr>\n",
       "\t<tr><td> 3</td><td> 16</td></tr>\n",
       "\t<tr><td>NA</td><td>  3</td></tr>\n",
       "</tbody>\n",
       "</table>\n"
      ],
      "text/latex": [
       "A tibble: 5 × 2\n",
       "\\begin{tabular}{ll}\n",
       " ca & count\\\\\n",
       " <int> & <int>\\\\\n",
       "\\hline\n",
       "\t  0 & 119\\\\\n",
       "\t  1 &  47\\\\\n",
       "\t  2 &  26\\\\\n",
       "\t  3 &  16\\\\\n",
       "\t NA &   3\\\\\n",
       "\\end{tabular}\n"
      ],
      "text/markdown": [
       "\n",
       "A tibble: 5 × 2\n",
       "\n",
       "| ca &lt;int&gt; | count &lt;int&gt; |\n",
       "|---|---|\n",
       "|  0 | 119 |\n",
       "|  1 |  47 |\n",
       "|  2 |  26 |\n",
       "|  3 |  16 |\n",
       "| NA |   3 |\n",
       "\n"
      ],
      "text/plain": [
       "  ca count\n",
       "1  0 119  \n",
       "2  1  47  \n",
       "3  2  26  \n",
       "4  3  16  \n",
       "5 NA   3  "
      ]
     },
     "metadata": {},
     "output_type": "display_data"
    },
    {
     "name": "stdout",
     "output_type": "stream",
     "text": [
      "[1] \"Means of quantitative variables given num\"\n"
     ]
    },
    {
     "data": {
      "text/html": [
       "<table class=\"dataframe\">\n",
       "<caption>A tibble: 2 × 4</caption>\n",
       "<thead>\n",
       "\t<tr><th scope=col>num</th><th scope=col>avg_age</th><th scope=col>avg_chol</th><th scope=col>avg_thal</th></tr>\n",
       "\t<tr><th scope=col>&lt;fct&gt;</th><th scope=col>&lt;dbl&gt;</th><th scope=col>&lt;dbl&gt;</th><th scope=col>&lt;dbl&gt;</th></tr>\n",
       "</thead>\n",
       "<tbody>\n",
       "\t<tr><td>0</td><td>51.85965</td><td>243.9737</td><td>159.8421</td></tr>\n",
       "\t<tr><td>1</td><td>56.90722</td><td>251.7423</td><td>138.5052</td></tr>\n",
       "</tbody>\n",
       "</table>\n"
      ],
      "text/latex": [
       "A tibble: 2 × 4\n",
       "\\begin{tabular}{llll}\n",
       " num & avg\\_age & avg\\_chol & avg\\_thal\\\\\n",
       " <fct> & <dbl> & <dbl> & <dbl>\\\\\n",
       "\\hline\n",
       "\t 0 & 51.85965 & 243.9737 & 159.8421\\\\\n",
       "\t 1 & 56.90722 & 251.7423 & 138.5052\\\\\n",
       "\\end{tabular}\n"
      ],
      "text/markdown": [
       "\n",
       "A tibble: 2 × 4\n",
       "\n",
       "| num &lt;fct&gt; | avg_age &lt;dbl&gt; | avg_chol &lt;dbl&gt; | avg_thal &lt;dbl&gt; |\n",
       "|---|---|---|---|\n",
       "| 0 | 51.85965 | 243.9737 | 159.8421 |\n",
       "| 1 | 56.90722 | 251.7423 | 138.5052 |\n",
       "\n"
      ],
      "text/plain": [
       "  num avg_age  avg_chol avg_thal\n",
       "1 0   51.85965 243.9737 159.8421\n",
       "2 1   56.90722 251.7423 138.5052"
      ]
     },
     "metadata": {},
     "output_type": "display_data"
    }
   ],
   "source": [
    "num_counts <- heart_train |>\n",
    "group_by(num) |>\n",
    "summarize(count = n())\n",
    "ca_counts <- heart_train |>\n",
    "group_by(ca) |>\n",
    "summarize(count = n())\n",
    "means_by_num  <- heart_train %>%\n",
    "        group_by(num) %>%\n",
    "        summarize(avg_age = mean(age), avg_chol = mean(chol), avg_thal = mean(thalach))\n",
    "print(\"Counts of num\")\n",
    "num_counts\n",
    "print(\"Counts of ca\")\n",
    "ca_counts\n",
    "print(\"Means of quantitative variables given num\")\n",
    "means_by_num"
   ]
  },
  {
   "cell_type": "code",
   "execution_count": 53,
   "id": "2741e450-8e08-4271-a9b5-4c6c80a0ed73",
   "metadata": {},
   "outputs": [],
   "source": [
    "# num_counts_train <- merged_train %>%\n",
    "#         group_by(num) %>%\n",
    "#         summarize(numcounts = n())\n",
    "# num_counts_ca <- merged_train %>%\n",
    "#         group_by(ca) %>%\n",
    "#         summarize(cacounts = n())\n",
    "# num_counts_ca\n",
    "# averaged <- merged_train %>%\n",
    "#         group_by(num) %>%\n",
    "#         summarize(avg_age = mean(age), avg_chol = mean(chol), avg_thal = mean(thalach)) %>%\n",
    "#         select(-num) ## I think num should be remained for clarity\n",
    "# averaged\n",
    "# # binded <- bind_cols(num_counts_ca, num_counts_train) # i think this is impossible\n",
    "# # binded"
   ]
  },
  {
   "cell_type": "markdown",
   "id": "afd7e3f6-bb2a-49bd-aaea-a05a62006bea",
   "metadata": {},
   "source": [
    "Visualization"
   ]
  },
  {
   "cell_type": "code",
   "execution_count": 52,
   "id": "39f0680d-a68f-48ab-a03b-7b0a88899890",
   "metadata": {},
   "outputs": [],
   "source": [
    "# heart_viz <- merged_train |>\n",
    "# mutate(num = as_factor(num))\n",
    "# heart_viz"
   ]
  },
  {
   "cell_type": "code",
   "execution_count": 82,
   "id": "57b3f33f-bbe4-40c8-bf69-62c2194a2442",
   "metadata": {},
   "outputs": [
    {
     "name": "stderr",
     "output_type": "stream",
     "text": [
      "`stat_bin()` using `bins = 30`. Pick better value with `binwidth`.\n",
      "\n"
     ]
    },
    {
     "data": {
      "image/png": "[encoded data removed]",
      "text/plain": [
       "plot without title"
      ]
     },
     "metadata": {
      "image/png": {
       "height": 420,
       "width": 420
      }
     },
     "output_type": "display_data"
    },
    {
     "name": "stderr",
     "output_type": "stream",
     "text": [
      "`stat_bin()` using `bins = 30`. Pick better value with `binwidth`.\n",
      "\n"
     ]
    },
    {
     "data": {
      "image/png": "[encoded data removed]",
      "text/plain": [
       "plot without title"
      ]
     },
     "metadata": {
      "image/png": {
       "height": 420,
       "width": 420
      }
     },
     "output_type": "display_data"
    },
    {
     "name": "stderr",
     "output_type": "stream",
     "text": [
      "`stat_bin()` using `bins = 30`. Pick better value with `binwidth`.\n",
      "\n"
     ]
    },
    {
     "data": {
      "image/png": "[encoded data removed]",
      "text/plain": [
       "plot without title"
      ]
     },
     "metadata": {
      "image/png": {
       "height": 420,
       "width": 420
      }
     },
     "output_type": "display_data"
    },
    {
     "name": "stderr",
     "output_type": "stream",
     "text": [
      "Warning message:\n",
      "“Removed 3 rows containing non-finite values (stat_count).”\n"
     ]
    },
    {
     "data": {
      "image/png": "[encoded data removed]",
      "text/plain": [
       "plot without title"
      ]
     },
     "metadata": {
      "image/png": {
       "height": 420,
       "width": 420
      }
     },
     "output_type": "display_data"
    },
    {
     "data": {
      "image/png": "[encoded data removed]",
      "text/plain": [
       "plot without title"
      ]
     },
     "metadata": {
      "image/png": {
       "height": 420,
       "width": 420
      }
     },
     "output_type": "display_data"
    },
    {
     "data": {
      "image/png": "[encoded data removed]",
      "text/plain": [
       "plot without title"
      ]
     },
     "metadata": {
      "image/png": {
       "height": 420,
       "width": 420
      }
     },
     "output_type": "display_data"
    }
   ],
   "source": [
    "sex_plot <- ggplot(heart_train, aes(x= sex, fill = num)) +\n",
    "geom_bar(position = \"stack\") + \n",
    "labs(x = \"Sex\", title = \"Distribution of sex\", fill = \"Presense of heart disease\") +\n",
    "scale_fill_hue(labels = c(\"No\", \"Yes\"))+\n",
    "scale_x_discrete(labels = c('Female','Male'))\n",
    "sex_plot\n",
    "\n",
    "age_plot <- ggplot(heart_train, aes(x= age, fill = num)) +\n",
    "geom_histogram(position = \"stack\") +\n",
    "labs(x = \"Age\", title = \"Distribution of age\", fill = \"Presense of heart disease\") +\n",
    "scale_fill_hue(labels = c(\"No\", \"Yes\"))\n",
    "age_plot\n",
    "\n",
    "chol_plot <- ggplot(heart_train, aes(x= chol, fill = num)) +\n",
    "geom_histogram(position = \"stack\") +\n",
    "labs(x = \"Serum cholestoral (mg/dl)\", title = \"Distribution of serum cholestoral (mg/dl)\", fill = \"Presense of heart disease\") +\n",
    "scale_fill_hue(labels = c(\"No\", \"Yes\"))\n",
    "chol_plot\n",
    "\n",
    "thalach_plot <- ggplot(heart_train, aes(x= thalach, fill = num)) +\n",
    "geom_histogram(position = \"stack\") +\n",
    "labs(x = \"Maximum heart rate\", title = \"Distribution of maximum heart rate achieved\", fill = \"Presense of heart disease\") +\n",
    "scale_fill_hue(labels = c(\"No\", \"Yes\"))\n",
    "thalach_plot\n",
    "\n",
    "ca_plot <- ggplot(heart_train, aes(x= ca, fill = num)) +\n",
    "geom_bar(position = \"stack\")+\n",
    "labs(x = \"Number of major vessels colored by flourosopy\", title = \"Distribution of number of major vessels colored by flourosopy\", fill = \"Presense of heart disease\") +\n",
    "scale_fill_hue(labels = c(\"No\", \"Yes\"))\n",
    "ca_plot\n",
    "\n",
    "num_plot <- ggplot(heart_train, aes(x = num)) +\n",
    "geom_bar() +\n",
    "labs(x = \"Presense of heart disease\", title = \"Distribution of presense of heart disease\")+\n",
    "scale_x_discrete(labels = c('No','Yes'))\n",
    "\n",
    "num_plot"
   ]
  },
  {
   "cell_type": "markdown",
   "id": "a2e8ed2e-4223-4109-b3e2-9858a868ee28",
   "metadata": {},
   "source": [
    "Details of variables can be found here\n",
    "https://archive.ics.uci.edu/ml/datasets/Heart+Disease"
   ]
  },
  {
   "cell_type": "markdown",
   "id": "84c94c6d-081e-43b3-a81e-8fb877d8a4dc",
   "metadata": {},
   "source": [
    "## 4. Methods"
   ]
  },
  {
   "cell_type": "markdown",
   "id": "87f57ba3-526f-4212-986b-6a619db66222",
   "metadata": {},
   "source": [
    "Using classification, we will use knn to predict the instance of heart disease with our chosen factors. The columns (variables) that we will be using are age (age), sex (sex), cholesterol level (chol), maximum heart rate achieved (thalach), number of major vessels colored by flourosopy (ca), and the diagnosis of heart disease (num). For clarity, sex is a binary variable that is coded as male = 1, woman = 0. Cholesterol is measured in mg/dl. Number of major vessels is measured from 0-3. The diagnosis is initially measured from 0-4: 0 indicating no presence and 1-4 indicated presence of heart disease. We mutated this into a binary variable so that 0 indicates no diagnosis and 1 indicates diagnosis. \n",
    "\n",
    "To visualize our results, we will be using scatterplots between two variables and use the color function to indicate the instance of heart disease or not. This will help to explain the combinatory power of the two variables in the prediction of heart disease. \n"
   ]
  },
  {
   "cell_type": "markdown",
   "id": "2739cfe2-1b7b-414b-86f4-99ab2f0923c4",
   "metadata": {},
   "source": [
    "## 5. Expected outcomes and significance"
   ]
  },
  {
   "cell_type": "markdown",
   "id": "0c7b16d8-2411-4398-9ce9-ccbdcbb70e08",
   "metadata": {},
   "source": [
    "We expect to find that these variables (age, cholesterol level, maximum heart rate achieved, number of major vessels colored by flourosopy, and sex) affect the likelihood of heart disease in patients. Therefore, we expect to see predictive value. \n",
    "                                \n",
    "Findings such as this could have an impact on how doctors communicate health risks to patients. It may also affect how patients change their daily life as certain risks may have increased predictive value of a variable, such as cholesterol level. \n",
    "\n",
    "This could lead to future questions about the compounding effect of these variables and all other variables that serve predictive purposes. Knowing how these chosen variables affect the instance of heart disease, questions about other predictive variables such as blood pressure, smoking, or obesity can also be tested individually and together. Interactions between these variables could be a very important question. \n"
   ]
  }
 ],
 "metadata": {
  "kernelspec": {
   "display_name": "R",
   "language": "R",
   "name": "ir"
  },
  "language_info": {
   "codemirror_mode": "r",
   "file_extension": ".r",
   "mimetype": "text/x-r-source",
   "name": "R",
   "pygments_lexer": "r",
   "version": "4.1.3"
  }
 },
 "nbformat": 4,
 "nbformat_minor": 5
}
