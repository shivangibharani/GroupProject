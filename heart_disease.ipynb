{
 "cells": [
  {
   "cell_type": "markdown",
   "id": "e677b0aa-2f61-47fb-b550-d54330c3ef8e",
   "metadata": {},
   "source": [
    "## 1. Title of this project: TODO\n",
    "\n"
   ]
  },
  {
   "cell_type": "markdown",
   "id": "606c07b4-d5eb-4ab0-a1d1-b30365dc7361",
   "metadata": {},
   "source": [
    "## 2. Introduction"
   ]
  },
  {
   "cell_type": "markdown",
   "id": "c3e591fc-3bef-4c09-8979-40278b8681ef",
   "metadata": {},
   "source": [
    "Heart disease is the number 1 cause of deaths worldwide, with no 'cure' of any kind. We can, however, \n",
    "try to identify possible factors that lead to higher risk of heart disease. We obtained a set of data collected\n",
    "by Robert Detrano, (M.D., Ph.D.) from the Long Beach and Cleveland Clinic Foundation. This data set contains a\n",
    "total of 76 attributes, of which 14 are used as primary data. We will be using this data to craft a model that \n",
    "attempts to predict whether or not \n",
    "regarding \n",
    "Question: "
   ]
  },
  {
   "cell_type": "markdown",
   "id": "ad7b94a0-8bb0-4493-a86f-82115450afde",
   "metadata": {
    "tags": []
   },
   "source": [
    "## 3. Preliminary exploratory data analysis"
   ]
  },
  {
   "cell_type": "code",
   "execution_count": 19,
   "id": "1a3260e5-7e71-46c1-a9c0-ce39ec95ca04",
   "metadata": {},
   "outputs": [],
   "source": [
    "library(tidyverse)\n",
    "library(tidymodels)"
   ]
  },
  {
   "cell_type": "code",
   "execution_count": 20,
   "id": "5c3af150-4c24-42fe-a4cc-6b270866e929",
   "metadata": {},
   "outputs": [],
   "source": [
    "url <- \"https://archive.ics.uci.edu/ml/machine-learning-databases/heart-disease/processed.cleveland.data\"\n",
    "download.file(url, destfile = \"data/processed.cleveland.data\")"
   ]
  },
  {
   "cell_type": "code",
   "execution_count": 21,
   "id": "c8cda9a6-204a-46c3-8eef-d667d3d83e52",
   "metadata": {},
   "outputs": [
    {
     "name": "stderr",
     "output_type": "stream",
     "text": [
      "\u001b[1mRows: \u001b[22m\u001b[34m303\u001b[39m \u001b[1mColumns: \u001b[22m\u001b[34m14\u001b[39m\n",
      "\u001b[36m──\u001b[39m \u001b[1mColumn specification\u001b[22m \u001b[36m────────────────────────────────────────────────────────\u001b[39m\n",
      "\u001b[1mDelimiter:\u001b[22m \",\"\n",
      "\u001b[31mchr\u001b[39m  (2): X12, X13\n",
      "\u001b[32mdbl\u001b[39m (12): X1, X2, X3, X4, X5, X6, X7, X8, X9, X10, X11, X14\n",
      "\n",
      "\u001b[36mℹ\u001b[39m Use `spec()` to retrieve the full column specification for this data.\n",
      "\u001b[36mℹ\u001b[39m Specify the column types or set `show_col_types = FALSE` to quiet this message.\n"
     ]
    }
   ],
   "source": [
    "heart_df <- read_csv(\"data/processed.cleveland.data\", col_name = FALSE)"
   ]
  },
  {
   "cell_type": "code",
   "execution_count": 22,
   "id": "a9d8d5df-2cd8-43b6-bbf6-95f5bbe4e9af",
   "metadata": {},
   "outputs": [],
   "source": [
    "col <- c(\"age\", \"sex\",\"cp\", \"trestbps\", \"chol\", \"fbs\", \"restecg\", \"thalach\", \"exang\", \"oldpeak\", \"slope\", \"ca\", \"thal\",\"num\")"
   ]
  },
  {
   "cell_type": "code",
   "execution_count": 23,
   "id": "f7f36389-ed9a-4115-b788-ed8bfe106189",
   "metadata": {},
   "outputs": [],
   "source": [
    "colnames(heart_df) <- col"
   ]
  },
  {
   "cell_type": "code",
   "execution_count": 24,
   "id": "542547f6-eac9-45df-b0e5-76530bb48e98",
   "metadata": {},
   "outputs": [
    {
     "data": {
      "text/html": [
       "<table class=\"dataframe\">\n",
       "<caption>A tibble: 6 × 14</caption>\n",
       "<thead>\n",
       "\t<tr><th scope=col>age</th><th scope=col>sex</th><th scope=col>cp</th><th scope=col>trestbps</th><th scope=col>chol</th><th scope=col>fbs</th><th scope=col>restecg</th><th scope=col>thalach</th><th scope=col>exang</th><th scope=col>oldpeak</th><th scope=col>slope</th><th scope=col>ca</th><th scope=col>thal</th><th scope=col>num</th></tr>\n",
       "\t<tr><th scope=col>&lt;dbl&gt;</th><th scope=col>&lt;dbl&gt;</th><th scope=col>&lt;dbl&gt;</th><th scope=col>&lt;dbl&gt;</th><th scope=col>&lt;dbl&gt;</th><th scope=col>&lt;dbl&gt;</th><th scope=col>&lt;dbl&gt;</th><th scope=col>&lt;dbl&gt;</th><th scope=col>&lt;dbl&gt;</th><th scope=col>&lt;dbl&gt;</th><th scope=col>&lt;dbl&gt;</th><th scope=col>&lt;chr&gt;</th><th scope=col>&lt;chr&gt;</th><th scope=col>&lt;dbl&gt;</th></tr>\n",
       "</thead>\n",
       "<tbody>\n",
       "\t<tr><td>63</td><td>1</td><td>1</td><td>145</td><td>233</td><td>1</td><td>2</td><td>150</td><td>0</td><td>2.3</td><td>3</td><td>0.0</td><td>6.0</td><td>0</td></tr>\n",
       "\t<tr><td>67</td><td>1</td><td>4</td><td>160</td><td>286</td><td>0</td><td>2</td><td>108</td><td>1</td><td>1.5</td><td>2</td><td>3.0</td><td>3.0</td><td>2</td></tr>\n",
       "\t<tr><td>67</td><td>1</td><td>4</td><td>120</td><td>229</td><td>0</td><td>2</td><td>129</td><td>1</td><td>2.6</td><td>2</td><td>2.0</td><td>7.0</td><td>1</td></tr>\n",
       "\t<tr><td>37</td><td>1</td><td>3</td><td>130</td><td>250</td><td>0</td><td>0</td><td>187</td><td>0</td><td>3.5</td><td>3</td><td>0.0</td><td>3.0</td><td>0</td></tr>\n",
       "\t<tr><td>41</td><td>0</td><td>2</td><td>130</td><td>204</td><td>0</td><td>2</td><td>172</td><td>0</td><td>1.4</td><td>1</td><td>0.0</td><td>3.0</td><td>0</td></tr>\n",
       "\t<tr><td>56</td><td>1</td><td>2</td><td>120</td><td>236</td><td>0</td><td>0</td><td>178</td><td>0</td><td>0.8</td><td>1</td><td>0.0</td><td>3.0</td><td>0</td></tr>\n",
       "</tbody>\n",
       "</table>\n"
      ],
      "text/latex": [
       "A tibble: 6 × 14\n",
       "\\begin{tabular}{llllllllllllll}\n",
       " age & sex & cp & trestbps & chol & fbs & restecg & thalach & exang & oldpeak & slope & ca & thal & num\\\\\n",
       " <dbl> & <dbl> & <dbl> & <dbl> & <dbl> & <dbl> & <dbl> & <dbl> & <dbl> & <dbl> & <dbl> & <chr> & <chr> & <dbl>\\\\\n",
       "\\hline\n",
       "\t 63 & 1 & 1 & 145 & 233 & 1 & 2 & 150 & 0 & 2.3 & 3 & 0.0 & 6.0 & 0\\\\\n",
       "\t 67 & 1 & 4 & 160 & 286 & 0 & 2 & 108 & 1 & 1.5 & 2 & 3.0 & 3.0 & 2\\\\\n",
       "\t 67 & 1 & 4 & 120 & 229 & 0 & 2 & 129 & 1 & 2.6 & 2 & 2.0 & 7.0 & 1\\\\\n",
       "\t 37 & 1 & 3 & 130 & 250 & 0 & 0 & 187 & 0 & 3.5 & 3 & 0.0 & 3.0 & 0\\\\\n",
       "\t 41 & 0 & 2 & 130 & 204 & 0 & 2 & 172 & 0 & 1.4 & 1 & 0.0 & 3.0 & 0\\\\\n",
       "\t 56 & 1 & 2 & 120 & 236 & 0 & 0 & 178 & 0 & 0.8 & 1 & 0.0 & 3.0 & 0\\\\\n",
       "\\end{tabular}\n"
      ],
      "text/markdown": [
       "\n",
       "A tibble: 6 × 14\n",
       "\n",
       "| age &lt;dbl&gt; | sex &lt;dbl&gt; | cp &lt;dbl&gt; | trestbps &lt;dbl&gt; | chol &lt;dbl&gt; | fbs &lt;dbl&gt; | restecg &lt;dbl&gt; | thalach &lt;dbl&gt; | exang &lt;dbl&gt; | oldpeak &lt;dbl&gt; | slope &lt;dbl&gt; | ca &lt;chr&gt; | thal &lt;chr&gt; | num &lt;dbl&gt; |\n",
       "|---|---|---|---|---|---|---|---|---|---|---|---|---|---|\n",
       "| 63 | 1 | 1 | 145 | 233 | 1 | 2 | 150 | 0 | 2.3 | 3 | 0.0 | 6.0 | 0 |\n",
       "| 67 | 1 | 4 | 160 | 286 | 0 | 2 | 108 | 1 | 1.5 | 2 | 3.0 | 3.0 | 2 |\n",
       "| 67 | 1 | 4 | 120 | 229 | 0 | 2 | 129 | 1 | 2.6 | 2 | 2.0 | 7.0 | 1 |\n",
       "| 37 | 1 | 3 | 130 | 250 | 0 | 0 | 187 | 0 | 3.5 | 3 | 0.0 | 3.0 | 0 |\n",
       "| 41 | 0 | 2 | 130 | 204 | 0 | 2 | 172 | 0 | 1.4 | 1 | 0.0 | 3.0 | 0 |\n",
       "| 56 | 1 | 2 | 120 | 236 | 0 | 0 | 178 | 0 | 0.8 | 1 | 0.0 | 3.0 | 0 |\n",
       "\n"
      ],
      "text/plain": [
       "  age sex cp trestbps chol fbs restecg thalach exang oldpeak slope ca  thal num\n",
       "1 63  1   1  145      233  1   2       150     0     2.3     3     0.0 6.0  0  \n",
       "2 67  1   4  160      286  0   2       108     1     1.5     2     3.0 3.0  2  \n",
       "3 67  1   4  120      229  0   2       129     1     2.6     2     2.0 7.0  1  \n",
       "4 37  1   3  130      250  0   0       187     0     3.5     3     0.0 3.0  0  \n",
       "5 41  0   2  130      204  0   2       172     0     1.4     1     0.0 3.0  0  \n",
       "6 56  1   2  120      236  0   0       178     0     0.8     1     0.0 3.0  0  "
      ]
     },
     "metadata": {},
     "output_type": "display_data"
    }
   ],
   "source": [
    "head(heart_df)"
   ]
  },
  {
   "cell_type": "code",
   "execution_count": 25,
   "id": "c2cdf6c2-a172-4652-b47e-b8e9fc6ebc51",
   "metadata": {},
   "outputs": [],
   "source": [
    "## me trying to figure stuff out here -> good for graph column names later\n",
    "#age - age in years\n",
    "#sex - sex (1 = male, 0 = female)\n",
    "#cp - chest pain type (1 = typical angina, 2 = atypical angina, 3 = non-anginal pain, 4 = asymptomatic)\n",
    "#trestbps - resting blood pressure (in mm Hg on admission to the hospital)\n",
    "#chol - serum cholestoral in mg/dl\n",
    "#fbs - fasting blood sugar > 120 mg/dl (1 = true; 0 = false)\n",
    "#restecg (del?) - resting electrocardiographic results (0 = normal, 1 = having ST-T wave abnormality (T wave inversions and/or ST elevation or depression of > 0.05 mV), 2 = showing probable or definite left ventricular hypertrophy by Estes' criteria\n",
    "#thalach - maximum heart rate achieved\n",
    "#exang (del?) - exercise induced angina (1 = yes; 0 = no)\n",
    "#oldpeak (del?) - ST depression induced by exercise relative to rest\n",
    "#slope (del?) - the slope of the peak exercise ST segment (1 = upsloping, 2 = flat, 3 = downsloping)\n",
    "#ca - number of major vessels (0-3) colored by flourosopy\n",
    "#thal (del?) - 3 = normal; 6 = fixed defect; 7 = reversable defect\n",
    "#num - diagnosis of heart disease (angiographic disease status) (0 = < 50% diameter narrowing, >0 (?) = > 50% diameter narrowing)\n"
   ]
  },
  {
   "cell_type": "code",
   "execution_count": 26,
   "id": "404f5ebf-2679-4139-858b-6192769d07d0",
   "metadata": {},
   "outputs": [
    {
     "data": {
      "text/html": [
       "<table class=\"dataframe\">\n",
       "<caption>A tibble: 6 × 9</caption>\n",
       "<thead>\n",
       "\t<tr><th scope=col>age</th><th scope=col>sex</th><th scope=col>cp</th><th scope=col>trestbps</th><th scope=col>chol</th><th scope=col>fbs</th><th scope=col>thalach</th><th scope=col>ca</th><th scope=col>num</th></tr>\n",
       "\t<tr><th scope=col>&lt;dbl&gt;</th><th scope=col>&lt;dbl&gt;</th><th scope=col>&lt;dbl&gt;</th><th scope=col>&lt;dbl&gt;</th><th scope=col>&lt;dbl&gt;</th><th scope=col>&lt;dbl&gt;</th><th scope=col>&lt;dbl&gt;</th><th scope=col>&lt;chr&gt;</th><th scope=col>&lt;dbl&gt;</th></tr>\n",
       "</thead>\n",
       "<tbody>\n",
       "\t<tr><td>63</td><td>1</td><td>1</td><td>145</td><td>233</td><td>1</td><td>150</td><td>0.0</td><td>0</td></tr>\n",
       "\t<tr><td>67</td><td>1</td><td>4</td><td>160</td><td>286</td><td>0</td><td>108</td><td>3.0</td><td>2</td></tr>\n",
       "\t<tr><td>67</td><td>1</td><td>4</td><td>120</td><td>229</td><td>0</td><td>129</td><td>2.0</td><td>1</td></tr>\n",
       "\t<tr><td>37</td><td>1</td><td>3</td><td>130</td><td>250</td><td>0</td><td>187</td><td>0.0</td><td>0</td></tr>\n",
       "\t<tr><td>41</td><td>0</td><td>2</td><td>130</td><td>204</td><td>0</td><td>172</td><td>0.0</td><td>0</td></tr>\n",
       "\t<tr><td>56</td><td>1</td><td>2</td><td>120</td><td>236</td><td>0</td><td>178</td><td>0.0</td><td>0</td></tr>\n",
       "</tbody>\n",
       "</table>\n"
      ],
      "text/latex": [
       "A tibble: 6 × 9\n",
       "\\begin{tabular}{lllllllll}\n",
       " age & sex & cp & trestbps & chol & fbs & thalach & ca & num\\\\\n",
       " <dbl> & <dbl> & <dbl> & <dbl> & <dbl> & <dbl> & <dbl> & <chr> & <dbl>\\\\\n",
       "\\hline\n",
       "\t 63 & 1 & 1 & 145 & 233 & 1 & 150 & 0.0 & 0\\\\\n",
       "\t 67 & 1 & 4 & 160 & 286 & 0 & 108 & 3.0 & 2\\\\\n",
       "\t 67 & 1 & 4 & 120 & 229 & 0 & 129 & 2.0 & 1\\\\\n",
       "\t 37 & 1 & 3 & 130 & 250 & 0 & 187 & 0.0 & 0\\\\\n",
       "\t 41 & 0 & 2 & 130 & 204 & 0 & 172 & 0.0 & 0\\\\\n",
       "\t 56 & 1 & 2 & 120 & 236 & 0 & 178 & 0.0 & 0\\\\\n",
       "\\end{tabular}\n"
      ],
      "text/markdown": [
       "\n",
       "A tibble: 6 × 9\n",
       "\n",
       "| age &lt;dbl&gt; | sex &lt;dbl&gt; | cp &lt;dbl&gt; | trestbps &lt;dbl&gt; | chol &lt;dbl&gt; | fbs &lt;dbl&gt; | thalach &lt;dbl&gt; | ca &lt;chr&gt; | num &lt;dbl&gt; |\n",
       "|---|---|---|---|---|---|---|---|---|\n",
       "| 63 | 1 | 1 | 145 | 233 | 1 | 150 | 0.0 | 0 |\n",
       "| 67 | 1 | 4 | 160 | 286 | 0 | 108 | 3.0 | 2 |\n",
       "| 67 | 1 | 4 | 120 | 229 | 0 | 129 | 2.0 | 1 |\n",
       "| 37 | 1 | 3 | 130 | 250 | 0 | 187 | 0.0 | 0 |\n",
       "| 41 | 0 | 2 | 130 | 204 | 0 | 172 | 0.0 | 0 |\n",
       "| 56 | 1 | 2 | 120 | 236 | 0 | 178 | 0.0 | 0 |\n",
       "\n"
      ],
      "text/plain": [
       "  age sex cp trestbps chol fbs thalach ca  num\n",
       "1 63  1   1  145      233  1   150     0.0 0  \n",
       "2 67  1   4  160      286  0   108     3.0 2  \n",
       "3 67  1   4  120      229  0   129     2.0 1  \n",
       "4 37  1   3  130      250  0   187     0.0 0  \n",
       "5 41  0   2  130      204  0   172     0.0 0  \n",
       "6 56  1   2  120      236  0   178     0.0 0  "
      ]
     },
     "metadata": {},
     "output_type": "display_data"
    }
   ],
   "source": [
    "filheart_df <- select(heart_df, -restecg, -exang, -oldpeak, -slope, -thal)\n",
    "head(filheart_df)"
   ]
  },
  {
   "cell_type": "code",
   "execution_count": 28,
   "id": "c9cb9c8e-8251-42a1-b421-e2b4c186bcf3",
   "metadata": {},
   "outputs": [
    {
     "data": {
      "text/html": [
       "<table class=\"dataframe\">\n",
       "<caption>A tibble: 6 × 9</caption>\n",
       "<thead>\n",
       "\t<tr><th scope=col>age</th><th scope=col>sex</th><th scope=col>cp</th><th scope=col>trestbps</th><th scope=col>chol</th><th scope=col>fbs</th><th scope=col>thalach</th><th scope=col>ca</th><th scope=col>num</th></tr>\n",
       "\t<tr><th scope=col>&lt;dbl&gt;</th><th scope=col>&lt;dbl&gt;</th><th scope=col>&lt;dbl&gt;</th><th scope=col>&lt;dbl&gt;</th><th scope=col>&lt;dbl&gt;</th><th scope=col>&lt;dbl&gt;</th><th scope=col>&lt;dbl&gt;</th><th scope=col>&lt;chr&gt;</th><th scope=col>&lt;dbl&gt;</th></tr>\n",
       "</thead>\n",
       "<tbody>\n",
       "\t<tr><td>63</td><td>1</td><td>1</td><td>145</td><td>233</td><td>1</td><td>150</td><td>0.0</td><td>0</td></tr>\n",
       "\t<tr><td>37</td><td>1</td><td>3</td><td>130</td><td>250</td><td>0</td><td>187</td><td>0.0</td><td>0</td></tr>\n",
       "\t<tr><td>56</td><td>1</td><td>2</td><td>120</td><td>236</td><td>0</td><td>178</td><td>0.0</td><td>0</td></tr>\n",
       "\t<tr><td>57</td><td>0</td><td>4</td><td>120</td><td>354</td><td>0</td><td>163</td><td>0.0</td><td>0</td></tr>\n",
       "\t<tr><td>57</td><td>1</td><td>4</td><td>140</td><td>192</td><td>0</td><td>148</td><td>0.0</td><td>0</td></tr>\n",
       "\t<tr><td>56</td><td>0</td><td>2</td><td>140</td><td>294</td><td>0</td><td>153</td><td>0.0</td><td>0</td></tr>\n",
       "</tbody>\n",
       "</table>\n"
      ],
      "text/latex": [
       "A tibble: 6 × 9\n",
       "\\begin{tabular}{lllllllll}\n",
       " age & sex & cp & trestbps & chol & fbs & thalach & ca & num\\\\\n",
       " <dbl> & <dbl> & <dbl> & <dbl> & <dbl> & <dbl> & <dbl> & <chr> & <dbl>\\\\\n",
       "\\hline\n",
       "\t 63 & 1 & 1 & 145 & 233 & 1 & 150 & 0.0 & 0\\\\\n",
       "\t 37 & 1 & 3 & 130 & 250 & 0 & 187 & 0.0 & 0\\\\\n",
       "\t 56 & 1 & 2 & 120 & 236 & 0 & 178 & 0.0 & 0\\\\\n",
       "\t 57 & 0 & 4 & 120 & 354 & 0 & 163 & 0.0 & 0\\\\\n",
       "\t 57 & 1 & 4 & 140 & 192 & 0 & 148 & 0.0 & 0\\\\\n",
       "\t 56 & 0 & 2 & 140 & 294 & 0 & 153 & 0.0 & 0\\\\\n",
       "\\end{tabular}\n"
      ],
      "text/markdown": [
       "\n",
       "A tibble: 6 × 9\n",
       "\n",
       "| age &lt;dbl&gt; | sex &lt;dbl&gt; | cp &lt;dbl&gt; | trestbps &lt;dbl&gt; | chol &lt;dbl&gt; | fbs &lt;dbl&gt; | thalach &lt;dbl&gt; | ca &lt;chr&gt; | num &lt;dbl&gt; |\n",
       "|---|---|---|---|---|---|---|---|---|\n",
       "| 63 | 1 | 1 | 145 | 233 | 1 | 150 | 0.0 | 0 |\n",
       "| 37 | 1 | 3 | 130 | 250 | 0 | 187 | 0.0 | 0 |\n",
       "| 56 | 1 | 2 | 120 | 236 | 0 | 178 | 0.0 | 0 |\n",
       "| 57 | 0 | 4 | 120 | 354 | 0 | 163 | 0.0 | 0 |\n",
       "| 57 | 1 | 4 | 140 | 192 | 0 | 148 | 0.0 | 0 |\n",
       "| 56 | 0 | 2 | 140 | 294 | 0 | 153 | 0.0 | 0 |\n",
       "\n"
      ],
      "text/plain": [
       "  age sex cp trestbps chol fbs thalach ca  num\n",
       "1 63  1   1  145      233  1   150     0.0 0  \n",
       "2 37  1   3  130      250  0   187     0.0 0  \n",
       "3 56  1   2  120      236  0   178     0.0 0  \n",
       "4 57  0   4  120      354  0   163     0.0 0  \n",
       "5 57  1   4  140      192  0   148     0.0 0  \n",
       "6 56  0   2  140      294  0   153     0.0 0  "
      ]
     },
     "metadata": {},
     "output_type": "display_data"
    },
    {
     "data": {
      "text/html": [
       "<table class=\"dataframe\">\n",
       "<caption>A tibble: 6 × 9</caption>\n",
       "<thead>\n",
       "\t<tr><th scope=col>age</th><th scope=col>sex</th><th scope=col>cp</th><th scope=col>trestbps</th><th scope=col>chol</th><th scope=col>fbs</th><th scope=col>thalach</th><th scope=col>ca</th><th scope=col>num</th></tr>\n",
       "\t<tr><th scope=col>&lt;dbl&gt;</th><th scope=col>&lt;dbl&gt;</th><th scope=col>&lt;dbl&gt;</th><th scope=col>&lt;dbl&gt;</th><th scope=col>&lt;dbl&gt;</th><th scope=col>&lt;dbl&gt;</th><th scope=col>&lt;dbl&gt;</th><th scope=col>&lt;chr&gt;</th><th scope=col>&lt;dbl&gt;</th></tr>\n",
       "</thead>\n",
       "<tbody>\n",
       "\t<tr><td>67</td><td>1</td><td>4</td><td>120</td><td>229</td><td>0</td><td>129</td><td>2.0</td><td>1</td></tr>\n",
       "\t<tr><td>41</td><td>0</td><td>2</td><td>130</td><td>204</td><td>0</td><td>172</td><td>0.0</td><td>0</td></tr>\n",
       "\t<tr><td>52</td><td>1</td><td>3</td><td>172</td><td>199</td><td>1</td><td>162</td><td>0.0</td><td>0</td></tr>\n",
       "\t<tr><td>57</td><td>1</td><td>3</td><td>150</td><td>168</td><td>0</td><td>174</td><td>0.0</td><td>0</td></tr>\n",
       "\t<tr><td>54</td><td>1</td><td>4</td><td>140</td><td>239</td><td>0</td><td>160</td><td>0.0</td><td>0</td></tr>\n",
       "\t<tr><td>58</td><td>0</td><td>1</td><td>150</td><td>283</td><td>1</td><td>162</td><td>0.0</td><td>0</td></tr>\n",
       "</tbody>\n",
       "</table>\n"
      ],
      "text/latex": [
       "A tibble: 6 × 9\n",
       "\\begin{tabular}{lllllllll}\n",
       " age & sex & cp & trestbps & chol & fbs & thalach & ca & num\\\\\n",
       " <dbl> & <dbl> & <dbl> & <dbl> & <dbl> & <dbl> & <dbl> & <chr> & <dbl>\\\\\n",
       "\\hline\n",
       "\t 67 & 1 & 4 & 120 & 229 & 0 & 129 & 2.0 & 1\\\\\n",
       "\t 41 & 0 & 2 & 130 & 204 & 0 & 172 & 0.0 & 0\\\\\n",
       "\t 52 & 1 & 3 & 172 & 199 & 1 & 162 & 0.0 & 0\\\\\n",
       "\t 57 & 1 & 3 & 150 & 168 & 0 & 174 & 0.0 & 0\\\\\n",
       "\t 54 & 1 & 4 & 140 & 239 & 0 & 160 & 0.0 & 0\\\\\n",
       "\t 58 & 0 & 1 & 150 & 283 & 1 & 162 & 0.0 & 0\\\\\n",
       "\\end{tabular}\n"
      ],
      "text/markdown": [
       "\n",
       "A tibble: 6 × 9\n",
       "\n",
       "| age &lt;dbl&gt; | sex &lt;dbl&gt; | cp &lt;dbl&gt; | trestbps &lt;dbl&gt; | chol &lt;dbl&gt; | fbs &lt;dbl&gt; | thalach &lt;dbl&gt; | ca &lt;chr&gt; | num &lt;dbl&gt; |\n",
       "|---|---|---|---|---|---|---|---|---|\n",
       "| 67 | 1 | 4 | 120 | 229 | 0 | 129 | 2.0 | 1 |\n",
       "| 41 | 0 | 2 | 130 | 204 | 0 | 172 | 0.0 | 0 |\n",
       "| 52 | 1 | 3 | 172 | 199 | 1 | 162 | 0.0 | 0 |\n",
       "| 57 | 1 | 3 | 150 | 168 | 0 | 174 | 0.0 | 0 |\n",
       "| 54 | 1 | 4 | 140 | 239 | 0 | 160 | 0.0 | 0 |\n",
       "| 58 | 0 | 1 | 150 | 283 | 1 | 162 | 0.0 | 0 |\n",
       "\n"
      ],
      "text/plain": [
       "  age sex cp trestbps chol fbs thalach ca  num\n",
       "1 67  1   4  120      229  0   129     2.0 1  \n",
       "2 41  0   2  130      204  0   172     0.0 0  \n",
       "3 52  1   3  172      199  1   162     0.0 0  \n",
       "4 57  1   3  150      168  0   174     0.0 0  \n",
       "5 54  1   4  140      239  0   160     0.0 0  \n",
       "6 58  0   1  150      283  1   162     0.0 0  "
      ]
     },
     "metadata": {},
     "output_type": "display_data"
    }
   ],
   "source": [
    "split <- initial_split(filheart_df, prop = 0.7, strata = num)\n",
    "heart_train <- training(split)\n",
    "heart_test <- testing(split)\n",
    "head(heart_train)\n",
    "head(heart_test)"
   ]
  },
  {
   "cell_type": "code",
   "execution_count": 36,
   "id": "7ec6bfcd-cc21-4b19-9bea-ab343cb93c76",
   "metadata": {},
   "outputs": [
    {
     "data": {
      "text/html": [
       "<table class=\"dataframe\">\n",
       "<caption>A tibble: 6 × 9</caption>\n",
       "<thead>\n",
       "\t<tr><th scope=col>age</th><th scope=col>sex</th><th scope=col>cp</th><th scope=col>trestbps</th><th scope=col>chol</th><th scope=col>fbs</th><th scope=col>thalach</th><th scope=col>ca</th><th scope=col>num</th></tr>\n",
       "\t<tr><th scope=col>&lt;dbl&gt;</th><th scope=col>&lt;fct&gt;</th><th scope=col>&lt;fct&gt;</th><th scope=col>&lt;dbl&gt;</th><th scope=col>&lt;dbl&gt;</th><th scope=col>&lt;dbl&gt;</th><th scope=col>&lt;dbl&gt;</th><th scope=col>&lt;chr&gt;</th><th scope=col>&lt;fct&gt;</th></tr>\n",
       "</thead>\n",
       "<tbody>\n",
       "\t<tr><td>58</td><td>1</td><td>4</td><td>114</td><td>318</td><td>0</td><td>140</td><td>3.0</td><td>4</td></tr>\n",
       "\t<tr><td>60</td><td>1</td><td>4</td><td>130</td><td>206</td><td>0</td><td>132</td><td>2.0</td><td>4</td></tr>\n",
       "\t<tr><td>50</td><td>1</td><td>4</td><td>150</td><td>243</td><td>0</td><td>128</td><td>0.0</td><td>4</td></tr>\n",
       "\t<tr><td>63</td><td>0</td><td>4</td><td>150</td><td>407</td><td>0</td><td>154</td><td>3.0</td><td>4</td></tr>\n",
       "\t<tr><td>57</td><td>1</td><td>4</td><td>165</td><td>289</td><td>1</td><td>124</td><td>3.0</td><td>4</td></tr>\n",
       "\t<tr><td>77</td><td>1</td><td>4</td><td>125</td><td>304</td><td>0</td><td>162</td><td>3.0</td><td>4</td></tr>\n",
       "</tbody>\n",
       "</table>\n"
      ],
      "text/latex": [
       "A tibble: 6 × 9\n",
       "\\begin{tabular}{lllllllll}\n",
       " age & sex & cp & trestbps & chol & fbs & thalach & ca & num\\\\\n",
       " <dbl> & <fct> & <fct> & <dbl> & <dbl> & <dbl> & <dbl> & <chr> & <fct>\\\\\n",
       "\\hline\n",
       "\t 58 & 1 & 4 & 114 & 318 & 0 & 140 & 3.0 & 4\\\\\n",
       "\t 60 & 1 & 4 & 130 & 206 & 0 & 132 & 2.0 & 4\\\\\n",
       "\t 50 & 1 & 4 & 150 & 243 & 0 & 128 & 0.0 & 4\\\\\n",
       "\t 63 & 0 & 4 & 150 & 407 & 0 & 154 & 3.0 & 4\\\\\n",
       "\t 57 & 1 & 4 & 165 & 289 & 1 & 124 & 3.0 & 4\\\\\n",
       "\t 77 & 1 & 4 & 125 & 304 & 0 & 162 & 3.0 & 4\\\\\n",
       "\\end{tabular}\n"
      ],
      "text/markdown": [
       "\n",
       "A tibble: 6 × 9\n",
       "\n",
       "| age &lt;dbl&gt; | sex &lt;fct&gt; | cp &lt;fct&gt; | trestbps &lt;dbl&gt; | chol &lt;dbl&gt; | fbs &lt;dbl&gt; | thalach &lt;dbl&gt; | ca &lt;chr&gt; | num &lt;fct&gt; |\n",
       "|---|---|---|---|---|---|---|---|---|\n",
       "| 58 | 1 | 4 | 114 | 318 | 0 | 140 | 3.0 | 4 |\n",
       "| 60 | 1 | 4 | 130 | 206 | 0 | 132 | 2.0 | 4 |\n",
       "| 50 | 1 | 4 | 150 | 243 | 0 | 128 | 0.0 | 4 |\n",
       "| 63 | 0 | 4 | 150 | 407 | 0 | 154 | 3.0 | 4 |\n",
       "| 57 | 1 | 4 | 165 | 289 | 1 | 124 | 3.0 | 4 |\n",
       "| 77 | 1 | 4 | 125 | 304 | 0 | 162 | 3.0 | 4 |\n",
       "\n"
      ],
      "text/plain": [
       "  age sex cp trestbps chol fbs thalach ca  num\n",
       "1 58  1   4  114      318  0   140     3.0 4  \n",
       "2 60  1   4  130      206  0   132     2.0 4  \n",
       "3 50  1   4  150      243  0   128     0.0 4  \n",
       "4 63  0   4  150      407  0   154     3.0 4  \n",
       "5 57  1   4  165      289  1   124     3.0 4  \n",
       "6 77  1   4  125      304  0   162     3.0 4  "
      ]
     },
     "metadata": {},
     "output_type": "display_data"
    }
   ],
   "source": [
    "justforfun <- filter(heart_train, num !=0) %>%\n",
    "        mutate(num = as.factor(num)) %>%\n",
    "        mutate(sex = as.factor(sex)) %>%\n",
    "        mutate(cp = as.factor(cp)) %>%\n",
    "        arrange(desc(num))\n",
    "head(justforfun)"
   ]
  },
  {
   "cell_type": "markdown",
   "id": "a2e8ed2e-4223-4109-b3e2-9858a868ee28",
   "metadata": {},
   "source": [
    "Details of variables can be found here\n",
    "https://archive.ics.uci.edu/ml/datasets/Heart+Disease"
   ]
  },
  {
   "cell_type": "markdown",
   "id": "84c94c6d-081e-43b3-a81e-8fb877d8a4dc",
   "metadata": {},
   "source": [
    "## 4. Methods"
   ]
  },
  {
   "cell_type": "markdown",
   "id": "2739cfe2-1b7b-414b-86f4-99ab2f0923c4",
   "metadata": {},
   "source": [
    "## 5. Expected outcomes and significance"
   ]
  }
 ],
 "metadata": {
  "kernelspec": {
   "display_name": "R",
   "language": "R",
   "name": "ir"
  },
  "language_info": {
   "codemirror_mode": "r",
   "file_extension": ".r",
   "mimetype": "text/x-r-source",
   "name": "R",
   "pygments_lexer": "r",
   "version": "4.1.3"
  }
 },
 "nbformat": 4,
 "nbformat_minor": 5
}
